{
 "cells": [
  {
   "cell_type": "code",
   "execution_count": 1,
   "metadata": {},
   "outputs": [],
   "source": [
    "import sys\n",
    "ipython = get_ipython()\n",
    "\n",
    "def hide_traceback(exc_tuple=None, filename=None, tb_offset=None,\n",
    "                      exception_only=False, running_compiled_code=False):\n",
    "       etype, value, tb = sys.exc_info()\n",
    "       return ipython._showtraceback(etype, value, ipython.InteractiveTB.get_exception_only(etype, value))\n",
    "\n",
    "ipython.showtraceback = hide_traceback"
   ]
  },
  {
   "cell_type": "code",
   "execution_count": 2,
   "metadata": {},
   "outputs": [
    {
     "name": "stderr",
     "output_type": "stream",
     "text": [
      "Using TensorFlow backend.\n"
     ]
    }
   ],
   "source": [
    "from keras.preprocessing.text import one_hot\n",
    "from keras.preprocessing.sequence import pad_sequences\n",
    "from keras.models import Sequential\n",
    "from keras.layers.core import Activation, Dropout, Dense, Flatten\n",
    "from keras.layers import LSTM\n",
    "from keras.layers import GlobalMaxPooling1D\n",
    "from keras.models import Model\n",
    "from keras.layers.embeddings import Embedding\n",
    "from sklearn.model_selection import train_test_split\n",
    "from keras.preprocessing.text import Tokenizer\n",
    "from keras.layers import Input\n",
    "from keras.layers.merge import Concatenate\n",
    "from keras.layers.normalization import BatchNormalization\n",
    "from keras import regularizers\n",
    "from keras.initializers import Constant\n",
    "from keras.layers import *\n",
    "\n",
    "import os\n",
    "import pandas as pd\n",
    "import numpy as np\n",
    "from numpy import array\n",
    "import re"
   ]
  },
  {
   "cell_type": "code",
   "execution_count": 3,
   "metadata": {},
   "outputs": [],
   "source": [
    "fname = os.path.join(os.path.dirname(os.getcwd()), 'xlsx_data', f\"{'xlsx_#10_final'}.xlsx\")\n",
    "cname = os.path.join(os.path.dirname(os.getcwd()), 'xlsx_data', f\"{'xlsx_#10_case'}.xlsx\")\n",
    "lname = os.path.join(os.path.dirname(os.getcwd()), 'xlsx_data', f\"{'xlsx_#10_law'}.xlsx\")\n",
    "\n",
    "dff = pd.read_excel(fname, index_col=0)\n",
    "dfc = pd.read_excel(cname, index_col=0)\n",
    "dfl = pd.read_excel(lname, index_col=0)\n",
    "\n",
    "df = pd.concat([dff[['text', 'y_sentence']], dfc[1:], dfl[1:]], axis=1).reindex(dff.index)\n",
    "df = df.dropna(subset=['y_sentence'])\n",
    "df = df[df['y_sentence'] < 481]"
   ]
  },
  {
   "cell_type": "code",
   "execution_count": 4,
   "metadata": {},
   "outputs": [],
   "source": [
    "X = df.drop('y_sentence', axis=1)\n",
    "y = df['y_sentence']"
   ]
  },
  {
   "cell_type": "code",
   "execution_count": 5,
   "metadata": {},
   "outputs": [],
   "source": [
    "X_train, X_test, y_train, y_test = train_test_split(X, y, test_size=0.1, random_state=42)"
   ]
  },
  {
   "cell_type": "code",
   "execution_count": 6,
   "metadata": {},
   "outputs": [],
   "source": [
    "X1_train = X_train[dfc.columns[1:]]\n",
    "X1_test = X_test[dfc.columns[1:]]\n",
    "\n",
    "X2_train = X_train[dfl.columns[1:]]\n",
    "X2_test = X_test[dfl.columns[1:]]\n"
   ]
  },
  {
   "cell_type": "code",
   "execution_count": 7,
   "metadata": {},
   "outputs": [],
   "source": [
    "X3_train = list(X_train[\"text\"])\n",
    "X3_test = list(X_test[\"text\"])\n",
    "\n",
    "max_features = 30000\n",
    "sequence_length = 128\n",
    "\n",
    "tokenizer = Tokenizer(num_words=max_features, split=' ', oov_token='<unw>')\n",
    "tokenizer.fit_on_texts(X3_train)\n",
    "\n",
    "X3_train = tokenizer.texts_to_sequences(X3_train)\n",
    "X3_test = tokenizer.texts_to_sequences(X3_test)\n",
    "\n",
    "X3_train = pad_sequences(X3_train, sequence_length)\n",
    "X3_test = pad_sequences(X3_test, sequence_length)"
   ]
  },
  {
   "cell_type": "code",
   "execution_count": 8,
   "metadata": {},
   "outputs": [],
   "source": [
    "input_1 = Input(shape=(687,))\n",
    "input_2 = Input(shape=(663,))\n",
    "\n",
    "#dense_layer_1_0 = Dense(48, activation='relu')(input_1)\n",
    "dense_layer_1_1 = Dense(20, activation='relu')(input_1)\n",
    "dense_layer_1_2 = Dense(10, activation='relu')(dense_layer_1_1)\n",
    "dropout_1_3 = Dropout(0.2)(dense_layer_1_2)\n",
    "\n",
    "dense_layer_2_1 = Dense(20, activation='relu')(input_2)\n",
    "dense_layer_2_2 = Dense(10, activation='relu')(dense_layer_2_1)\n",
    "dropout_2_3 = Dropout(0.2)(dense_layer_2_2)"
   ]
  },
  {
   "cell_type": "code",
   "execution_count": null,
   "metadata": {},
   "outputs": [],
   "source": []
  },
  {
   "cell_type": "code",
   "execution_count": 9,
   "metadata": {},
   "outputs": [
    {
     "name": "stdout",
     "output_type": "stream",
     "text": [
      "23441\n"
     ]
    }
   ],
   "source": [
    "embeddings_index = {}\n",
    "f = open(os.path.join(os.path.dirname(os.getcwd()), 'data_processing', 'ft_0814t.txt'),  encoding='utf-8')\n",
    "for line in f:\n",
    "    values = line.split()\n",
    "    word = values[0]\n",
    "    coefs = np.asarray(values[1:], dtype='float32')\n",
    "    embeddings_index[word] = coefs\n",
    "f.close()\n",
    "\n",
    "word_index = tokenizer.word_index\n",
    "\n",
    "num_words = min(max_features, len(word_index)) + 1\n",
    "print(num_words)\n",
    "embedding_dim = 128\n",
    "num_filters = 100\n",
    "\n",
    "embedding_matrix = np.zeros((num_words, embedding_dim))\n",
    "\n",
    "for word, i in word_index.items():\n",
    "    if i > max_features:\n",
    "        continue\n",
    "    embedding_vector = embeddings_index.get(word)\n",
    "    if embedding_vector is not None:\n",
    "        embedding_matrix[i] = embedding_vector\n",
    "    else:\n",
    "        embedding_matrix[i] = np.random.randn(embedding_dim)"
   ]
  },
  {
   "cell_type": "code",
   "execution_count": 10,
   "metadata": {},
   "outputs": [],
   "source": [
    "input_3 = Input(shape=(sequence_length,), dtype='int32')\n",
    "embedding_layer_3 = Embedding(num_words,\n",
    "                            embedding_dim,\n",
    "                            embeddings_initializer=Constant(embedding_matrix),\n",
    "                            input_length=sequence_length,\n",
    "                            trainable=True)(input_3)\n",
    "\n",
    "reshape_3 = Reshape((sequence_length, embedding_dim, 1))(embedding_layer_3)\n",
    "\n",
    "conv_0_3 = Conv2D(num_filters, kernel_size=(3, embedding_dim), activation='relu', kernel_regularizer=regularizers.l2(3))(reshape_3)\n",
    "conv_1_3 = Conv2D(num_filters, kernel_size=(4, embedding_dim), activation='relu', kernel_regularizer=regularizers.l2(3))(reshape_3)\n",
    "conv_2_3 = Conv2D(num_filters, kernel_size=(5, embedding_dim), activation='relu', kernel_regularizer=regularizers.l2(3))(reshape_3)\n",
    "\n",
    "maxpool_0_3 = MaxPool2D(pool_size=(sequence_length - 3 + 1, 1), strides=(1,1), padding='valid')(conv_0_3)\n",
    "maxpool_1_3 = MaxPool2D(pool_size=(sequence_length - 4 + 1, 1), strides=(1,1), padding='valid')(conv_1_3)\n",
    "maxpool_2_3 = MaxPool2D(pool_size=(sequence_length - 5 + 1, 1), strides=(1,1), padding='valid')(conv_2_3)\n",
    "\n",
    "concatenated_tensor_3 = Concatenate(axis=1)([maxpool_0_3, maxpool_1_3, maxpool_2_3])\n",
    "flatten_3 = Flatten()(concatenated_tensor_3)\n",
    "dropout_3 = Dropout(0.5)(flatten_3)\n",
    "#dense_layer_3 = Dense(12, activation='relu')(dropout_3)"
   ]
  },
  {
   "cell_type": "code",
   "execution_count": 11,
   "metadata": {},
   "outputs": [],
   "source": [
    "concat_layer = Concatenate()([dropout_1_3, dropout_2_3, dropout_3])\n",
    "dense_layer_3 = Dense(10, activation='relu')(concat_layer)\n",
    "output = Dense(1, activation='linear')(dense_layer_3)\n",
    "model = Model(inputs=[input_1, input_2, input_3], outputs=output)"
   ]
  },
  {
   "cell_type": "code",
   "execution_count": 12,
   "metadata": {},
   "outputs": [
    {
     "name": "stdout",
     "output_type": "stream",
     "text": [
      "Model: \"model_1\"\n",
      "__________________________________________________________________________________________________\n",
      "Layer (type)                    Output Shape         Param #     Connected to                     \n",
      "==================================================================================================\n",
      "input_3 (InputLayer)            (None, 128)          0                                            \n",
      "__________________________________________________________________________________________________\n",
      "embedding_1 (Embedding)         (None, 128, 128)     3000448     input_3[0][0]                    \n",
      "__________________________________________________________________________________________________\n",
      "reshape_1 (Reshape)             (None, 128, 128, 1)  0           embedding_1[0][0]                \n",
      "__________________________________________________________________________________________________\n",
      "conv2d_1 (Conv2D)               (None, 126, 1, 100)  38500       reshape_1[0][0]                  \n",
      "__________________________________________________________________________________________________\n",
      "conv2d_2 (Conv2D)               (None, 125, 1, 100)  51300       reshape_1[0][0]                  \n",
      "__________________________________________________________________________________________________\n",
      "conv2d_3 (Conv2D)               (None, 124, 1, 100)  64100       reshape_1[0][0]                  \n",
      "__________________________________________________________________________________________________\n",
      "input_1 (InputLayer)            (None, 687)          0                                            \n",
      "__________________________________________________________________________________________________\n",
      "input_2 (InputLayer)            (None, 663)          0                                            \n",
      "__________________________________________________________________________________________________\n",
      "max_pooling2d_1 (MaxPooling2D)  (None, 1, 1, 100)    0           conv2d_1[0][0]                   \n",
      "__________________________________________________________________________________________________\n",
      "max_pooling2d_2 (MaxPooling2D)  (None, 1, 1, 100)    0           conv2d_2[0][0]                   \n",
      "__________________________________________________________________________________________________\n",
      "max_pooling2d_3 (MaxPooling2D)  (None, 1, 1, 100)    0           conv2d_3[0][0]                   \n",
      "__________________________________________________________________________________________________\n",
      "dense_1 (Dense)                 (None, 20)           13760       input_1[0][0]                    \n",
      "__________________________________________________________________________________________________\n",
      "dense_3 (Dense)                 (None, 20)           13280       input_2[0][0]                    \n",
      "__________________________________________________________________________________________________\n",
      "concatenate_1 (Concatenate)     (None, 3, 1, 100)    0           max_pooling2d_1[0][0]            \n",
      "                                                                 max_pooling2d_2[0][0]            \n",
      "                                                                 max_pooling2d_3[0][0]            \n",
      "__________________________________________________________________________________________________\n",
      "dense_2 (Dense)                 (None, 10)           210         dense_1[0][0]                    \n",
      "__________________________________________________________________________________________________\n",
      "dense_4 (Dense)                 (None, 10)           210         dense_3[0][0]                    \n",
      "__________________________________________________________________________________________________\n",
      "flatten_1 (Flatten)             (None, 300)          0           concatenate_1[0][0]              \n",
      "__________________________________________________________________________________________________\n",
      "dropout_1 (Dropout)             (None, 10)           0           dense_2[0][0]                    \n",
      "__________________________________________________________________________________________________\n",
      "dropout_2 (Dropout)             (None, 10)           0           dense_4[0][0]                    \n",
      "__________________________________________________________________________________________________\n",
      "dropout_3 (Dropout)             (None, 300)          0           flatten_1[0][0]                  \n",
      "__________________________________________________________________________________________________\n",
      "concatenate_2 (Concatenate)     (None, 320)          0           dropout_1[0][0]                  \n",
      "                                                                 dropout_2[0][0]                  \n",
      "                                                                 dropout_3[0][0]                  \n",
      "__________________________________________________________________________________________________\n",
      "dense_5 (Dense)                 (None, 10)           3210        concatenate_2[0][0]              \n",
      "__________________________________________________________________________________________________\n",
      "dense_6 (Dense)                 (None, 1)            11          dense_5[0][0]                    \n",
      "==================================================================================================\n",
      "Total params: 3,185,029\n",
      "Trainable params: 3,185,029\n",
      "Non-trainable params: 0\n",
      "__________________________________________________________________________________________________\n",
      "None\n"
     ]
    }
   ],
   "source": [
    "model.compile(loss='mse', optimizer='adam', metrics=['mse', 'mae', 'mape', 'cosine'])\n",
    "print(model.summary())"
   ]
  },
  {
   "cell_type": "code",
   "execution_count": 13,
   "metadata": {},
   "outputs": [
    {
     "name": "stderr",
     "output_type": "stream",
     "text": [
      "C:\\ProgramData\\Anaconda3\\lib\\site-packages\\tensorflow_core\\python\\framework\\indexed_slices.py:433: UserWarning: Converting sparse IndexedSlices to a dense Tensor of unknown shape. This may consume a large amount of memory.\n",
      "  \"Converting sparse IndexedSlices to a dense Tensor of unknown shape. \"\n"
     ]
    },
    {
     "name": "stdout",
     "output_type": "stream",
     "text": [
      "Train on 3193 samples, validate on 355 samples\n",
      "Epoch 1/50\n",
      "3193/3193 [==============================] - 3s 964us/step - loss: 2101.8580 - mse: 2073.4385 - mae: 20.4238 - mape: 958442496.0000 - cosine: 0.8274 - val_loss: 1496.0230 - val_mse: 1448.2572 - val_mae: 17.9518 - val_mape: 2444481024.0000 - val_cosine: 0.8366\n",
      "Epoch 2/50\n",
      "3193/3193 [==============================] - 1s 181us/step - loss: 1695.9084 - mse: 1632.3300 - mae: 21.4544 - mape: 3131840000.0000 - cosine: 0.8569 - val_loss: 1392.2037 - val_mse: 1324.4644 - val_mae: 20.7889 - val_mape: 3806395904.0000 - val_cosine: 0.8366\n",
      "Epoch 3/50\n",
      "3193/3193 [==============================] - 1s 176us/step - loss: 1564.9465 - mse: 1496.4701 - mae: 21.1033 - mape: 3311619328.0000 - cosine: 0.8569 - val_loss: 1331.8456 - val_mse: 1260.9531 - val_mae: 20.2824 - val_mape: 3839303424.0000 - val_cosine: 0.8366\n",
      "Epoch 4/50\n",
      "3193/3193 [==============================] - 1s 180us/step - loss: 1445.0639 - mse: 1369.0027 - mae: 20.5097 - mape: 3413641728.0000 - cosine: 0.8569 - val_loss: 1269.0341 - val_mse: 1187.5996 - val_mae: 19.5001 - val_mape: 3852165888.0000 - val_cosine: 0.8366\n",
      "Epoch 5/50\n",
      "3193/3193 [==============================] - 1s 179us/step - loss: 1313.7502 - mse: 1223.9832 - mae: 18.5374 - mape: 3206039552.0000 - cosine: 0.8569 - val_loss: 1197.6924 - val_mse: 1095.1564 - val_mae: 19.0518 - val_mape: 3939382272.0000 - val_cosine: 0.8366\n",
      "Epoch 6/50\n",
      "3193/3193 [==============================] - 1s 181us/step - loss: 1190.2511 - mse: 1075.8232 - mae: 17.5131 - mape: 3027874048.0000 - cosine: 0.8569 - val_loss: 1134.8705 - val_mse: 1007.8901 - val_mae: 17.5052 - val_mape: 3397483776.0000 - val_cosine: 0.8366\n",
      "Epoch 7/50\n",
      "3193/3193 [==============================] - 1s 177us/step - loss: 1074.7425 - mse: 938.3475 - mae: 16.3459 - mape: 2608653312.0000 - cosine: 0.8562 - val_loss: 1091.4712 - val_mse: 945.3411 - val_mae: 16.4897 - val_mape: 2667461120.0000 - val_cosine: 0.8310\n",
      "Epoch 8/50\n",
      "3193/3193 [==============================] - 1s 175us/step - loss: 993.6052 - mse: 839.8023 - mae: 15.0411 - mape: 2039998336.0000 - cosine: 0.8425 - val_loss: 1042.0689 - val_mse: 879.4926 - val_mae: 16.2227 - val_mape: 2576514816.0000 - val_cosine: 0.8254\n",
      "Epoch 9/50\n",
      "3193/3193 [==============================] - 1s 177us/step - loss: 891.5861 - mse: 721.2153 - mae: 14.3851 - mape: 1952629120.0000 - cosine: 0.8387 - val_loss: 1010.5554 - val_mse: 828.6870 - val_mae: 16.2520 - val_mape: 2601723392.0000 - val_cosine: 0.8310\n",
      "Epoch 10/50\n",
      "3193/3193 [==============================] - 1s 175us/step - loss: 795.4299 - mse: 606.6378 - mae: 13.3309 - mape: 1721377536.0000 - cosine: 0.8375 - val_loss: 982.5705 - val_mse: 784.9228 - val_mae: 15.4061 - val_mape: 2250752512.0000 - val_cosine: 0.8310\n",
      "Epoch 11/50\n",
      "3193/3193 [==============================] - 1s 180us/step - loss: 700.7624 - mse: 495.9699 - mae: 12.4109 - mape: 1628909312.0000 - cosine: 0.8337 - val_loss: 960.4632 - val_mse: 749.2379 - val_mae: 14.6485 - val_mape: 1937520384.0000 - val_cosine: 0.8254\n",
      "Epoch 12/50\n",
      "3193/3193 [==============================] - 1s 178us/step - loss: 636.8112 - mse: 423.9791 - mae: 11.8559 - mape: 1534111872.0000 - cosine: 0.8274 - val_loss: 933.6742 - val_mse: 716.4556 - val_mae: 14.6479 - val_mape: 2142148608.0000 - val_cosine: 0.8310\n",
      "Epoch 13/50\n",
      "3193/3193 [==============================] - 1s 176us/step - loss: 592.4925 - mse: 369.8600 - mae: 11.2999 - mape: 1441429120.0000 - cosine: 0.8218 - val_loss: 929.1582 - val_mse: 703.8396 - val_mae: 14.0893 - val_mape: 1834329344.0000 - val_cosine: 0.8254\n",
      "Epoch 14/50\n",
      "3193/3193 [==============================] - 1s 176us/step - loss: 536.8887 - mse: 310.6980 - mae: 10.6457 - mape: 1402854272.0000 - cosine: 0.8237 - val_loss: 915.1234 - val_mse: 688.7360 - val_mae: 14.0557 - val_mape: 1913593984.0000 - val_cosine: 0.8310\n",
      "Epoch 15/50\n",
      "3193/3193 [==============================] - 1s 177us/step - loss: 513.2484 - mse: 289.8166 - mae: 10.3189 - mape: 1412791168.0000 - cosine: 0.8356 - val_loss: 880.9829 - val_mse: 656.7695 - val_mae: 14.6531 - val_mape: 2286465280.0000 - val_cosine: 0.8366\n",
      "Epoch 16/50\n",
      "3193/3193 [==============================] - 1s 175us/step - loss: 480.8487 - mse: 258.1075 - mae: 10.1728 - mape: 1312657152.0000 - cosine: 0.8400 - val_loss: 897.5529 - val_mse: 676.8377 - val_mae: 13.6319 - val_mape: 1689817472.0000 - val_cosine: 0.8310\n",
      "Epoch 17/50\n",
      "3193/3193 [==============================] - 1s 183us/step - loss: 454.4938 - mse: 234.5174 - mae: 9.6790 - mape: 1289808768.0000 - cosine: 0.8512 - val_loss: 880.5622 - val_mse: 662.5007 - val_mae: 13.6122 - val_mape: 1807542272.0000 - val_cosine: 0.8366\n",
      "Epoch 18/50\n",
      "3193/3193 [==============================] - 1s 176us/step - loss: 412.8520 - mse: 199.6195 - mae: 9.1796 - mape: 1250540032.0000 - cosine: 0.8500 - val_loss: 848.2650 - val_mse: 638.1896 - val_mae: 13.7048 - val_mape: 2014343680.0000 - val_cosine: 0.8366\n",
      "Epoch 19/50\n",
      "3193/3193 [==============================] - 1s 174us/step - loss: 410.4068 - mse: 205.2519 - mae: 9.2353 - mape: 1226739840.0000 - cosine: 0.8569 - val_loss: 833.7018 - val_mse: 630.1933 - val_mae: 13.7086 - val_mape: 1981452544.0000 - val_cosine: 0.8366\n",
      "Epoch 20/50\n",
      "3193/3193 [==============================] - 1s 176us/step - loss: 391.0524 - mse: 191.5883 - mae: 8.8851 - mape: 1236474752.0000 - cosine: 0.8550 - val_loss: 824.7841 - val_mse: 626.4013 - val_mae: 13.5802 - val_mape: 1886861952.0000 - val_cosine: 0.8366\n",
      "Epoch 21/50\n",
      "3193/3193 [==============================] - 1s 176us/step - loss: 366.6948 - mse: 171.3825 - mae: 8.5768 - mape: 1140921728.0000 - cosine: 0.8556 - val_loss: 814.5514 - val_mse: 621.5555 - val_mae: 13.4108 - val_mape: 1769102464.0000 - val_cosine: 0.8366\n",
      "Epoch 22/50\n",
      "3193/3193 [==============================] - 1s 174us/step - loss: 364.9238 - mse: 177.0578 - mae: 8.6149 - mape: 1167439360.0000 - cosine: 0.8550 - val_loss: 837.5147 - val_mse: 654.3123 - val_mae: 13.3294 - val_mape: 1629374464.0000 - val_cosine: 0.8366\n",
      "Epoch 23/50\n",
      "3193/3193 [==============================] - 1s 180us/step - loss: 345.6883 - mse: 164.6031 - mae: 8.4034 - mape: 1139855360.0000 - cosine: 0.8562 - val_loss: 791.9409 - val_mse: 613.7444 - val_mae: 13.2383 - val_mape: 1700174208.0000 - val_cosine: 0.8366\n",
      "Epoch 24/50\n",
      "3193/3193 [==============================] - 1s 179us/step - loss: 322.9283 - mse: 148.5266 - mae: 8.1784 - mape: 1129285120.0000 - cosine: 0.8550 - val_loss: 802.0096 - val_mse: 631.8603 - val_mae: 13.2718 - val_mape: 1724676736.0000 - val_cosine: 0.8366\n",
      "Epoch 25/50\n",
      "3193/3193 [==============================] - 1s 178us/step - loss: 325.8033 - mse: 159.0278 - mae: 8.1392 - mape: 1098494336.0000 - cosine: 0.8562 - val_loss: 791.7122 - val_mse: 627.4639 - val_mae: 13.2512 - val_mape: 1750034816.0000 - val_cosine: 0.8366\n",
      "Epoch 26/50\n",
      "3193/3193 [==============================] - 1s 177us/step - loss: 310.3712 - mse: 146.6200 - mae: 8.0289 - mape: 1101717376.0000 - cosine: 0.8569 - val_loss: 770.9708 - val_mse: 608.5460 - val_mae: 13.4437 - val_mape: 1877297024.0000 - val_cosine: 0.8366\n",
      "Epoch 27/50\n",
      "3193/3193 [==============================] - 1s 179us/step - loss: 289.4658 - mse: 130.5004 - mae: 7.6988 - mape: 1128815104.0000 - cosine: 0.8562 - val_loss: 759.7119 - val_mse: 603.0192 - val_mae: 13.3738 - val_mape: 1818086272.0000 - val_cosine: 0.8366\n",
      "Epoch 28/50\n",
      "3193/3193 [==============================] - 1s 177us/step - loss: 304.5358 - mse: 152.2247 - mae: 8.1013 - mape: 1085468928.0000 - cosine: 0.8569 - val_loss: 766.7916 - val_mse: 616.4438 - val_mae: 13.1098 - val_mape: 1686734208.0000 - val_cosine: 0.8366\n",
      "Epoch 29/50\n",
      "3193/3193 [==============================] - 1s 179us/step - loss: 285.4931 - mse: 136.8405 - mae: 7.7851 - mape: 1067498880.0000 - cosine: 0.8537 - val_loss: 775.4304 - val_mse: 628.8107 - val_mae: 13.2321 - val_mape: 1684091008.0000 - val_cosine: 0.8366\n",
      "Epoch 30/50\n",
      "3193/3193 [==============================] - 1s 180us/step - loss: 286.7580 - mse: 141.8833 - mae: 7.7540 - mape: 1029818368.0000 - cosine: 0.8562 - val_loss: 735.8683 - val_mse: 592.4909 - val_mae: 13.2863 - val_mape: 1769347584.0000 - val_cosine: 0.8366\n",
      "Epoch 31/50\n"
     ]
    },
    {
     "name": "stdout",
     "output_type": "stream",
     "text": [
      "3193/3193 [==============================] - 1s 176us/step - loss: 281.6259 - mse: 137.9815 - mae: 7.7639 - mape: 1089347200.0000 - cosine: 0.8556 - val_loss: 747.1422 - val_mse: 603.7012 - val_mae: 13.1974 - val_mape: 1749757440.0000 - val_cosine: 0.8366\n",
      "Epoch 32/50\n",
      "3193/3193 [==============================] - 1s 180us/step - loss: 275.6070 - mse: 133.9082 - mae: 7.4521 - mape: 1053851456.0000 - cosine: 0.8569 - val_loss: 736.1344 - val_mse: 596.2150 - val_mae: 13.1876 - val_mape: 1754033024.0000 - val_cosine: 0.8366\n",
      "Epoch 33/50\n",
      "3193/3193 [==============================] - 1s 179us/step - loss: 272.1465 - mse: 133.4409 - mae: 7.4740 - mape: 1022712000.0000 - cosine: 0.8562 - val_loss: 727.2076 - val_mse: 589.2005 - val_mae: 13.3900 - val_mape: 1949426048.0000 - val_cosine: 0.8366\n",
      "Epoch 34/50\n",
      "3193/3193 [==============================] - 1s 177us/step - loss: 265.9296 - mse: 131.2632 - mae: 7.3794 - mape: 1016046656.0000 - cosine: 0.8562 - val_loss: 752.9440 - val_mse: 620.1378 - val_mae: 13.0525 - val_mape: 1674959488.0000 - val_cosine: 0.8366\n",
      "Epoch 35/50\n",
      "3193/3193 [==============================] - 1s 175us/step - loss: 259.4817 - mse: 127.3635 - mae: 7.3162 - mape: 993890944.0000 - cosine: 0.8562 - val_loss: 716.4742 - val_mse: 585.1307 - val_mae: 13.1633 - val_mape: 1792868864.0000 - val_cosine: 0.8366\n",
      "Epoch 36/50\n",
      "3193/3193 [==============================] - 1s 179us/step - loss: 254.1802 - mse: 124.6408 - mae: 7.1962 - mape: 1009640000.0000 - cosine: 0.8562 - val_loss: 753.3799 - val_mse: 625.7384 - val_mae: 13.0459 - val_mape: 1591153536.0000 - val_cosine: 0.8366\n",
      "Epoch 37/50\n",
      "3193/3193 [==============================] - 1s 177us/step - loss: 245.8336 - mse: 119.8443 - mae: 7.1335 - mape: 919681472.0000 - cosine: 0.8562 - val_loss: 697.9000 - val_mse: 572.6077 - val_mae: 13.1717 - val_mape: 1849605760.0000 - val_cosine: 0.8366\n",
      "Epoch 38/50\n",
      "3193/3193 [==============================] - 1s 177us/step - loss: 243.5412 - mse: 119.2934 - mae: 7.1502 - mape: 940178240.0000 - cosine: 0.8550 - val_loss: 716.3857 - val_mse: 592.9652 - val_mae: 13.0696 - val_mape: 1611279488.0000 - val_cosine: 0.8366\n",
      "Epoch 39/50\n",
      "3193/3193 [==============================] - 1s 178us/step - loss: 231.4436 - mse: 109.9837 - mae: 6.9329 - mape: 930133120.0000 - cosine: 0.8562 - val_loss: 718.2378 - val_mse: 598.5461 - val_mae: 13.0855 - val_mape: 1745314176.0000 - val_cosine: 0.8366\n",
      "Epoch 40/50\n",
      "3193/3193 [==============================] - 1s 178us/step - loss: 232.4783 - mse: 114.4528 - mae: 6.8194 - mape: 946795648.0000 - cosine: 0.8562 - val_loss: 694.8929 - val_mse: 577.5196 - val_mae: 13.1158 - val_mape: 1674398592.0000 - val_cosine: 0.8366\n",
      "Epoch 41/50\n",
      "3193/3193 [==============================] - 1s 179us/step - loss: 225.2504 - mse: 108.7770 - mae: 6.8057 - mape: 872485184.0000 - cosine: 0.8562 - val_loss: 695.5517 - val_mse: 578.1483 - val_mae: 13.1150 - val_mape: 1763935232.0000 - val_cosine: 0.8366\n",
      "Epoch 42/50\n",
      "3193/3193 [==============================] - 1s 175us/step - loss: 223.6889 - mse: 106.9987 - mae: 6.6728 - mape: 881648000.0000 - cosine: 0.8569 - val_loss: 695.3839 - val_mse: 579.2905 - val_mae: 13.2141 - val_mape: 1725602432.0000 - val_cosine: 0.8366\n",
      "Epoch 43/50\n",
      "3193/3193 [==============================] - 1s 179us/step - loss: 214.0702 - mse: 101.0626 - mae: 6.5582 - mape: 877903104.0000 - cosine: 0.8562 - val_loss: 702.9897 - val_mse: 591.5211 - val_mae: 13.0687 - val_mape: 1812001536.0000 - val_cosine: 0.8366\n",
      "Epoch 44/50\n",
      "3193/3193 [==============================] - 1s 178us/step - loss: 212.9038 - mse: 102.7467 - mae: 6.5388 - mape: 840238592.0000 - cosine: 0.8562 - val_loss: 715.3242 - val_mse: 606.2365 - val_mae: 13.0253 - val_mape: 1588568320.0000 - val_cosine: 0.8366\n",
      "Epoch 45/50\n",
      "3193/3193 [==============================] - 1s 176us/step - loss: 200.9396 - mse: 92.7667 - mae: 6.3777 - mape: 797712576.0000 - cosine: 0.8562 - val_loss: 697.8708 - val_mse: 590.4138 - val_mae: 13.0690 - val_mape: 1766233600.0000 - val_cosine: 0.8366\n",
      "Epoch 46/50\n",
      "3193/3193 [==============================] - 1s 175us/step - loss: 197.5024 - mse: 91.5789 - mae: 6.1657 - mape: 798775616.0000 - cosine: 0.8556 - val_loss: 705.1738 - val_mse: 600.4785 - val_mae: 12.9601 - val_mape: 1694914688.0000 - val_cosine: 0.8366\n",
      "Epoch 47/50\n",
      "3193/3193 [==============================] - 1s 179us/step - loss: 203.7661 - mse: 100.4146 - mae: 6.3028 - mape: 784018816.0000 - cosine: 0.8569 - val_loss: 714.2119 - val_mse: 612.3510 - val_mae: 13.0566 - val_mape: 1573073664.0000 - val_cosine: 0.8366\n",
      "Epoch 48/50\n",
      "3193/3193 [==============================] - 1s 176us/step - loss: 204.8509 - mse: 103.0910 - mae: 6.3947 - mape: 778167168.0000 - cosine: 0.8569 - val_loss: 700.2125 - val_mse: 597.4170 - val_mae: 13.2827 - val_mape: 1875408128.0000 - val_cosine: 0.8366\n",
      "Epoch 49/50\n",
      "3193/3193 [==============================] - 1s 180us/step - loss: 197.5209 - mse: 94.3555 - mae: 6.1856 - mape: 744037632.0000 - cosine: 0.8550 - val_loss: 694.1405 - val_mse: 589.6494 - val_mae: 13.1468 - val_mape: 1796375552.0000 - val_cosine: 0.8366\n",
      "Epoch 50/50\n",
      "3193/3193 [==============================] - 1s 178us/step - loss: 212.7104 - mse: 109.8287 - mae: 6.3981 - mape: 783861056.0000 - cosine: 0.8556 - val_loss: 730.6178 - val_mse: 629.7818 - val_mae: 13.0249 - val_mape: 1506628864.0000 - val_cosine: 0.8366\n"
     ]
    }
   ],
   "source": [
    "history = model.fit(x=[X1_train, X2_train, X3_train], y=y_train, batch_size=128, epochs=50, \n",
    "                   verbose=1, validation_split=0.1)# , callbacks=[early_stopping])"
   ]
  },
  {
   "cell_type": "code",
   "execution_count": 14,
   "metadata": {},
   "outputs": [
    {
     "data": {
      "image/png": "[encoded data removed]",
      "text/plain": [
       "<Figure size 432x288 with 1 Axes>"
      ]
     },
     "metadata": {
      "needs_background": "light"
     },
     "output_type": "display_data"
    }
   ],
   "source": [
    "import matplotlib.pyplot as plt\n",
    "\n",
    "plt.plot(history.history['mse'])\n",
    "plt.plot(history.history['val_mse'])\n",
    "\n",
    "plt.title('model mae')\n",
    "plt.ylabel('mse')\n",
    "plt.xlabel('epoch')\n",
    "plt.legend(['train','test'], loc='upper left')\n",
    "plt.show()"
   ]
  },
  {
   "cell_type": "code",
   "execution_count": 15,
   "metadata": {},
   "outputs": [
    {
     "name": "stdout",
     "output_type": "stream",
     "text": [
      "395/395 [==============================] - 0s 479us/step\n",
      "[428.8122890810423, 327.9762878417969, 10.875032424926758, 2137706368.0, 0.8050633072853088]\n",
      "Test Score: 428.8122890810423\n",
      "Test MSE: 327.9762878417969\n"
     ]
    }
   ],
   "source": [
    "score = model.evaluate(x=[X1_test, X2_test, X3_test], y=y_test, verbose=1)\n",
    "print(score)\n",
    "print(\"Test Score:\", score[0])\n",
    "print(\"Test MSE:\", score[1])\n",
    "#print(\"Test MAE: \", score[2])"
   ]
  },
  {
   "cell_type": "code",
   "execution_count": null,
   "metadata": {},
   "outputs": [],
   "source": []
  }
 ],
 "metadata": {
  "kernelspec": {
   "display_name": "Python 3",
   "language": "python",
   "name": "python3"
  },
  "language_info": {
   "codemirror_mode": {
    "name": "ipython",
    "version": 3
   },
   "file_extension": ".py",
   "mimetype": "text/x-python",
   "name": "python",
   "nbconvert_exporter": "python",
   "pygments_lexer": "ipython3",
   "version": "3.7.7"
  }
 },
 "nbformat": 4,
 "nbformat_minor": 4
}
