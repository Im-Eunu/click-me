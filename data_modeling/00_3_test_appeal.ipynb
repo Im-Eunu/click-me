{
 "cells": [
  {
   "cell_type": "code",
   "execution_count": 1,
   "metadata": {},
   "outputs": [],
   "source": [
    "import os\n",
    "import pandas as pd\n",
    "import numpy as np\n",
    "import tensorflow as tf\n",
    "from sklearn.model_selection import train_test_split\n",
    "\n",
    "physical_devices = tf.config.list_physical_devices('GPU') \n",
    "tf.config.experimental.set_memory_growth(physical_devices[0], True)"
   ]
  },
  {
   "cell_type": "code",
   "execution_count": 2,
   "metadata": {},
   "outputs": [],
   "source": [
    "import sys\n",
    "ipython = get_ipython()\n",
    "\n",
    "def hide_traceback(exc_tuple=None, filename=None, tb_offset=None,\n",
    "                      exception_only=False, running_compiled_code=False):\n",
    "       etype, value, tb = sys.exc_info()\n",
    "       return ipython._showtraceback(etype, value, ipython.InteractiveTB.get_exception_only(etype, value))\n",
    "\n",
    "ipython.showtraceback = hide_traceback"
   ]
  },
  {
   "cell_type": "code",
   "execution_count": 3,
   "metadata": {},
   "outputs": [],
   "source": [
    "fname = os.path.join(os.path.dirname(os.getcwd()), 'xlsx_data', f\"{'xlsx_#10_final'}.xlsx\")\n",
    "cname = os.path.join(os.path.dirname(os.getcwd()), 'xlsx_data', f\"{'xlsx_#10_case'}.xlsx\")\n",
    "lname = os.path.join(os.path.dirname(os.getcwd()), 'xlsx_data', f\"{'xlsx_#10_law'}.xlsx\")\n",
    "\n",
    "dff = pd.read_excel(fname, index_col=0)\n",
    "dfc = pd.read_excel(cname, index_col=0)\n",
    "dfl = pd.read_excel(lname, index_col=0)\n",
    "\n",
    "df = pd.concat([dff[['h1_age', 'h1_sex', 'h2_age', 'h2_sex', 'h3_age', 'h3_sex', 'text', 'y_appeal']], dfc[1:], dfl[1:]], axis=1).reindex(dff.index)\n",
    "df = df.dropna(subset=['y_appeal'])"
   ]
  },
  {
   "cell_type": "code",
   "execution_count": 4,
   "metadata": {},
   "outputs": [],
   "source": [
    "df_0 = df[df['y_appeal'] == 0].sample(frac=1)\n",
    "df_1 = df[df['y_appeal'] == 1].sample(frac=1)\n",
    "\n",
    "sample_size = 470\n",
    "\n",
    "df = pd.concat([df_0.head(sample_size), df_1.head(sample_size)]).sample(frac=1)"
   ]
  },
  {
   "cell_type": "code",
   "execution_count": 5,
   "metadata": {},
   "outputs": [],
   "source": [
    "X = df.drop('y_appeal', axis=1)\n",
    "y = tf.keras.utils.to_categorical(df['y_appeal'])"
   ]
  },
  {
   "cell_type": "code",
   "execution_count": 6,
   "metadata": {},
   "outputs": [],
   "source": [
    "X_train, X_test, y_train, y_test = train_test_split(X, y, test_size=0.1, random_state=42)"
   ]
  },
  {
   "cell_type": "code",
   "execution_count": 7,
   "metadata": {},
   "outputs": [],
   "source": [
    "X1_train = X_train[dfc.columns[1:]]\n",
    "X1_test = X_test[dfc.columns[1:]]\n",
    "\n",
    "X2_train = X_train[dfl.columns[1:]]\n",
    "X2_test = X_test[dfl.columns[1:]]\n",
    "\n",
    "X4_train =  X_train[['h1_age', 'h1_sex', 'h2_age', 'h2_sex', 'h3_age', 'h3_sex']]\n",
    "X4_test =  X_test[['h1_age', 'h1_sex', 'h2_age', 'h2_sex', 'h3_age', 'h3_sex']]"
   ]
  },
  {
   "cell_type": "code",
   "execution_count": 8,
   "metadata": {},
   "outputs": [],
   "source": [
    "X3_train = list(X_train[\"text\"])\n",
    "X3_test = list(X_test[\"text\"])\n",
    "\n",
    "max_features = 30000\n",
    "sequence_length = 128\n",
    "\n",
    "tokenizer = tf.keras.preprocessing.text.Tokenizer(num_words=max_features, split=' ', oov_token='<unw>')\n",
    "tokenizer.fit_on_texts(X3_train)\n",
    "\n",
    "X3_train = tokenizer.texts_to_sequences(X3_train)\n",
    "X3_test = tokenizer.texts_to_sequences(X3_test)\n",
    "\n",
    "X3_train = tf.keras.preprocessing.sequence.pad_sequences(X3_train, sequence_length)\n",
    "X3_test = tf.keras.preprocessing.sequence.pad_sequences(X3_test, sequence_length)"
   ]
  },
  {
   "cell_type": "code",
   "execution_count": 9,
   "metadata": {},
   "outputs": [],
   "source": [
    "input_1 = tf.keras.Input(dtype = tf.float32, shape = (529,))\n",
    "input_2 = tf.keras.Input(dtype = tf.float32, shape = (662,))\n",
    "input_4 = tf.keras.Input(dtype = tf.float32, shape = (6,))\n",
    "\n",
    "dense_layer_1_1 = tf.keras.layers.Dense(units = 10, activation = tf.nn.relu)(input_1)\n",
    "dense_layer_1_2 = tf.keras.layers.Dense(units = 10, activation = tf.nn.relu)(dense_layer_1_1)\n",
    "dense_layer_1_3 = tf.keras.layers.Dense(units = 10, activation = tf.nn.relu)(dense_layer_1_2)\n",
    "dense_layer_1_4 = tf.keras.layers.Dense(units = 10, activation = tf.nn.relu)(dense_layer_1_3)\n",
    "dropout_1_5 = tf.keras.layers.Dropout(rate = 0.2)(dense_layer_1_4)\n",
    "\n",
    "\n",
    "dense_layer_2_1 = tf.keras.layers.Dense(units = 10, activation = tf.nn.relu)(input_2)\n",
    "dense_layer_2_2 = tf.keras.layers.Dense(units = 10, activation = tf.nn.relu)(dense_layer_2_1)\n",
    "dense_layer_2_3 = tf.keras.layers.Dense(units = 10, activation = tf.nn.relu)(dense_layer_2_2)\n",
    "dense_layer_2_4 = tf.keras.layers.Dense(units = 10, activation = tf.nn.relu)(dense_layer_2_3)\n",
    "dropout_2_5 = tf.keras.layers.Dropout(rate = 0.2)(dense_layer_2_4)\n",
    "\n",
    "\n",
    "dense_layer_4_1 = tf.keras.layers.Dense(units = 10, activation = tf.nn.relu)(input_4)\n",
    "dense_layer_4_2 = tf.keras.layers.Dense(units = 10, activation = tf.nn.relu)(dense_layer_4_1)\n",
    "dense_layer_4_3 = tf.keras.layers.Dense(units = 10, activation = tf.nn.relu)(dense_layer_4_2)\n",
    "dense_layer_4_4 = tf.keras.layers.Dense(units = 10, activation = tf.nn.relu)(dense_layer_4_3)\n",
    "dropout_4_5 = tf.keras.layers.Dropout(rate = 0.2)(dense_layer_4_4)"
   ]
  },
  {
   "cell_type": "code",
   "execution_count": null,
   "metadata": {},
   "outputs": [],
   "source": []
  },
  {
   "cell_type": "code",
   "execution_count": 10,
   "metadata": {},
   "outputs": [
    {
     "name": "stdout",
     "output_type": "stream",
     "text": [
      "12614\n"
     ]
    }
   ],
   "source": [
    "embeddings_index = {}\n",
    "f = open(os.path.join(os.path.dirname(os.getcwd()), 'data_processing', 'ft_0814t.txt'),  encoding='utf-8')\n",
    "for line in f:\n",
    "    values = line.split()\n",
    "    word = values[0]\n",
    "    coefs = np.asarray(values[1:], dtype='float32')\n",
    "    embeddings_index[word] = coefs\n",
    "f.close()\n",
    "\n",
    "word_index = tokenizer.word_index\n",
    "\n",
    "num_words = min(max_features, len(word_index)) + 1\n",
    "print(num_words)\n",
    "embedding_dim = 128\n",
    "num_filters = 100\n",
    "\n",
    "embedding_matrix = np.zeros((num_words, embedding_dim))\n",
    "\n",
    "for word, i in word_index.items():\n",
    "    if i > max_features:\n",
    "        continue\n",
    "    embedding_vector = embeddings_index.get(word)\n",
    "    if embedding_vector is not None:\n",
    "        embedding_matrix[i] = embedding_vector\n",
    "    else:\n",
    "        embedding_matrix[i] = np.random.randn(embedding_dim)"
   ]
  },
  {
   "cell_type": "code",
   "execution_count": 11,
   "metadata": {},
   "outputs": [],
   "source": [
    "input_3 = tf.keras.Input(dtype = tf.float32, shape = (sequence_length,))\n",
    "embedding_layer_3 = tf.keras.layers.Embedding(num_words,\n",
    "                            embedding_dim,\n",
    "                            embeddings_initializer=tf.keras.initializers.Constant(embedding_matrix),\n",
    "                            input_length=sequence_length,\n",
    "                            trainable=True)(input_3)\n",
    "\n",
    "reshape_3 = tf.keras.layers.Reshape((sequence_length, embedding_dim, 1))(embedding_layer_3)\n",
    "\n",
    "conv_0_3 = tf.keras.layers.Conv2D(num_filters, kernel_size=(3, embedding_dim), activation='relu', kernel_regularizer=tf.keras.regularizers.l2(3))(reshape_3)\n",
    "conv_1_3 = tf.keras.layers.Conv2D(num_filters, kernel_size=(4, embedding_dim), activation='relu', kernel_regularizer=tf.keras.regularizers.l2(3))(reshape_3)\n",
    "conv_2_3 = tf.keras.layers.Conv2D(num_filters, kernel_size=(5, embedding_dim), activation='relu', kernel_regularizer=tf.keras.regularizers.l2(3))(reshape_3)\n",
    "\n",
    "maxpool_0_3 = tf.keras.layers.MaxPool2D(pool_size=(sequence_length - 3 + 1, 1), strides=(1,1), padding='valid')(conv_0_3)\n",
    "maxpool_1_3 = tf.keras.layers.MaxPool2D(pool_size=(sequence_length - 4 + 1, 1), strides=(1,1), padding='valid')(conv_1_3)\n",
    "maxpool_2_3 = tf.keras.layers.MaxPool2D(pool_size=(sequence_length - 5 + 1, 1), strides=(1,1), padding='valid')(conv_2_3)\n",
    "\n",
    "concatenated_tensor_3 = tf.keras.layers.Concatenate(axis=1)([maxpool_0_3, maxpool_1_3, maxpool_2_3])\n",
    "flatten_3 = tf.keras.layers.Flatten()(concatenated_tensor_3)\n",
    "dropout_3 = tf.keras.layers.Dropout(rate = 0.5)(flatten_3)"
   ]
  },
  {
   "cell_type": "code",
   "execution_count": 12,
   "metadata": {},
   "outputs": [],
   "source": [
    "concat_layer = tf.keras.layers.Concatenate()([dropout_1_5, dropout_2_5, dropout_3, dropout_4_5])\n",
    "\n",
    "dense_layer_3 = tf.keras.layers.Dense(units = 10, activation = tf.nn.relu)(concat_layer)\n",
    "dense_layer_4 = tf.keras.layers.Dense(units = 10, activation = tf.nn.relu)(dense_layer_3)\n",
    "dense_layer_5 = tf.keras.layers.Dense(units = 10, activation = tf.nn.relu)(dense_layer_4)\n",
    "dense_layer_6 = tf.keras.layers.Dense(units = 10, activation = tf.nn.relu)(dense_layer_5)\n",
    "\n",
    "output = tf.keras.layers.Dense(units = 2, activation = tf.nn.softmax)(dense_layer_3)\n",
    "\n",
    "model = tf.keras.Model(inputs=[input_1, input_2, input_3, input_4], outputs=output)"
   ]
  },
  {
   "cell_type": "code",
   "execution_count": 13,
   "metadata": {},
   "outputs": [
    {
     "name": "stdout",
     "output_type": "stream",
     "text": [
      "Model: \"model\"\n",
      "__________________________________________________________________________________________________\n",
      "Layer (type)                    Output Shape         Param #     Connected to                     \n",
      "==================================================================================================\n",
      "input_4 (InputLayer)            [(None, 128)]        0                                            \n",
      "__________________________________________________________________________________________________\n",
      "embedding (Embedding)           (None, 128, 128)     1614592     input_4[0][0]                    \n",
      "__________________________________________________________________________________________________\n",
      "input_1 (InputLayer)            [(None, 529)]        0                                            \n",
      "__________________________________________________________________________________________________\n",
      "input_2 (InputLayer)            [(None, 662)]        0                                            \n",
      "__________________________________________________________________________________________________\n",
      "reshape (Reshape)               (None, 128, 128, 1)  0           embedding[0][0]                  \n",
      "__________________________________________________________________________________________________\n",
      "input_3 (InputLayer)            [(None, 6)]          0                                            \n",
      "__________________________________________________________________________________________________\n",
      "dense (Dense)                   (None, 10)           5300        input_1[0][0]                    \n",
      "__________________________________________________________________________________________________\n",
      "dense_4 (Dense)                 (None, 10)           6630        input_2[0][0]                    \n",
      "__________________________________________________________________________________________________\n",
      "conv2d (Conv2D)                 (None, 126, 1, 100)  38500       reshape[0][0]                    \n",
      "__________________________________________________________________________________________________\n",
      "conv2d_1 (Conv2D)               (None, 125, 1, 100)  51300       reshape[0][0]                    \n",
      "__________________________________________________________________________________________________\n",
      "conv2d_2 (Conv2D)               (None, 124, 1, 100)  64100       reshape[0][0]                    \n",
      "__________________________________________________________________________________________________\n",
      "dense_8 (Dense)                 (None, 10)           70          input_3[0][0]                    \n",
      "__________________________________________________________________________________________________\n",
      "dense_1 (Dense)                 (None, 10)           110         dense[0][0]                      \n",
      "__________________________________________________________________________________________________\n",
      "dense_5 (Dense)                 (None, 10)           110         dense_4[0][0]                    \n",
      "__________________________________________________________________________________________________\n",
      "max_pooling2d (MaxPooling2D)    (None, 1, 1, 100)    0           conv2d[0][0]                     \n",
      "__________________________________________________________________________________________________\n",
      "max_pooling2d_1 (MaxPooling2D)  (None, 1, 1, 100)    0           conv2d_1[0][0]                   \n",
      "__________________________________________________________________________________________________\n",
      "max_pooling2d_2 (MaxPooling2D)  (None, 1, 1, 100)    0           conv2d_2[0][0]                   \n",
      "__________________________________________________________________________________________________\n",
      "dense_9 (Dense)                 (None, 10)           110         dense_8[0][0]                    \n",
      "__________________________________________________________________________________________________\n",
      "dense_2 (Dense)                 (None, 10)           110         dense_1[0][0]                    \n",
      "__________________________________________________________________________________________________\n",
      "dense_6 (Dense)                 (None, 10)           110         dense_5[0][0]                    \n",
      "__________________________________________________________________________________________________\n",
      "concatenate (Concatenate)       (None, 3, 1, 100)    0           max_pooling2d[0][0]              \n",
      "                                                                 max_pooling2d_1[0][0]            \n",
      "                                                                 max_pooling2d_2[0][0]            \n",
      "__________________________________________________________________________________________________\n",
      "dense_10 (Dense)                (None, 10)           110         dense_9[0][0]                    \n",
      "__________________________________________________________________________________________________\n",
      "dense_3 (Dense)                 (None, 10)           110         dense_2[0][0]                    \n",
      "__________________________________________________________________________________________________\n",
      "dense_7 (Dense)                 (None, 10)           110         dense_6[0][0]                    \n",
      "__________________________________________________________________________________________________\n",
      "flatten (Flatten)               (None, 300)          0           concatenate[0][0]                \n",
      "__________________________________________________________________________________________________\n",
      "dense_11 (Dense)                (None, 10)           110         dense_10[0][0]                   \n",
      "__________________________________________________________________________________________________\n",
      "dropout (Dropout)               (None, 10)           0           dense_3[0][0]                    \n",
      "__________________________________________________________________________________________________\n",
      "dropout_1 (Dropout)             (None, 10)           0           dense_7[0][0]                    \n",
      "__________________________________________________________________________________________________\n",
      "dropout_3 (Dropout)             (None, 300)          0           flatten[0][0]                    \n",
      "__________________________________________________________________________________________________\n",
      "dropout_2 (Dropout)             (None, 10)           0           dense_11[0][0]                   \n",
      "__________________________________________________________________________________________________\n",
      "concatenate_1 (Concatenate)     (None, 330)          0           dropout[0][0]                    \n",
      "                                                                 dropout_1[0][0]                  \n",
      "                                                                 dropout_3[0][0]                  \n",
      "                                                                 dropout_2[0][0]                  \n",
      "__________________________________________________________________________________________________\n",
      "dense_12 (Dense)                (None, 10)           3310        concatenate_1[0][0]              \n",
      "__________________________________________________________________________________________________\n",
      "dense_16 (Dense)                (None, 2)            22          dense_12[0][0]                   \n",
      "==================================================================================================\n",
      "Total params: 1,784,814\n",
      "Trainable params: 1,784,814\n",
      "Non-trainable params: 0\n",
      "__________________________________________________________________________________________________\n",
      "None\n"
     ]
    }
   ],
   "source": [
    "model.compile(loss='categorical_crossentropy', optimizer='sgd', metrics=['acc'])\n",
    "print(model.summary())"
   ]
  },
  {
   "cell_type": "code",
   "execution_count": 14,
   "metadata": {},
   "outputs": [
    {
     "name": "stdout",
     "output_type": "stream",
     "text": [
      "Train on 761 samples, validate on 85 samples\n",
      "Epoch 1/50\n",
      "761/761 [==============================] - 3s 4ms/sample - loss: 6.7946 - acc: 0.5151 - val_loss: 1.6243 - val_acc: 0.5059\n",
      "Epoch 2/50\n",
      "761/761 [==============================] - 0s 301us/sample - loss: 1.0172 - acc: 0.5572 - val_loss: 0.7685 - val_acc: 0.4353\n",
      "Epoch 3/50\n",
      "761/761 [==============================] - 0s 289us/sample - loss: 0.7197 - acc: 0.5795 - val_loss: 0.7257 - val_acc: 0.5059\n",
      "Epoch 4/50\n",
      "761/761 [==============================] - 0s 305us/sample - loss: 0.7035 - acc: 0.6137 - val_loss: 0.6980 - val_acc: 0.7529\n",
      "Epoch 5/50\n",
      "761/761 [==============================] - 0s 293us/sample - loss: 0.6988 - acc: 0.6728 - val_loss: 0.6913 - val_acc: 0.7882\n",
      "Epoch 6/50\n",
      "761/761 [==============================] - 0s 286us/sample - loss: 0.6912 - acc: 0.6859 - val_loss: 0.6836 - val_acc: 0.7529\n",
      "Epoch 7/50\n",
      "761/761 [==============================] - 0s 286us/sample - loss: 0.6783 - acc: 0.7162 - val_loss: 0.7029 - val_acc: 0.6706\n",
      "Epoch 8/50\n",
      "761/761 [==============================] - 0s 283us/sample - loss: 0.6819 - acc: 0.7043 - val_loss: 0.6815 - val_acc: 0.7765\n",
      "Epoch 9/50\n",
      "761/761 [==============================] - 0s 286us/sample - loss: 0.6792 - acc: 0.7122 - val_loss: 0.6868 - val_acc: 0.7529\n",
      "Epoch 10/50\n",
      "761/761 [==============================] - 0s 295us/sample - loss: 0.6762 - acc: 0.7214 - val_loss: 0.6691 - val_acc: 0.7765\n",
      "Epoch 11/50\n",
      "761/761 [==============================] - 0s 292us/sample - loss: 0.6723 - acc: 0.7411 - val_loss: 0.6947 - val_acc: 0.6824\n",
      "Epoch 12/50\n",
      "761/761 [==============================] - 0s 288us/sample - loss: 0.6700 - acc: 0.7280 - val_loss: 0.7383 - val_acc: 0.6235\n",
      "Epoch 13/50\n",
      "761/761 [==============================] - 0s 287us/sample - loss: 0.6692 - acc: 0.7306 - val_loss: 0.6922 - val_acc: 0.7412\n",
      "Epoch 14/50\n",
      "761/761 [==============================] - 0s 293us/sample - loss: 0.6748 - acc: 0.7385 - val_loss: 0.7067 - val_acc: 0.7059\n",
      "Epoch 15/50\n",
      "761/761 [==============================] - 0s 283us/sample - loss: 0.6692 - acc: 0.7411 - val_loss: 0.7094 - val_acc: 0.7059\n",
      "Epoch 16/50\n",
      "761/761 [==============================] - 0s 284us/sample - loss: 0.6803 - acc: 0.7227 - val_loss: 0.6793 - val_acc: 0.7647\n",
      "Epoch 17/50\n",
      "761/761 [==============================] - 0s 281us/sample - loss: 0.6633 - acc: 0.7516 - val_loss: 0.6978 - val_acc: 0.7647\n",
      "Epoch 18/50\n",
      "761/761 [==============================] - 0s 304us/sample - loss: 0.6724 - acc: 0.7411 - val_loss: 0.6899 - val_acc: 0.7294\n",
      "Epoch 19/50\n",
      "761/761 [==============================] - 0s 298us/sample - loss: 0.6880 - acc: 0.7319 - val_loss: 0.6802 - val_acc: 0.7529\n",
      "Epoch 20/50\n",
      "761/761 [==============================] - 0s 298us/sample - loss: 0.6767 - acc: 0.7188 - val_loss: 0.6726 - val_acc: 0.7765\n",
      "Epoch 21/50\n",
      "761/761 [==============================] - 0s 304us/sample - loss: 0.7031 - acc: 0.7057 - val_loss: 0.7671 - val_acc: 0.6118\n",
      "Epoch 22/50\n",
      "761/761 [==============================] - 0s 283us/sample - loss: 0.6582 - acc: 0.7635 - val_loss: 0.8313 - val_acc: 0.5294\n",
      "Epoch 23/50\n",
      "761/761 [==============================] - 0s 289us/sample - loss: 0.6907 - acc: 0.7332 - val_loss: 0.6782 - val_acc: 0.7882\n",
      "Epoch 24/50\n",
      "761/761 [==============================] - 0s 288us/sample - loss: 0.6843 - acc: 0.7372 - val_loss: 0.6528 - val_acc: 0.7529\n",
      "Epoch 25/50\n",
      "761/761 [==============================] - 0s 284us/sample - loss: 0.6978 - acc: 0.7070 - val_loss: 0.6724 - val_acc: 0.8000\n",
      "Epoch 26/50\n",
      "761/761 [==============================] - 0s 284us/sample - loss: 0.6618 - acc: 0.7595 - val_loss: 0.7792 - val_acc: 0.6471\n",
      "Epoch 27/50\n",
      "761/761 [==============================] - 0s 284us/sample - loss: 0.6776 - acc: 0.7267 - val_loss: 0.8814 - val_acc: 0.4941\n",
      "Epoch 28/50\n",
      "761/761 [==============================] - 0s 294us/sample - loss: 0.6921 - acc: 0.7175 - val_loss: 0.6664 - val_acc: 0.7765\n",
      "Epoch 29/50\n",
      "761/761 [==============================] - 0s 285us/sample - loss: 0.6931 - acc: 0.7214 - val_loss: 0.8029 - val_acc: 0.6000\n",
      "Epoch 30/50\n",
      "761/761 [==============================] - 0s 284us/sample - loss: 0.7046 - acc: 0.7175 - val_loss: 0.8434 - val_acc: 0.6118\n",
      "Epoch 31/50\n",
      "761/761 [==============================] - 0s 301us/sample - loss: 0.7050 - acc: 0.7162 - val_loss: 0.6816 - val_acc: 0.7765\n",
      "Epoch 32/50\n",
      "761/761 [==============================] - 0s 289us/sample - loss: 0.6668 - acc: 0.7740 - val_loss: 0.6600 - val_acc: 0.7412\n",
      "Epoch 33/50\n",
      "761/761 [==============================] - 0s 296us/sample - loss: 0.6979 - acc: 0.7398 - val_loss: 0.6874 - val_acc: 0.8118\n",
      "Epoch 34/50\n",
      "761/761 [==============================] - 0s 303us/sample - loss: 0.6908 - acc: 0.7438 - val_loss: 0.8443 - val_acc: 0.6000\n",
      "Epoch 35/50\n",
      "761/761 [==============================] - 0s 285us/sample - loss: 0.6985 - acc: 0.7306 - val_loss: 0.7885 - val_acc: 0.6235\n",
      "Epoch 36/50\n",
      "761/761 [==============================] - 0s 282us/sample - loss: 0.6924 - acc: 0.7319 - val_loss: 0.7643 - val_acc: 0.6706\n",
      "Epoch 37/50\n",
      "761/761 [==============================] - 0s 290us/sample - loss: 0.6761 - acc: 0.7490 - val_loss: 0.6641 - val_acc: 0.7882\n",
      "Epoch 38/50\n",
      "761/761 [==============================] - 0s 286us/sample - loss: 0.6641 - acc: 0.7516 - val_loss: 0.6467 - val_acc: 0.7647\n",
      "Epoch 39/50\n",
      "761/761 [==============================] - 0s 293us/sample - loss: 0.7296 - acc: 0.7162 - val_loss: 0.6525 - val_acc: 0.8588\n",
      "Epoch 40/50\n",
      "761/761 [==============================] - 0s 309us/sample - loss: 0.6683 - acc: 0.7700 - val_loss: 0.6482 - val_acc: 0.8118\n",
      "Epoch 41/50\n",
      "761/761 [==============================] - 0s 286us/sample - loss: 0.6921 - acc: 0.7411 - val_loss: 0.6413 - val_acc: 0.8000\n",
      "Epoch 42/50\n",
      "761/761 [==============================] - 0s 293us/sample - loss: 0.6600 - acc: 0.7556 - val_loss: 0.6854 - val_acc: 0.7765\n",
      "Epoch 43/50\n",
      "761/761 [==============================] - 0s 285us/sample - loss: 0.7112 - acc: 0.7240 - val_loss: 0.7122 - val_acc: 0.7647\n",
      "Epoch 44/50\n",
      "761/761 [==============================] - 0s 294us/sample - loss: 0.6803 - acc: 0.7424 - val_loss: 0.6285 - val_acc: 0.8118\n",
      "Epoch 45/50\n",
      "761/761 [==============================] - 0s 295us/sample - loss: 0.6554 - acc: 0.7674 - val_loss: 0.8458 - val_acc: 0.5529\n",
      "Epoch 46/50\n",
      "761/761 [==============================] - 0s 290us/sample - loss: 0.6358 - acc: 0.7976 - val_loss: 0.6252 - val_acc: 0.8471\n",
      "Epoch 47/50\n",
      "761/761 [==============================] - 0s 287us/sample - loss: 0.6232 - acc: 0.7884 - val_loss: 0.6597 - val_acc: 0.8235\n",
      "Epoch 48/50\n",
      "761/761 [==============================] - 0s 308us/sample - loss: 0.6359 - acc: 0.7911 - val_loss: 0.5901 - val_acc: 0.8588\n",
      "Epoch 49/50\n",
      "761/761 [==============================] - 0s 311us/sample - loss: 0.6035 - acc: 0.7989 - val_loss: 0.6421 - val_acc: 0.8353\n",
      "Epoch 50/50\n",
      "761/761 [==============================] - 0s 296us/sample - loss: 0.5740 - acc: 0.8357 - val_loss: 0.5388 - val_acc: 0.8824\n"
     ]
    }
   ],
   "source": [
    "history = model.fit(x=[X1_train, X2_train, X3_train, X4_train], y=y_train, batch_size=32, epochs=50, \n",
    "                   verbose=1, validation_split=0.1)# , callbacks=[early_stopping])"
   ]
  },
  {
   "cell_type": "code",
   "execution_count": 15,
   "metadata": {},
   "outputs": [
    {
     "data": {
      "image/png": "[encoded data removed]",
      "text/plain": [
       "<Figure size 432x288 with 1 Axes>"
      ]
     },
     "metadata": {
      "needs_background": "light"
     },
     "output_type": "display_data"
    },
    {
     "data": {
      "image/png": "[encoded data removed]",
      "text/plain": [
       "<Figure size 432x288 with 1 Axes>"
      ]
     },
     "metadata": {
      "needs_background": "light"
     },
     "output_type": "display_data"
    }
   ],
   "source": [
    "import matplotlib.pyplot as plt\n",
    "\n",
    "plt.plot(history.history['acc'])\n",
    "plt.plot(history.history['val_acc'])\n",
    "\n",
    "plt.title('model accuracy')\n",
    "plt.ylabel('acc')\n",
    "plt.xlabel('epoch')\n",
    "plt.legend(['train','test'], loc='upper left')\n",
    "plt.show()\n",
    "\n",
    "plt.plot(history.history['loss'])\n",
    "plt.plot(history.history['val_loss'])\n",
    "\n",
    "plt.title('model loss')\n",
    "plt.ylabel('loss')\n",
    "plt.xlabel('epoch')\n",
    "plt.legend(['train','test'], loc='upper left')\n",
    "plt.show()"
   ]
  },
  {
   "cell_type": "code",
   "execution_count": 16,
   "metadata": {},
   "outputs": [
    {
     "name": "stdout",
     "output_type": "stream",
     "text": [
      "94/94 [==============================] - 0s 1ms/sample - loss: 0.5055 - acc: 0.8936\n",
      "Test Score: 0.5055161315075895\n",
      "Test ACC: 0.89361703\n"
     ]
    }
   ],
   "source": [
    "score = model.evaluate(x=[X1_test, X2_test, X3_test, X4_test], y=y_test, verbose=1)\n",
    "\n",
    "print(\"Test Score:\", score[0])\n",
    "print(\"Test ACC:\", score[1])"
   ]
  },
  {
   "cell_type": "code",
   "execution_count": 17,
   "metadata": {},
   "outputs": [],
   "source": [
    "#평균 80 최대 89"
   ]
  }
 ],
 "metadata": {
  "kernelspec": {
   "display_name": "Python 3",
   "language": "python",
   "name": "python3"
  },
  "language_info": {
   "codemirror_mode": {
    "name": "ipython",
    "version": 3
   },
   "file_extension": ".py",
   "mimetype": "text/x-python",
   "name": "python",
   "nbconvert_exporter": "python",
   "pygments_lexer": "ipython3",
   "version": "3.7.7"
  }
 },
 "nbformat": 4,
 "nbformat_minor": 4
}
