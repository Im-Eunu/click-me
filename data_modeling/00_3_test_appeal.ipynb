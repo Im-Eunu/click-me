{
 "cells": [
  {
   "cell_type": "code",
   "execution_count": 1,
   "metadata": {},
   "outputs": [],
   "source": [
    "import tensorflow as tf\n",
    "physical_devices = tf.config.list_physical_devices('GPU') \n",
    "tf.config.experimental.set_memory_growth(physical_devices[0], True)"
   ]
  },
  {
   "cell_type": "code",
   "execution_count": 2,
   "metadata": {},
   "outputs": [],
   "source": [
    "import sys\n",
    "ipython = get_ipython()\n",
    "\n",
    "def hide_traceback(exc_tuple=None, filename=None, tb_offset=None,\n",
    "                      exception_only=False, running_compiled_code=False):\n",
    "       etype, value, tb = sys.exc_info()\n",
    "       return ipython._showtraceback(etype, value, ipython.InteractiveTB.get_exception_only(etype, value))\n",
    "\n",
    "ipython.showtraceback = hide_traceback"
   ]
  },
  {
   "cell_type": "code",
   "execution_count": 3,
   "metadata": {},
   "outputs": [
    {
     "name": "stderr",
     "output_type": "stream",
     "text": [
      "Using TensorFlow backend.\n"
     ]
    }
   ],
   "source": [
    "from keras.preprocessing.text import one_hot\n",
    "from keras.preprocessing.sequence import pad_sequences\n",
    "from keras.models import Sequential\n",
    "from keras.layers.core import Activation, Dropout, Dense, Flatten\n",
    "from keras.layers import LSTM\n",
    "from keras.layers import GlobalMaxPooling1D\n",
    "from keras.models import Model\n",
    "from keras.layers.embeddings import Embedding\n",
    "from sklearn.model_selection import train_test_split\n",
    "from keras.preprocessing.text import Tokenizer\n",
    "from keras.layers import Input\n",
    "from keras.layers.merge import Concatenate\n",
    "from keras.layers.normalization import BatchNormalization\n",
    "from keras import regularizers\n",
    "from keras.initializers import Constant\n",
    "from keras.layers import *\n",
    "from keras.utils import to_categorical\n",
    "\n",
    "import os\n",
    "import pandas as pd\n",
    "import numpy as np\n",
    "from numpy import array\n",
    "import re"
   ]
  },
  {
   "cell_type": "code",
   "execution_count": 4,
   "metadata": {},
   "outputs": [],
   "source": [
    "fname = os.path.join(os.path.dirname(os.getcwd()), 'xlsx_data', f\"{'xlsx_#10_final'}.xlsx\")\n",
    "cname = os.path.join(os.path.dirname(os.getcwd()), 'xlsx_data', f\"{'xlsx_#10_case'}.xlsx\")\n",
    "lname = os.path.join(os.path.dirname(os.getcwd()), 'xlsx_data', f\"{'xlsx_#10_law'}.xlsx\")\n",
    "\n",
    "dff = pd.read_excel(fname, index_col=0)\n",
    "dfc = pd.read_excel(cname, index_col=0)\n",
    "dfl = pd.read_excel(lname, index_col=0)\n",
    "\n",
    "df = pd.concat([dff[['text', 'y_appeal']], dfc[1:], dfl[1:]], axis=1).reindex(dff.index)\n",
    "df = df.dropna(subset=['y_appeal'])"
   ]
  },
  {
   "cell_type": "code",
   "execution_count": 5,
   "metadata": {},
   "outputs": [],
   "source": [
    "df_0 = df[df['y_appeal'] == 0].sample(frac=1)\n",
    "df_1 = df[df['y_appeal'] == 1].sample(frac=1)\n",
    "\n",
    "sample_size = 470\n",
    "\n",
    "df = pd.concat([df_0.head(sample_size), df_1.head(sample_size)]).sample(frac=1)"
   ]
  },
  {
   "cell_type": "code",
   "execution_count": 6,
   "metadata": {},
   "outputs": [],
   "source": [
    "X = df.drop('y_appeal', axis=1)\n",
    "y = to_categorical(df['y_appeal'])"
   ]
  },
  {
   "cell_type": "code",
   "execution_count": 7,
   "metadata": {},
   "outputs": [],
   "source": [
    "X_train, X_test, y_train, y_test = train_test_split(X, y, test_size=0.1, random_state=42)"
   ]
  },
  {
   "cell_type": "code",
   "execution_count": 8,
   "metadata": {},
   "outputs": [],
   "source": [
    "X1_train = X_train[dfc.columns[1:]]\n",
    "X1_test = X_test[dfc.columns[1:]]\n",
    "\n",
    "X2_train = X_train[dfl.columns[1:]]\n",
    "X2_test = X_test[dfl.columns[1:]]\n"
   ]
  },
  {
   "cell_type": "code",
   "execution_count": 9,
   "metadata": {},
   "outputs": [],
   "source": [
    "X3_train = list(X_train[\"text\"])\n",
    "X3_test = list(X_test[\"text\"])\n",
    "\n",
    "max_features = 30000\n",
    "sequence_length = 128\n",
    "\n",
    "tokenizer = Tokenizer(num_words=max_features, split=' ', oov_token='<unw>')\n",
    "tokenizer.fit_on_texts(X3_train)\n",
    "\n",
    "X3_train = tokenizer.texts_to_sequences(X3_train)\n",
    "X3_test = tokenizer.texts_to_sequences(X3_test)\n",
    "\n",
    "X3_train = pad_sequences(X3_train, sequence_length)\n",
    "X3_test = pad_sequences(X3_test, sequence_length)"
   ]
  },
  {
   "cell_type": "code",
   "execution_count": 10,
   "metadata": {},
   "outputs": [],
   "source": [
    "input_1 = Input(shape=(687,))\n",
    "input_2 = Input(shape=(662,))\n",
    "\n",
    "dense_layer_1_1 = Dense(50, activation='relu')(input_1)\n",
    "dense_layer_1_2 = Dense(10, activation='relu')(dense_layer_1_1)\n",
    "dense_layer_1_3 = Dense(10, activation='relu')(dense_layer_1_2)\n",
    "dense_layer_1_4 = Dense(10, activation='relu')(dense_layer_1_3)\n",
    "dropout_1_5 = Dropout(0.2)(dense_layer_1_4)\n",
    "\n",
    "\n",
    "dense_layer_2_1 = Dense(50, activation='relu')(input_2)\n",
    "dense_layer_2_2 = Dense(10, activation='relu')(dense_layer_2_1)\n",
    "dense_layer_2_3 = Dense(10, activation='relu')(dense_layer_2_2)\n",
    "dense_layer_2_4 = Dense(10, activation='relu')(dense_layer_2_3)\n",
    "dropout_2_5 = Dropout(0.2)(dense_layer_2_4)"
   ]
  },
  {
   "cell_type": "code",
   "execution_count": null,
   "metadata": {},
   "outputs": [],
   "source": []
  },
  {
   "cell_type": "code",
   "execution_count": 11,
   "metadata": {},
   "outputs": [
    {
     "name": "stdout",
     "output_type": "stream",
     "text": [
      "14376\n"
     ]
    }
   ],
   "source": [
    "embeddings_index = {}\n",
    "f = open(os.path.join(os.path.dirname(os.getcwd()), 'data_processing', 'ft_0814t.txt'),  encoding='utf-8')\n",
    "for line in f:\n",
    "    values = line.split()\n",
    "    word = values[0]\n",
    "    coefs = np.asarray(values[1:], dtype='float32')\n",
    "    embeddings_index[word] = coefs\n",
    "f.close()\n",
    "\n",
    "word_index = tokenizer.word_index\n",
    "\n",
    "num_words = min(max_features, len(word_index)) + 1\n",
    "print(num_words)\n",
    "embedding_dim = 128\n",
    "num_filters = 100\n",
    "\n",
    "embedding_matrix = np.zeros((num_words, embedding_dim))\n",
    "\n",
    "for word, i in word_index.items():\n",
    "    if i > max_features:\n",
    "        continue\n",
    "    embedding_vector = embeddings_index.get(word)\n",
    "    if embedding_vector is not None:\n",
    "        embedding_matrix[i] = embedding_vector\n",
    "    else:\n",
    "        embedding_matrix[i] = np.random.randn(embedding_dim)"
   ]
  },
  {
   "cell_type": "code",
   "execution_count": 12,
   "metadata": {},
   "outputs": [],
   "source": [
    "input_3 = Input(shape=(sequence_length,), dtype='int32')\n",
    "embedding_layer_3 = Embedding(num_words,\n",
    "                            embedding_dim,\n",
    "                            embeddings_initializer=Constant(embedding_matrix),\n",
    "                            input_length=sequence_length,\n",
    "                            trainable=True)(input_3)\n",
    "\n",
    "reshape_3 = Reshape((sequence_length, embedding_dim, 1))(embedding_layer_3)\n",
    "\n",
    "conv_0_3 = Conv2D(num_filters, kernel_size=(3, embedding_dim), activation='relu', kernel_regularizer=regularizers.l2(3))(reshape_3)\n",
    "conv_1_3 = Conv2D(num_filters, kernel_size=(4, embedding_dim), activation='relu', kernel_regularizer=regularizers.l2(3))(reshape_3)\n",
    "conv_2_3 = Conv2D(num_filters, kernel_size=(5, embedding_dim), activation='relu', kernel_regularizer=regularizers.l2(3))(reshape_3)\n",
    "conv_3_3 = Conv2D(num_filters, kernel_size=(6, embedding_dim), activation='relu', kernel_regularizer=regularizers.l2(3))(reshape_3)\n",
    "\n",
    "maxpool_0_3 = MaxPool2D(pool_size=(sequence_length - 3 + 1, 1), strides=(1,1), padding='valid')(conv_0_3)\n",
    "maxpool_1_3 = MaxPool2D(pool_size=(sequence_length - 4 + 1, 1), strides=(1,1), padding='valid')(conv_1_3)\n",
    "maxpool_2_3 = MaxPool2D(pool_size=(sequence_length - 5 + 1, 1), strides=(1,1), padding='valid')(conv_2_3)\n",
    "maxpool_3_3 = MaxPool2D(pool_size=(sequence_length - 6 + 1, 1), strides=(1,1), padding='valid')(conv_3_3)\n",
    "\n",
    "concatenated_tensor_3 = Concatenate(axis=1)([maxpool_0_3, maxpool_1_3, maxpool_2_3, maxpool_3_3])\n",
    "flatten_3 = Flatten()(concatenated_tensor_3)\n",
    "dropout_3 = Dropout(0.2)(flatten_3)\n",
    "#dense_layer_3 = Dense(12, activation='relu')(dropout_3)"
   ]
  },
  {
   "cell_type": "code",
   "execution_count": 13,
   "metadata": {},
   "outputs": [],
   "source": [
    "concat_layer = Concatenate()([dropout_1_5, dropout_2_5, dropout_3])\n",
    "\n",
    "dense_layer_3 = Dense(50, activation='relu')(concat_layer)\n",
    "dense_layer_4 = Dense(10, activation='relu')(dense_layer_3)\n",
    "dense_layer_5 = Dense(10, activation='relu')(dense_layer_4)\n",
    "dense_layer_6 = Dense(10, activation='relu')(dense_layer_5)\n",
    "\n",
    "output = Dense(2, activation='softmax')(dense_layer_6)\n",
    "\n",
    "model = Model(inputs=[input_1, input_2, input_3], outputs=output)"
   ]
  },
  {
   "cell_type": "code",
   "execution_count": 14,
   "metadata": {},
   "outputs": [
    {
     "name": "stdout",
     "output_type": "stream",
     "text": [
      "Model: \"model_1\"\n",
      "__________________________________________________________________________________________________\n",
      "Layer (type)                    Output Shape         Param #     Connected to                     \n",
      "==================================================================================================\n",
      "input_3 (InputLayer)            (None, 128)          0                                            \n",
      "__________________________________________________________________________________________________\n",
      "embedding_1 (Embedding)         (None, 128, 128)     1840128     input_3[0][0]                    \n",
      "__________________________________________________________________________________________________\n",
      "input_1 (InputLayer)            (None, 687)          0                                            \n",
      "__________________________________________________________________________________________________\n",
      "input_2 (InputLayer)            (None, 662)          0                                            \n",
      "__________________________________________________________________________________________________\n",
      "reshape_1 (Reshape)             (None, 128, 128, 1)  0           embedding_1[0][0]                \n",
      "__________________________________________________________________________________________________\n",
      "dense_1 (Dense)                 (None, 50)           34400       input_1[0][0]                    \n",
      "__________________________________________________________________________________________________\n",
      "dense_5 (Dense)                 (None, 50)           33150       input_2[0][0]                    \n",
      "__________________________________________________________________________________________________\n",
      "conv2d_1 (Conv2D)               (None, 126, 1, 100)  38500       reshape_1[0][0]                  \n",
      "__________________________________________________________________________________________________\n",
      "conv2d_2 (Conv2D)               (None, 125, 1, 100)  51300       reshape_1[0][0]                  \n",
      "__________________________________________________________________________________________________\n",
      "conv2d_3 (Conv2D)               (None, 124, 1, 100)  64100       reshape_1[0][0]                  \n",
      "__________________________________________________________________________________________________\n",
      "conv2d_4 (Conv2D)               (None, 123, 1, 100)  76900       reshape_1[0][0]                  \n",
      "__________________________________________________________________________________________________\n",
      "dense_2 (Dense)                 (None, 10)           510         dense_1[0][0]                    \n",
      "__________________________________________________________________________________________________\n",
      "dense_6 (Dense)                 (None, 10)           510         dense_5[0][0]                    \n",
      "__________________________________________________________________________________________________\n",
      "max_pooling2d_1 (MaxPooling2D)  (None, 1, 1, 100)    0           conv2d_1[0][0]                   \n",
      "__________________________________________________________________________________________________\n",
      "max_pooling2d_2 (MaxPooling2D)  (None, 1, 1, 100)    0           conv2d_2[0][0]                   \n",
      "__________________________________________________________________________________________________\n",
      "max_pooling2d_3 (MaxPooling2D)  (None, 1, 1, 100)    0           conv2d_3[0][0]                   \n",
      "__________________________________________________________________________________________________\n",
      "max_pooling2d_4 (MaxPooling2D)  (None, 1, 1, 100)    0           conv2d_4[0][0]                   \n",
      "__________________________________________________________________________________________________\n",
      "dense_3 (Dense)                 (None, 10)           110         dense_2[0][0]                    \n",
      "__________________________________________________________________________________________________\n",
      "dense_7 (Dense)                 (None, 10)           110         dense_6[0][0]                    \n",
      "__________________________________________________________________________________________________\n",
      "concatenate_1 (Concatenate)     (None, 4, 1, 100)    0           max_pooling2d_1[0][0]            \n",
      "                                                                 max_pooling2d_2[0][0]            \n",
      "                                                                 max_pooling2d_3[0][0]            \n",
      "                                                                 max_pooling2d_4[0][0]            \n",
      "__________________________________________________________________________________________________\n",
      "dense_4 (Dense)                 (None, 10)           110         dense_3[0][0]                    \n",
      "__________________________________________________________________________________________________\n",
      "dense_8 (Dense)                 (None, 10)           110         dense_7[0][0]                    \n",
      "__________________________________________________________________________________________________\n",
      "flatten_1 (Flatten)             (None, 400)          0           concatenate_1[0][0]              \n",
      "__________________________________________________________________________________________________\n",
      "dropout_1 (Dropout)             (None, 10)           0           dense_4[0][0]                    \n",
      "__________________________________________________________________________________________________\n",
      "dropout_2 (Dropout)             (None, 10)           0           dense_8[0][0]                    \n",
      "__________________________________________________________________________________________________\n",
      "dropout_3 (Dropout)             (None, 400)          0           flatten_1[0][0]                  \n",
      "__________________________________________________________________________________________________\n",
      "concatenate_2 (Concatenate)     (None, 420)          0           dropout_1[0][0]                  \n",
      "                                                                 dropout_2[0][0]                  \n",
      "                                                                 dropout_3[0][0]                  \n",
      "__________________________________________________________________________________________________\n",
      "dense_9 (Dense)                 (None, 50)           21050       concatenate_2[0][0]              \n",
      "__________________________________________________________________________________________________\n",
      "dense_10 (Dense)                (None, 10)           510         dense_9[0][0]                    \n",
      "__________________________________________________________________________________________________\n",
      "dense_11 (Dense)                (None, 10)           110         dense_10[0][0]                   \n",
      "__________________________________________________________________________________________________\n",
      "dense_12 (Dense)                (None, 10)           110         dense_11[0][0]                   \n",
      "__________________________________________________________________________________________________\n",
      "dense_13 (Dense)                (None, 2)            22          dense_12[0][0]                   \n",
      "==================================================================================================\n",
      "Total params: 2,161,740\n",
      "Trainable params: 2,161,740\n",
      "Non-trainable params: 0\n",
      "__________________________________________________________________________________________________\n",
      "None\n"
     ]
    }
   ],
   "source": [
    "model.compile(loss='categorical_crossentropy', optimizer='sgd', metrics=['acc'])\n",
    "print(model.summary())"
   ]
  },
  {
   "cell_type": "code",
   "execution_count": 15,
   "metadata": {},
   "outputs": [
    {
     "name": "stderr",
     "output_type": "stream",
     "text": [
      "C:\\ProgramData\\Anaconda3\\lib\\site-packages\\tensorflow_core\\python\\framework\\indexed_slices.py:433: UserWarning: Converting sparse IndexedSlices to a dense Tensor of unknown shape. This may consume a large amount of memory.\n",
      "  \"Converting sparse IndexedSlices to a dense Tensor of unknown shape. \"\n"
     ]
    },
    {
     "name": "stdout",
     "output_type": "stream",
     "text": [
      "Train on 761 samples, validate on 85 samples\n",
      "Epoch 1/100\n",
      "761/761 [==============================] - 3s 3ms/step - loss: 8.8525 - acc: 0.5059 - val_loss: 1.9166 - val_acc: 0.5176\n",
      "Epoch 2/100\n",
      "761/761 [==============================] - 0s 343us/step - loss: 1.1118 - acc: 0.5729 - val_loss: 0.7553 - val_acc: 0.7412\n",
      "Epoch 3/100\n",
      "761/761 [==============================] - 0s 346us/step - loss: 0.7136 - acc: 0.6794 - val_loss: 0.6944 - val_acc: 0.7059\n",
      "Epoch 4/100\n",
      "761/761 [==============================] - 0s 358us/step - loss: 0.6879 - acc: 0.7595 - val_loss: 0.6830 - val_acc: 0.7882\n",
      "Epoch 5/100\n",
      "761/761 [==============================] - 0s 332us/step - loss: 0.6820 - acc: 0.7963 - val_loss: 0.6780 - val_acc: 0.8000\n",
      "Epoch 6/100\n",
      "761/761 [==============================] - 0s 323us/step - loss: 0.6741 - acc: 0.8279 - val_loss: 0.6721 - val_acc: 0.8000\n",
      "Epoch 7/100\n",
      "761/761 [==============================] - 0s 338us/step - loss: 0.6664 - acc: 0.8265 - val_loss: 0.6584 - val_acc: 0.8000\n",
      "Epoch 8/100\n",
      "761/761 [==============================] - 0s 329us/step - loss: 0.6627 - acc: 0.8187 - val_loss: 0.6751 - val_acc: 0.7765\n",
      "Epoch 9/100\n",
      "761/761 [==============================] - 0s 333us/step - loss: 0.6565 - acc: 0.8173 - val_loss: 0.6458 - val_acc: 0.8000\n",
      "Epoch 10/100\n",
      "761/761 [==============================] - 0s 331us/step - loss: 0.6430 - acc: 0.8213 - val_loss: 0.6345 - val_acc: 0.7882\n",
      "Epoch 11/100\n",
      "761/761 [==============================] - 0s 348us/step - loss: 0.6362 - acc: 0.8187 - val_loss: 0.6101 - val_acc: 0.8000\n",
      "Epoch 12/100\n",
      "761/761 [==============================] - 0s 331us/step - loss: 0.6293 - acc: 0.8121 - val_loss: 0.6069 - val_acc: 0.8353\n",
      "Epoch 13/100\n",
      "761/761 [==============================] - 0s 346us/step - loss: 0.6195 - acc: 0.8292 - val_loss: 0.5896 - val_acc: 0.8118\n",
      "Epoch 14/100\n",
      "761/761 [==============================] - 0s 324us/step - loss: 0.6018 - acc: 0.8108 - val_loss: 0.7528 - val_acc: 0.5059\n",
      "Epoch 15/100\n",
      "761/761 [==============================] - 0s 340us/step - loss: 0.6110 - acc: 0.8003 - val_loss: 0.5784 - val_acc: 0.8000\n",
      "Epoch 16/100\n",
      "761/761 [==============================] - 0s 335us/step - loss: 0.5897 - acc: 0.8108 - val_loss: 0.6621 - val_acc: 0.6824\n",
      "Epoch 17/100\n",
      "761/761 [==============================] - 0s 341us/step - loss: 0.6203 - acc: 0.7937 - val_loss: 0.5675 - val_acc: 0.8118\n",
      "Epoch 18/100\n",
      "761/761 [==============================] - 0s 345us/step - loss: 0.5976 - acc: 0.8042 - val_loss: 0.6264 - val_acc: 0.7647\n",
      "Epoch 19/100\n",
      "761/761 [==============================] - 0s 336us/step - loss: 0.6446 - acc: 0.7700 - val_loss: 0.5860 - val_acc: 0.8353\n",
      "Epoch 20/100\n",
      "761/761 [==============================] - 0s 346us/step - loss: 0.6363 - acc: 0.7714 - val_loss: 0.6509 - val_acc: 0.8000\n",
      "Epoch 21/100\n",
      "761/761 [==============================] - 0s 334us/step - loss: 0.6548 - acc: 0.7845 - val_loss: 0.5563 - val_acc: 0.8471\n",
      "Epoch 22/100\n",
      "761/761 [==============================] - 0s 347us/step - loss: 0.6536 - acc: 0.7792 - val_loss: 0.5578 - val_acc: 0.8588\n",
      "Epoch 23/100\n",
      "761/761 [==============================] - 0s 333us/step - loss: 0.6374 - acc: 0.8003 - val_loss: 0.5707 - val_acc: 0.8235\n",
      "Epoch 24/100\n",
      "761/761 [==============================] - 0s 342us/step - loss: 0.7122 - acc: 0.7254 - val_loss: 0.9196 - val_acc: 0.4588\n",
      "Epoch 25/100\n",
      "761/761 [==============================] - 0s 327us/step - loss: 0.6837 - acc: 0.7595 - val_loss: 0.5911 - val_acc: 0.8000\n",
      "Epoch 26/100\n",
      "761/761 [==============================] - 0s 328us/step - loss: 0.6370 - acc: 0.7911 - val_loss: 0.5734 - val_acc: 0.8118\n",
      "Epoch 27/100\n",
      "761/761 [==============================] - 0s 333us/step - loss: 0.6534 - acc: 0.7845 - val_loss: 0.5582 - val_acc: 0.8353\n",
      "Epoch 28/100\n",
      "761/761 [==============================] - 0s 327us/step - loss: 0.7457 - acc: 0.7240 - val_loss: 0.8256 - val_acc: 0.6353\n",
      "Epoch 29/100\n",
      "761/761 [==============================] - 0s 329us/step - loss: 0.6567 - acc: 0.7714 - val_loss: 0.5501 - val_acc: 0.7882\n",
      "Epoch 30/100\n",
      "761/761 [==============================] - 0s 336us/step - loss: 0.6594 - acc: 0.7648 - val_loss: 0.6285 - val_acc: 0.8235\n",
      "Epoch 31/100\n",
      "761/761 [==============================] - 0s 326us/step - loss: 0.6824 - acc: 0.7766 - val_loss: 0.5672 - val_acc: 0.8353\n",
      "Epoch 32/100\n",
      "761/761 [==============================] - 0s 334us/step - loss: 0.7420 - acc: 0.7319 - val_loss: 0.6925 - val_acc: 0.7765\n",
      "Epoch 33/100\n",
      "761/761 [==============================] - 0s 330us/step - loss: 0.6633 - acc: 0.7674 - val_loss: 0.8176 - val_acc: 0.6706\n",
      "Epoch 34/100\n",
      "761/761 [==============================] - 0s 338us/step - loss: 0.6466 - acc: 0.7753 - val_loss: 0.6029 - val_acc: 0.8353\n",
      "Epoch 35/100\n",
      "761/761 [==============================] - 0s 332us/step - loss: 0.6187 - acc: 0.8016 - val_loss: 0.8885 - val_acc: 0.6118\n",
      "Epoch 36/100\n",
      "761/761 [==============================] - 0s 333us/step - loss: 0.6930 - acc: 0.7661 - val_loss: 0.5673 - val_acc: 0.8353\n",
      "Epoch 37/100\n",
      "761/761 [==============================] - 0s 327us/step - loss: 0.7160 - acc: 0.7608 - val_loss: 0.5911 - val_acc: 0.8588\n",
      "Epoch 38/100\n",
      "761/761 [==============================] - 0s 331us/step - loss: 0.7021 - acc: 0.7569 - val_loss: 1.1956 - val_acc: 0.5412\n",
      "Epoch 39/100\n",
      "761/761 [==============================] - 0s 332us/step - loss: 0.6877 - acc: 0.7530 - val_loss: 0.7402 - val_acc: 0.6941\n",
      "Epoch 40/100\n",
      "761/761 [==============================] - 0s 330us/step - loss: 0.7193 - acc: 0.7490 - val_loss: 0.6607 - val_acc: 0.7882\n",
      "Epoch 41/100\n",
      "761/761 [==============================] - 0s 332us/step - loss: 0.6952 - acc: 0.7490 - val_loss: 0.6697 - val_acc: 0.8000\n",
      "Epoch 42/100\n",
      "761/761 [==============================] - 0s 341us/step - loss: 0.6877 - acc: 0.7543 - val_loss: 0.5997 - val_acc: 0.8118\n",
      "Epoch 43/100\n",
      "761/761 [==============================] - 0s 329us/step - loss: 0.6374 - acc: 0.7740 - val_loss: 0.5892 - val_acc: 0.8235\n",
      "Epoch 44/100\n",
      "761/761 [==============================] - 0s 333us/step - loss: 0.6487 - acc: 0.7766 - val_loss: 0.5416 - val_acc: 0.8353\n",
      "Epoch 45/100\n",
      "761/761 [==============================] - 0s 330us/step - loss: 0.7041 - acc: 0.7411 - val_loss: 0.5992 - val_acc: 0.8000\n",
      "Epoch 46/100\n",
      "761/761 [==============================] - 0s 335us/step - loss: 0.7179 - acc: 0.7411 - val_loss: 0.8882 - val_acc: 0.5412\n",
      "Epoch 47/100\n",
      "761/761 [==============================] - 0s 345us/step - loss: 0.6562 - acc: 0.7451 - val_loss: 0.5709 - val_acc: 0.8588\n",
      "Epoch 48/100\n",
      "761/761 [==============================] - 0s 350us/step - loss: 0.6194 - acc: 0.7819 - val_loss: 0.7310 - val_acc: 0.7412\n",
      "Epoch 49/100\n",
      "761/761 [==============================] - 0s 338us/step - loss: 0.6969 - acc: 0.7622 - val_loss: 0.8208 - val_acc: 0.6471\n",
      "Epoch 50/100\n",
      "761/761 [==============================] - 0s 341us/step - loss: 0.6681 - acc: 0.7727 - val_loss: 0.6404 - val_acc: 0.7882\n",
      "Epoch 51/100\n",
      "761/761 [==============================] - 0s 331us/step - loss: 0.6634 - acc: 0.7753 - val_loss: 0.7224 - val_acc: 0.7294\n",
      "Epoch 52/100\n",
      "761/761 [==============================] - 0s 360us/step - loss: 0.6802 - acc: 0.7385 - val_loss: 0.6110 - val_acc: 0.8235\n",
      "Epoch 53/100\n",
      "761/761 [==============================] - 0s 349us/step - loss: 0.6966 - acc: 0.7398 - val_loss: 0.6161 - val_acc: 0.8000\n",
      "Epoch 54/100\n",
      "761/761 [==============================] - 0s 360us/step - loss: 0.6859 - acc: 0.7714 - val_loss: 0.7528 - val_acc: 0.7529\n",
      "Epoch 55/100\n",
      "761/761 [==============================] - 0s 339us/step - loss: 0.6535 - acc: 0.7976 - val_loss: 0.5568 - val_acc: 0.8353\n",
      "Epoch 56/100\n",
      "761/761 [==============================] - 0s 333us/step - loss: 0.7301 - acc: 0.7516 - val_loss: 0.6452 - val_acc: 0.7765\n",
      "Epoch 57/100\n",
      "761/761 [==============================] - 0s 340us/step - loss: 0.6911 - acc: 0.7543 - val_loss: 0.5595 - val_acc: 0.8588\n",
      "Epoch 58/100\n",
      "761/761 [==============================] - 0s 342us/step - loss: 0.6421 - acc: 0.7727 - val_loss: 0.6467 - val_acc: 0.7529\n",
      "Epoch 59/100\n",
      "761/761 [==============================] - 0s 330us/step - loss: 0.6847 - acc: 0.7661 - val_loss: 0.7321 - val_acc: 0.6824\n",
      "Epoch 60/100\n",
      "761/761 [==============================] - 0s 334us/step - loss: 0.6677 - acc: 0.7543 - val_loss: 0.5687 - val_acc: 0.8353\n"
     ]
    },
    {
     "name": "stdout",
     "output_type": "stream",
     "text": [
      "Epoch 61/100\n",
      "761/761 [==============================] - 0s 338us/step - loss: 0.6178 - acc: 0.8068 - val_loss: 1.1074 - val_acc: 0.5412\n",
      "Epoch 62/100\n",
      "761/761 [==============================] - 0s 324us/step - loss: 0.6089 - acc: 0.8055 - val_loss: 0.5864 - val_acc: 0.8000\n",
      "Epoch 63/100\n",
      "761/761 [==============================] - 0s 337us/step - loss: 0.6761 - acc: 0.7635 - val_loss: 1.0906 - val_acc: 0.5412\n",
      "Epoch 64/100\n",
      "761/761 [==============================] - 0s 330us/step - loss: 0.7172 - acc: 0.7293 - val_loss: 0.6195 - val_acc: 0.8235\n",
      "Epoch 65/100\n",
      "761/761 [==============================] - 0s 337us/step - loss: 0.6123 - acc: 0.7976 - val_loss: 0.5604 - val_acc: 0.8471\n",
      "Epoch 66/100\n",
      "761/761 [==============================] - 0s 328us/step - loss: 0.6151 - acc: 0.7898 - val_loss: 0.6703 - val_acc: 0.7882\n",
      "Epoch 67/100\n",
      "761/761 [==============================] - 0s 330us/step - loss: 0.6591 - acc: 0.8003 - val_loss: 0.5491 - val_acc: 0.8588\n",
      "Epoch 68/100\n",
      "761/761 [==============================] - 0s 332us/step - loss: 0.5747 - acc: 0.8239 - val_loss: 0.4750 - val_acc: 0.9059\n",
      "Epoch 69/100\n",
      "761/761 [==============================] - 0s 347us/step - loss: 0.5742 - acc: 0.8252 - val_loss: 0.4537 - val_acc: 0.9059\n",
      "Epoch 70/100\n",
      "761/761 [==============================] - 0s 333us/step - loss: 0.5282 - acc: 0.8397 - val_loss: 0.4687 - val_acc: 0.9176\n",
      "Epoch 71/100\n",
      "761/761 [==============================] - 0s 334us/step - loss: 0.5814 - acc: 0.8305 - val_loss: 0.4293 - val_acc: 0.9176\n",
      "Epoch 72/100\n",
      "761/761 [==============================] - 0s 337us/step - loss: 0.5599 - acc: 0.8292 - val_loss: 0.5498 - val_acc: 0.8471\n",
      "Epoch 73/100\n",
      "761/761 [==============================] - 0s 343us/step - loss: 0.5132 - acc: 0.8555 - val_loss: 0.5618 - val_acc: 0.8353\n",
      "Epoch 74/100\n",
      "761/761 [==============================] - 0s 328us/step - loss: 0.4868 - acc: 0.8541 - val_loss: 0.4231 - val_acc: 0.8941\n",
      "Epoch 75/100\n",
      "761/761 [==============================] - 0s 338us/step - loss: 0.4715 - acc: 0.8633 - val_loss: 0.4601 - val_acc: 0.8941\n",
      "Epoch 76/100\n",
      "761/761 [==============================] - 0s 331us/step - loss: 0.4411 - acc: 0.8778 - val_loss: 0.3816 - val_acc: 0.8941\n",
      "Epoch 77/100\n",
      "761/761 [==============================] - 0s 337us/step - loss: 0.4777 - acc: 0.8568 - val_loss: 0.4276 - val_acc: 0.8824\n",
      "Epoch 78/100\n",
      "761/761 [==============================] - 0s 328us/step - loss: 0.3848 - acc: 0.8949 - val_loss: 0.3424 - val_acc: 0.8941\n",
      "Epoch 79/100\n",
      "761/761 [==============================] - 0s 330us/step - loss: 0.3666 - acc: 0.9080 - val_loss: 0.3248 - val_acc: 0.9059\n",
      "Epoch 80/100\n",
      "761/761 [==============================] - 0s 328us/step - loss: 0.3281 - acc: 0.9120 - val_loss: 0.6357 - val_acc: 0.8235\n",
      "Epoch 81/100\n",
      "761/761 [==============================] - 0s 331us/step - loss: 0.3621 - acc: 0.8962 - val_loss: 0.3218 - val_acc: 0.9294\n",
      "Epoch 82/100\n",
      "761/761 [==============================] - 0s 327us/step - loss: 0.3276 - acc: 0.9080 - val_loss: 0.3158 - val_acc: 0.9059\n",
      "Epoch 83/100\n",
      "761/761 [==============================] - 0s 328us/step - loss: 0.3494 - acc: 0.9041 - val_loss: 0.3267 - val_acc: 0.9059\n",
      "Epoch 84/100\n",
      "761/761 [==============================] - 0s 329us/step - loss: 0.2772 - acc: 0.9330 - val_loss: 0.4493 - val_acc: 0.9059\n",
      "Epoch 85/100\n",
      "761/761 [==============================] - 0s 336us/step - loss: 0.3150 - acc: 0.9159 - val_loss: 0.3172 - val_acc: 0.9059\n",
      "Epoch 86/100\n",
      "761/761 [==============================] - 0s 323us/step - loss: 0.2927 - acc: 0.9172 - val_loss: 0.2973 - val_acc: 0.9176\n",
      "Epoch 87/100\n",
      "761/761 [==============================] - 0s 328us/step - loss: 0.2647 - acc: 0.9382 - val_loss: 0.3029 - val_acc: 0.9059\n",
      "Epoch 88/100\n",
      "761/761 [==============================] - 0s 329us/step - loss: 0.2648 - acc: 0.9409 - val_loss: 0.4006 - val_acc: 0.9059\n",
      "Epoch 89/100\n",
      "761/761 [==============================] - 0s 340us/step - loss: 0.3018 - acc: 0.9264 - val_loss: 0.2791 - val_acc: 0.9059\n",
      "Epoch 90/100\n",
      "761/761 [==============================] - 0s 329us/step - loss: 0.2395 - acc: 0.9382 - val_loss: 0.3204 - val_acc: 0.9059\n",
      "Epoch 91/100\n",
      "761/761 [==============================] - 0s 337us/step - loss: 0.2665 - acc: 0.9317 - val_loss: 0.3759 - val_acc: 0.8941\n",
      "Epoch 92/100\n",
      "761/761 [==============================] - 0s 332us/step - loss: 0.2670 - acc: 0.9251 - val_loss: 0.3227 - val_acc: 0.9059\n",
      "Epoch 93/100\n",
      "761/761 [==============================] - 0s 344us/step - loss: 0.2082 - acc: 0.9514 - val_loss: 0.3782 - val_acc: 0.9059\n",
      "Epoch 94/100\n",
      "761/761 [==============================] - 0s 338us/step - loss: 0.2422 - acc: 0.9382 - val_loss: 0.3234 - val_acc: 0.8941\n",
      "Epoch 95/100\n",
      "761/761 [==============================] - 0s 336us/step - loss: 0.2005 - acc: 0.9553 - val_loss: 0.2903 - val_acc: 0.9059\n",
      "Epoch 96/100\n",
      "761/761 [==============================] - 0s 336us/step - loss: 0.2211 - acc: 0.9409 - val_loss: 0.3292 - val_acc: 0.8941\n",
      "Epoch 97/100\n",
      "761/761 [==============================] - 0s 335us/step - loss: 0.2033 - acc: 0.9474 - val_loss: 0.2956 - val_acc: 0.9059\n",
      "Epoch 98/100\n",
      "761/761 [==============================] - 0s 320us/step - loss: 0.2170 - acc: 0.9461 - val_loss: 0.3739 - val_acc: 0.9059\n",
      "Epoch 99/100\n",
      "761/761 [==============================] - 0s 330us/step - loss: 0.2090 - acc: 0.9514 - val_loss: 0.2868 - val_acc: 0.9176\n",
      "Epoch 100/100\n",
      "761/761 [==============================] - 0s 336us/step - loss: 0.1872 - acc: 0.9580 - val_loss: 0.3080 - val_acc: 0.9059\n"
     ]
    }
   ],
   "source": [
    "history = model.fit(x=[X1_train, X2_train, X3_train], y=y_train, batch_size=32, epochs=100, \n",
    "                   verbose=1, validation_split=0.1)# , callbacks=[early_stopping])"
   ]
  },
  {
   "cell_type": "code",
   "execution_count": 16,
   "metadata": {},
   "outputs": [
    {
     "data": {
      "image/png": "[encoded data removed]",
      "text/plain": [
       "<Figure size 432x288 with 1 Axes>"
      ]
     },
     "metadata": {
      "needs_background": "light"
     },
     "output_type": "display_data"
    },
    {
     "data": {
      "image/png": "[encoded data removed]",
      "text/plain": [
       "<Figure size 432x288 with 1 Axes>"
      ]
     },
     "metadata": {
      "needs_background": "light"
     },
     "output_type": "display_data"
    }
   ],
   "source": [
    "import matplotlib.pyplot as plt\n",
    "\n",
    "plt.plot(history.history['acc'])\n",
    "plt.plot(history.history['val_acc'])\n",
    "\n",
    "plt.title('model accuracy')\n",
    "plt.ylabel('acc')\n",
    "plt.xlabel('epoch')\n",
    "plt.legend(['train','test'], loc='upper left')\n",
    "plt.show()\n",
    "\n",
    "plt.plot(history.history['loss'])\n",
    "plt.plot(history.history['val_loss'])\n",
    "\n",
    "plt.title('model loss')\n",
    "plt.ylabel('loss')\n",
    "plt.xlabel('epoch')\n",
    "plt.legend(['train','test'], loc='upper left')\n",
    "plt.show()"
   ]
  },
  {
   "cell_type": "code",
   "execution_count": 17,
   "metadata": {},
   "outputs": [
    {
     "name": "stdout",
     "output_type": "stream",
     "text": [
      "94/94 [==============================] - 0s 1ms/step\n",
      "Test Score: 0.3543010303314696\n",
      "Test ACC: 0.8936170339584351\n"
     ]
    }
   ],
   "source": [
    "score = model.evaluate(x=[X1_test, X2_test, X3_test], y=y_test, verbose=1)\n",
    "\n",
    "print(\"Test Score:\", score[0])\n",
    "print(\"Test ACC:\", score[1])"
   ]
  },
  {
   "cell_type": "code",
   "execution_count": 18,
   "metadata": {},
   "outputs": [],
   "source": [
    "#0.03 -> 91 72 68 76 72\n",
    "#0.02 -> 75 74 \n",
    "#0.05 -> 94 91 63 59 90 61 62\n",
    "# 0.05, sequenth length 64 -> 58 60 53\n",
    "# 0.05, sequenth length 64, embedding 64 -> 오류\n",
    "# 0.01 -> 68 76 74 100*94 84 74 82 86 89"
   ]
  }
 ],
 "metadata": {
  "kernelspec": {
   "display_name": "Python 3",
   "language": "python",
   "name": "python3"
  },
  "language_info": {
   "codemirror_mode": {
    "name": "ipython",
    "version": 3
   },
   "file_extension": ".py",
   "mimetype": "text/x-python",
   "name": "python",
   "nbconvert_exporter": "python",
   "pygments_lexer": "ipython3",
   "version": "3.7.7"
  }
 },
 "nbformat": 4,
 "nbformat_minor": 4
}
