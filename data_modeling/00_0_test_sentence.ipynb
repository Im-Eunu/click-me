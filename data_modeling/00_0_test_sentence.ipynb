{
 "cells": [
  {
   "cell_type": "code",
   "execution_count": 1,
   "metadata": {},
   "outputs": [],
   "source": [
    "import tensorflow as tf\n",
    "physical_devices = tf.config.list_physical_devices('GPU') \n",
    "tf.config.experimental.set_memory_growth(physical_devices[0], True)"
   ]
  },
  {
   "cell_type": "code",
   "execution_count": 2,
   "metadata": {},
   "outputs": [],
   "source": [
    "import sys\n",
    "ipython = get_ipython()\n",
    "\n",
    "def hide_traceback(exc_tuple=None, filename=None, tb_offset=None,\n",
    "                      exception_only=False, running_compiled_code=False):\n",
    "       etype, value, tb = sys.exc_info()\n",
    "       return ipython._showtraceback(etype, value, ipython.InteractiveTB.get_exception_only(etype, value))\n",
    "\n",
    "ipython.showtraceback = hide_traceback"
   ]
  },
  {
   "cell_type": "code",
   "execution_count": 3,
   "metadata": {},
   "outputs": [
    {
     "name": "stderr",
     "output_type": "stream",
     "text": [
      "Using TensorFlow backend.\n"
     ]
    }
   ],
   "source": [
    "from keras.preprocessing.text import one_hot\n",
    "from keras.preprocessing.sequence import pad_sequences\n",
    "from keras.models import Sequential\n",
    "from keras.layers.core import Activation, Dropout, Dense, Flatten\n",
    "from keras.layers import LSTM\n",
    "from keras.layers import GlobalMaxPooling1D\n",
    "from keras.models import Model\n",
    "from keras.layers.embeddings import Embedding\n",
    "from sklearn.model_selection import train_test_split\n",
    "from keras.preprocessing.text import Tokenizer\n",
    "from keras.layers import Input\n",
    "from keras.layers.merge import Concatenate\n",
    "from keras.layers.normalization import BatchNormalization\n",
    "from keras import regularizers\n",
    "from keras.initializers import Constant\n",
    "from keras.layers import *\n",
    "\n",
    "import os\n",
    "import pandas as pd\n",
    "import numpy as np\n",
    "from numpy import array\n",
    "import re"
   ]
  },
  {
   "cell_type": "code",
   "execution_count": 4,
   "metadata": {},
   "outputs": [],
   "source": [
    "fname = os.path.join(os.path.dirname(os.getcwd()), 'xlsx_data', f\"{'xlsx_#10_final'}.xlsx\")\n",
    "cname = os.path.join(os.path.dirname(os.getcwd()), 'xlsx_data', f\"{'xlsx_#10_case'}.xlsx\")\n",
    "lname = os.path.join(os.path.dirname(os.getcwd()), 'xlsx_data', f\"{'xlsx_#10_law'}.xlsx\")\n",
    "\n",
    "dff = pd.read_excel(fname, index_col=0)\n",
    "dfc = pd.read_excel(cname, index_col=0)\n",
    "dfl = pd.read_excel(lname, index_col=0)\n",
    "\n",
    "df = pd.concat([dff[['text', 'y_sentence']], dfc[1:], dfl[1:]], axis=1).reindex(dff.index)\n",
    "df = df.dropna(subset=['y_sentence'])\n",
    "df = df[df['y_sentence'] < 49]"
   ]
  },
  {
   "cell_type": "code",
   "execution_count": 5,
   "metadata": {},
   "outputs": [],
   "source": [
    "X = df.drop('y_sentence', axis=1)\n",
    "y = df['y_sentence']"
   ]
  },
  {
   "cell_type": "code",
   "execution_count": 6,
   "metadata": {},
   "outputs": [],
   "source": [
    "X_train, X_test, y_train, y_test = train_test_split(X, y, test_size=0.1, random_state=42)"
   ]
  },
  {
   "cell_type": "code",
   "execution_count": 7,
   "metadata": {},
   "outputs": [],
   "source": [
    "X1_train = X_train[dfc.columns[1:]]\n",
    "X1_test = X_test[dfc.columns[1:]]\n",
    "\n",
    "X2_train = X_train[dfl.columns[1:]]\n",
    "X2_test = X_test[dfl.columns[1:]]\n"
   ]
  },
  {
   "cell_type": "code",
   "execution_count": 8,
   "metadata": {},
   "outputs": [],
   "source": [
    "X3_train = list(X_train[\"text\"])\n",
    "X3_test = list(X_test[\"text\"])\n",
    "\n",
    "max_features = 30000\n",
    "sequence_length = 128\n",
    "\n",
    "tokenizer = Tokenizer(num_words=max_features, split=' ', oov_token='<unw>')\n",
    "tokenizer.fit_on_texts(X3_train)\n",
    "\n",
    "X3_train = tokenizer.texts_to_sequences(X3_train)\n",
    "X3_test = tokenizer.texts_to_sequences(X3_test)\n",
    "\n",
    "X3_train = pad_sequences(X3_train, sequence_length)\n",
    "X3_test = pad_sequences(X3_test, sequence_length)"
   ]
  },
  {
   "cell_type": "code",
   "execution_count": 9,
   "metadata": {},
   "outputs": [],
   "source": [
    "input_1 = Input(shape=(687,))\n",
    "input_2 = Input(shape=(972,))\n",
    "\n",
    "dense_layer_1_1 = Dense(10, activation='relu')(input_1)\n",
    "dense_layer_1_2 = Dense(10, activation='relu')(dense_layer_1_1)\n",
    "dense_layer_1_3 = Dense(10, activation='relu')(dense_layer_1_2)\n",
    "dense_layer_1_4 = Dense(10, activation='relu')(dense_layer_1_3)\n",
    "dropout_1_5 = Dropout(0.2)(dense_layer_1_4)\n",
    "\n",
    "\n",
    "dense_layer_2_1 = Dense(10, activation='relu')(input_2)\n",
    "dense_layer_2_2 = Dense(10, activation='relu')(dense_layer_2_1)\n",
    "dense_layer_2_3 = Dense(10, activation='relu')(dense_layer_2_2)\n",
    "dense_layer_2_4 = Dense(10, activation='relu')(dense_layer_2_3)\n",
    "dropout_2_5 = Dropout(0.2)(dense_layer_2_4)"
   ]
  },
  {
   "cell_type": "code",
   "execution_count": null,
   "metadata": {},
   "outputs": [],
   "source": []
  },
  {
   "cell_type": "code",
   "execution_count": 10,
   "metadata": {},
   "outputs": [
    {
     "name": "stdout",
     "output_type": "stream",
     "text": [
      "22242\n"
     ]
    }
   ],
   "source": [
    "embeddings_index = {}\n",
    "f = open(os.path.join(os.path.dirname(os.getcwd()), 'data_processing', 'ft_0814t.txt'),  encoding='utf-8')\n",
    "for line in f:\n",
    "    values = line.split()\n",
    "    word = values[0]\n",
    "    coefs = np.asarray(values[1:], dtype='float32')\n",
    "    embeddings_index[word] = coefs\n",
    "f.close()\n",
    "\n",
    "word_index = tokenizer.word_index\n",
    "\n",
    "num_words = min(max_features, len(word_index)) + 1\n",
    "print(num_words)\n",
    "embedding_dim = 128\n",
    "num_filters = 100\n",
    "\n",
    "embedding_matrix = np.zeros((num_words, embedding_dim))\n",
    "\n",
    "for word, i in word_index.items():\n",
    "    if i > max_features:\n",
    "        continue\n",
    "    embedding_vector = embeddings_index.get(word)\n",
    "    if embedding_vector is not None:\n",
    "        embedding_matrix[i] = embedding_vector\n",
    "    else:\n",
    "        embedding_matrix[i] = np.random.randn(embedding_dim)"
   ]
  },
  {
   "cell_type": "code",
   "execution_count": 11,
   "metadata": {},
   "outputs": [],
   "source": [
    "input_3 = Input(shape=(sequence_length,), dtype='int32')\n",
    "embedding_layer_3 = Embedding(num_words,\n",
    "                            embedding_dim,\n",
    "                            embeddings_initializer=Constant(embedding_matrix),\n",
    "                            input_length=sequence_length,\n",
    "                            trainable=True)(input_3)\n",
    "\n",
    "reshape_3 = Reshape((sequence_length, embedding_dim, 1))(embedding_layer_3)\n",
    "\n",
    "conv_0_3 = Conv2D(num_filters, kernel_size=(3, embedding_dim), activation='relu', kernel_regularizer=regularizers.l2(3))(reshape_3)\n",
    "conv_1_3 = Conv2D(num_filters, kernel_size=(4, embedding_dim), activation='relu', kernel_regularizer=regularizers.l2(3))(reshape_3)\n",
    "conv_2_3 = Conv2D(num_filters, kernel_size=(5, embedding_dim), activation='relu', kernel_regularizer=regularizers.l2(3))(reshape_3)\n",
    "conv_3_3 = Conv2D(num_filters, kernel_size=(6, embedding_dim), activation='relu', kernel_regularizer=regularizers.l2(3))(reshape_3)\n",
    "\n",
    "maxpool_0_3 = MaxPool2D(pool_size=(sequence_length - 3 + 1, 1), strides=(1,1), padding='valid')(conv_0_3)\n",
    "maxpool_1_3 = MaxPool2D(pool_size=(sequence_length - 4 + 1, 1), strides=(1,1), padding='valid')(conv_1_3)\n",
    "maxpool_2_3 = MaxPool2D(pool_size=(sequence_length - 5 + 1, 1), strides=(1,1), padding='valid')(conv_2_3)\n",
    "maxpool_3_3 = MaxPool2D(pool_size=(sequence_length - 6 + 1, 1), strides=(1,1), padding='valid')(conv_3_3)\n",
    "\n",
    "concatenated_tensor_3 = Concatenate(axis=1)([maxpool_0_3, maxpool_1_3, maxpool_2_3, maxpool_3_3])\n",
    "flatten_3 = Flatten()(concatenated_tensor_3)\n",
    "dropout_3 = Dropout(0.5)(flatten_3)"
   ]
  },
  {
   "cell_type": "code",
   "execution_count": 12,
   "metadata": {},
   "outputs": [],
   "source": [
    "concat_layer = Concatenate()([dropout_1_5, dropout_2_5, dropout_3])\n",
    "\n",
    "dense_layer_3 = Dense(10, activation='relu')(concat_layer)\n",
    "dense_layer_4 = Dense(10, activation='relu')(dense_layer_3)\n",
    "dense_layer_5 = Dense(10, activation='relu')(dense_layer_4)\n",
    "dense_layer_6 = Dense(10, activation='relu')(dense_layer_5)\n",
    "\n",
    "output = Dense(1, activation='linear')(dense_layer_3)\n",
    "\n",
    "model = Model(inputs=[input_1, input_2, input_3], outputs=output)"
   ]
  },
  {
   "cell_type": "code",
   "execution_count": 13,
   "metadata": {},
   "outputs": [
    {
     "name": "stdout",
     "output_type": "stream",
     "text": [
      "Model: \"model_1\"\n",
      "__________________________________________________________________________________________________\n",
      "Layer (type)                    Output Shape         Param #     Connected to                     \n",
      "==================================================================================================\n",
      "input_3 (InputLayer)            (None, 128)          0                                            \n",
      "__________________________________________________________________________________________________\n",
      "embedding_1 (Embedding)         (None, 128, 128)     2846976     input_3[0][0]                    \n",
      "__________________________________________________________________________________________________\n",
      "input_1 (InputLayer)            (None, 687)          0                                            \n",
      "__________________________________________________________________________________________________\n",
      "input_2 (InputLayer)            (None, 972)          0                                            \n",
      "__________________________________________________________________________________________________\n",
      "reshape_1 (Reshape)             (None, 128, 128, 1)  0           embedding_1[0][0]                \n",
      "__________________________________________________________________________________________________\n",
      "dense_1 (Dense)                 (None, 10)           6880        input_1[0][0]                    \n",
      "__________________________________________________________________________________________________\n",
      "dense_5 (Dense)                 (None, 10)           9730        input_2[0][0]                    \n",
      "__________________________________________________________________________________________________\n",
      "conv2d_1 (Conv2D)               (None, 126, 1, 100)  38500       reshape_1[0][0]                  \n",
      "__________________________________________________________________________________________________\n",
      "conv2d_2 (Conv2D)               (None, 125, 1, 100)  51300       reshape_1[0][0]                  \n",
      "__________________________________________________________________________________________________\n",
      "conv2d_3 (Conv2D)               (None, 124, 1, 100)  64100       reshape_1[0][0]                  \n",
      "__________________________________________________________________________________________________\n",
      "conv2d_4 (Conv2D)               (None, 123, 1, 100)  76900       reshape_1[0][0]                  \n",
      "__________________________________________________________________________________________________\n",
      "dense_2 (Dense)                 (None, 10)           110         dense_1[0][0]                    \n",
      "__________________________________________________________________________________________________\n",
      "dense_6 (Dense)                 (None, 10)           110         dense_5[0][0]                    \n",
      "__________________________________________________________________________________________________\n",
      "max_pooling2d_1 (MaxPooling2D)  (None, 1, 1, 100)    0           conv2d_1[0][0]                   \n",
      "__________________________________________________________________________________________________\n",
      "max_pooling2d_2 (MaxPooling2D)  (None, 1, 1, 100)    0           conv2d_2[0][0]                   \n",
      "__________________________________________________________________________________________________\n",
      "max_pooling2d_3 (MaxPooling2D)  (None, 1, 1, 100)    0           conv2d_3[0][0]                   \n",
      "__________________________________________________________________________________________________\n",
      "max_pooling2d_4 (MaxPooling2D)  (None, 1, 1, 100)    0           conv2d_4[0][0]                   \n",
      "__________________________________________________________________________________________________\n",
      "dense_3 (Dense)                 (None, 10)           110         dense_2[0][0]                    \n",
      "__________________________________________________________________________________________________\n",
      "dense_7 (Dense)                 (None, 10)           110         dense_6[0][0]                    \n",
      "__________________________________________________________________________________________________\n",
      "concatenate_1 (Concatenate)     (None, 4, 1, 100)    0           max_pooling2d_1[0][0]            \n",
      "                                                                 max_pooling2d_2[0][0]            \n",
      "                                                                 max_pooling2d_3[0][0]            \n",
      "                                                                 max_pooling2d_4[0][0]            \n",
      "__________________________________________________________________________________________________\n",
      "dense_4 (Dense)                 (None, 10)           110         dense_3[0][0]                    \n",
      "__________________________________________________________________________________________________\n",
      "dense_8 (Dense)                 (None, 10)           110         dense_7[0][0]                    \n",
      "__________________________________________________________________________________________________\n",
      "flatten_1 (Flatten)             (None, 400)          0           concatenate_1[0][0]              \n",
      "__________________________________________________________________________________________________\n",
      "dropout_1 (Dropout)             (None, 10)           0           dense_4[0][0]                    \n",
      "__________________________________________________________________________________________________\n",
      "dropout_2 (Dropout)             (None, 10)           0           dense_8[0][0]                    \n",
      "__________________________________________________________________________________________________\n",
      "dropout_3 (Dropout)             (None, 400)          0           flatten_1[0][0]                  \n",
      "__________________________________________________________________________________________________\n",
      "concatenate_2 (Concatenate)     (None, 420)          0           dropout_1[0][0]                  \n",
      "                                                                 dropout_2[0][0]                  \n",
      "                                                                 dropout_3[0][0]                  \n",
      "__________________________________________________________________________________________________\n",
      "dense_9 (Dense)                 (None, 10)           4210        concatenate_2[0][0]              \n",
      "__________________________________________________________________________________________________\n",
      "dense_13 (Dense)                (None, 1)            11          dense_9[0][0]                    \n",
      "==================================================================================================\n",
      "Total params: 3,099,267\n",
      "Trainable params: 3,099,267\n",
      "Non-trainable params: 0\n",
      "__________________________________________________________________________________________________\n",
      "None\n"
     ]
    }
   ],
   "source": [
    "model.compile(loss='mse', optimizer='Adamax', metrics=['mse', 'mae', 'mape', 'cosine'])\n",
    "print(model.summary())\n",
    "#Adamax"
   ]
  },
  {
   "cell_type": "code",
   "execution_count": 14,
   "metadata": {},
   "outputs": [
    {
     "name": "stderr",
     "output_type": "stream",
     "text": [
      "C:\\ProgramData\\Anaconda3\\lib\\site-packages\\tensorflow_core\\python\\framework\\indexed_slices.py:433: UserWarning: Converting sparse IndexedSlices to a dense Tensor of unknown shape. This may consume a large amount of memory.\n",
      "  \"Converting sparse IndexedSlices to a dense Tensor of unknown shape. \"\n"
     ]
    },
    {
     "name": "stdout",
     "output_type": "stream",
     "text": [
      "Train on 2903 samples, validate on 323 samples\n",
      "Epoch 1/50\n",
      "2903/2903 [==============================] - 4s 1ms/step - loss: 185.3709 - mse: 152.8832 - mae: 9.3931 - mape: 1786440832.0000 - cosine: 0.8240 - val_loss: 165.6897 - val_mse: 138.0850 - val_mae: 8.9420 - val_mape: 1772052608.0000 - val_cosine: 0.8514\n",
      "Epoch 2/50\n",
      "2903/2903 [==============================] - 2s 648us/step - loss: 143.3404 - mse: 114.9791 - mae: 8.4153 - mape: 1849351040.0000 - cosine: 0.8357 - val_loss: 157.6054 - val_mse: 127.5605 - val_mae: 8.1845 - val_mape: 1303025408.0000 - val_cosine: 0.8514\n",
      "Epoch 3/50\n",
      "2903/2903 [==============================] - 2s 647us/step - loss: 137.4109 - mse: 103.9475 - mae: 7.8610 - mape: 1579796608.0000 - cosine: 0.8357 - val_loss: 154.1074 - val_mse: 118.9377 - val_mae: 7.8836 - val_mape: 1200517120.0000 - val_cosine: 0.8514\n",
      "Epoch 4/50\n",
      "2903/2903 [==============================] - 2s 645us/step - loss: 129.6500 - mse: 91.8382 - mae: 7.3437 - mape: 1437583616.0000 - cosine: 0.8350 - val_loss: 154.2379 - val_mse: 116.0377 - val_mae: 7.6919 - val_mape: 1142530816.0000 - val_cosine: 0.8514\n",
      "Epoch 5/50\n",
      "2903/2903 [==============================] - 2s 644us/step - loss: 125.1532 - mse: 84.8031 - mae: 7.0121 - mape: 1376326912.0000 - cosine: 0.8350 - val_loss: 151.8017 - val_mse: 109.3319 - val_mae: 7.6798 - val_mape: 1198467584.0000 - val_cosine: 0.8514\n",
      "Epoch 6/50\n",
      "2903/2903 [==============================] - 2s 654us/step - loss: 122.1649 - mse: 78.0969 - mae: 6.7593 - mape: 1239741696.0000 - cosine: 0.8322 - val_loss: 153.4484 - val_mse: 108.2057 - val_mae: 7.6555 - val_mape: 1242440704.0000 - val_cosine: 0.8514\n",
      "Epoch 7/50\n",
      "2903/2903 [==============================] - 2s 654us/step - loss: 122.1053 - mse: 75.9528 - mae: 6.6933 - mape: 1235017472.0000 - cosine: 0.8309 - val_loss: 156.4544 - val_mse: 108.6562 - val_mae: 7.5879 - val_mape: 1181404160.0000 - val_cosine: 0.8514\n",
      "Epoch 8/50\n",
      "2903/2903 [==============================] - 2s 643us/step - loss: 116.6945 - mse: 68.6683 - mae: 6.3441 - mape: 1176902784.0000 - cosine: 0.8281 - val_loss: 156.4483 - val_mse: 106.9042 - val_mae: 7.3631 - val_mape: 1024105280.0000 - val_cosine: 0.8514\n",
      "Epoch 9/50\n",
      "2903/2903 [==============================] - 2s 647us/step - loss: 117.8794 - mse: 68.2275 - mae: 6.3477 - mape: 1157810048.0000 - cosine: 0.8274 - val_loss: 156.6213 - val_mse: 105.6644 - val_mae: 7.4079 - val_mape: 1116295808.0000 - val_cosine: 0.8514\n",
      "Epoch 10/50\n",
      "2903/2903 [==============================] - 2s 646us/step - loss: 116.0679 - mse: 64.6457 - mae: 6.1554 - mape: 1103832448.0000 - cosine: 0.8267 - val_loss: 154.9647 - val_mse: 103.3440 - val_mae: 7.5209 - val_mape: 1193806976.0000 - val_cosine: 0.8514\n",
      "Epoch 11/50\n",
      "2903/2903 [==============================] - 2s 651us/step - loss: 112.5571 - mse: 60.8749 - mae: 6.0007 - mape: 1044812160.0000 - cosine: 0.8302 - val_loss: 162.5899 - val_mse: 110.7208 - val_mae: 7.3471 - val_mape: 931617152.0000 - val_cosine: 0.8514\n",
      "Epoch 12/50\n",
      "2903/2903 [==============================] - 2s 646us/step - loss: 108.8068 - mse: 56.4710 - mae: 5.7833 - mape: 1011741120.0000 - cosine: 0.8288 - val_loss: 155.3120 - val_mse: 102.6465 - val_mae: 7.3836 - val_mape: 1083079424.0000 - val_cosine: 0.8514\n",
      "Epoch 13/50\n",
      "2903/2903 [==============================] - 2s 646us/step - loss: 107.2797 - mse: 55.1771 - mae: 5.7007 - mape: 969644992.0000 - cosine: 0.8302 - val_loss: 156.2124 - val_mse: 102.8862 - val_mae: 7.3711 - val_mape: 1124024192.0000 - val_cosine: 0.8514\n",
      "Epoch 14/50\n",
      "2903/2903 [==============================] - 2s 649us/step - loss: 108.2986 - mse: 55.4395 - mae: 5.6643 - mape: 1010216832.0000 - cosine: 0.8240 - val_loss: 156.3394 - val_mse: 102.3515 - val_mae: 7.2019 - val_mape: 1031417664.0000 - val_cosine: 0.8452\n",
      "Epoch 15/50\n",
      "2903/2903 [==============================] - 2s 649us/step - loss: 106.8416 - mse: 52.7972 - mae: 5.5901 - mape: 940035008.0000 - cosine: 0.8247 - val_loss: 154.6112 - val_mse: 100.6473 - val_mae: 7.2684 - val_mape: 1142832128.0000 - val_cosine: 0.8452\n",
      "Epoch 16/50\n",
      "2903/2903 [==============================] - 2s 640us/step - loss: 106.9284 - mse: 53.1983 - mae: 5.5672 - mape: 973805888.0000 - cosine: 0.8302 - val_loss: 157.6688 - val_mse: 102.3406 - val_mae: 7.2044 - val_mape: 1085661056.0000 - val_cosine: 0.8452\n",
      "Epoch 17/50\n",
      "2903/2903 [==============================] - 2s 650us/step - loss: 106.1500 - mse: 51.6526 - mae: 5.5059 - mape: 998650496.0000 - cosine: 0.8240 - val_loss: 156.7774 - val_mse: 101.5673 - val_mae: 7.2411 - val_mape: 1068092224.0000 - val_cosine: 0.8452\n",
      "Epoch 18/50\n",
      "2903/2903 [==============================] - 2s 653us/step - loss: 104.0760 - mse: 49.3589 - mae: 5.3853 - mape: 918771136.0000 - cosine: 0.8281 - val_loss: 157.2589 - val_mse: 101.8036 - val_mae: 7.3560 - val_mape: 1133198080.0000 - val_cosine: 0.8452\n",
      "Epoch 19/50\n",
      "2903/2903 [==============================] - 2s 650us/step - loss: 100.6209 - mse: 46.3782 - mae: 5.1807 - mape: 899388864.0000 - cosine: 0.8302 - val_loss: 153.9699 - val_mse: 98.9266 - val_mae: 7.3130 - val_mape: 1176256768.0000 - val_cosine: 0.8452\n",
      "Epoch 20/50\n",
      "2903/2903 [==============================] - 2s 653us/step - loss: 96.8881 - mse: 43.6118 - mae: 5.0837 - mape: 871897088.0000 - cosine: 0.8260 - val_loss: 155.3207 - val_mse: 101.3966 - val_mae: 7.0846 - val_mape: 1021650368.0000 - val_cosine: 0.8452\n",
      "Epoch 21/50\n",
      "2903/2903 [==============================] - 2s 647us/step - loss: 98.8060 - mse: 45.4802 - mae: 5.1249 - mape: 873948160.0000 - cosine: 0.8281 - val_loss: 154.5049 - val_mse: 100.0453 - val_mae: 7.3921 - val_mape: 1187785728.0000 - val_cosine: 0.8452\n",
      "Epoch 22/50\n",
      "2903/2903 [==============================] - 2s 647us/step - loss: 96.6991 - mse: 43.4309 - mae: 5.0961 - mape: 896357120.0000 - cosine: 0.8274 - val_loss: 152.0562 - val_mse: 97.8156 - val_mae: 7.3530 - val_mape: 1245162496.0000 - val_cosine: 0.8452\n",
      "Epoch 23/50\n",
      "2903/2903 [==============================] - 2s 653us/step - loss: 94.2730 - mse: 40.9235 - mae: 4.8884 - mape: 821864000.0000 - cosine: 0.8288 - val_loss: 153.2063 - val_mse: 99.1927 - val_mae: 7.4224 - val_mape: 1232530816.0000 - val_cosine: 0.8452\n",
      "Epoch 24/50\n",
      "2903/2903 [==============================] - 2s 648us/step - loss: 95.2218 - mse: 42.0564 - mae: 4.9549 - mape: 849488320.0000 - cosine: 0.8198 - val_loss: 152.5847 - val_mse: 98.6359 - val_mae: 7.1840 - val_mape: 1076895104.0000 - val_cosine: 0.8452\n",
      "Epoch 25/50\n",
      "2903/2903 [==============================] - 2s 650us/step - loss: 95.8235 - mse: 42.8293 - mae: 4.9892 - mape: 817324736.0000 - cosine: 0.8260 - val_loss: 159.3804 - val_mse: 104.4837 - val_mae: 7.3548 - val_mape: 1101642624.0000 - val_cosine: 0.8390\n",
      "Epoch 26/50\n",
      "2903/2903 [==============================] - 2s 643us/step - loss: 91.0111 - mse: 37.6557 - mae: 4.6855 - mape: 747335168.0000 - cosine: 0.8267 - val_loss: 155.5962 - val_mse: 102.9349 - val_mae: 7.2233 - val_mape: 998315968.0000 - val_cosine: 0.8452\n",
      "Epoch 27/50\n",
      "2903/2903 [==============================] - 2s 655us/step - loss: 86.9519 - mse: 35.6731 - mae: 4.5881 - mape: 789250304.0000 - cosine: 0.8240 - val_loss: 150.7605 - val_mse: 98.4090 - val_mae: 7.2989 - val_mape: 1167673216.0000 - val_cosine: 0.8452\n",
      "Epoch 28/50\n",
      "2903/2903 [==============================] - 2s 651us/step - loss: 86.2418 - mse: 35.3703 - mae: 4.5634 - mape: 761784320.0000 - cosine: 0.8260 - val_loss: 152.0843 - val_mse: 100.0461 - val_mae: 7.4080 - val_mape: 1138593152.0000 - val_cosine: 0.8390\n",
      "Epoch 29/50\n",
      "2903/2903 [==============================] - 2s 658us/step - loss: 86.5456 - mse: 35.8569 - mae: 4.5807 - mape: 800435712.0000 - cosine: 0.8233 - val_loss: 149.4636 - val_mse: 97.9655 - val_mae: 7.3177 - val_mape: 1200420992.0000 - val_cosine: 0.8452\n",
      "Epoch 30/50\n",
      "2903/2903 [==============================] - 2s 660us/step - loss: 86.4980 - mse: 35.7068 - mae: 4.5415 - mape: 761767552.0000 - cosine: 0.8309 - val_loss: 148.8185 - val_mse: 96.8886 - val_mae: 7.4016 - val_mape: 1292305792.0000 - val_cosine: 0.8452\n",
      "Epoch 31/50\n",
      "2903/2903 [==============================] - 2s 652us/step - loss: 86.2033 - mse: 35.8430 - mae: 4.5019 - mape: 739610048.0000 - cosine: 0.8281 - val_loss: 148.5309 - val_mse: 96.3672 - val_mae: 7.2841 - val_mape: 1101253248.0000 - val_cosine: 0.8390\n"
     ]
    },
    {
     "name": "stdout",
     "output_type": "stream",
     "text": [
      "Epoch 32/50\n",
      "2903/2903 [==============================] - 2s 653us/step - loss: 82.6634 - mse: 31.9827 - mae: 4.3152 - mape: 721312704.0000 - cosine: 0.8254 - val_loss: 148.0412 - val_mse: 97.6778 - val_mae: 7.2505 - val_mape: 1134142464.0000 - val_cosine: 0.8328\n",
      "Epoch 33/50\n",
      "2903/2903 [==============================] - 2s 654us/step - loss: 81.2188 - mse: 31.9593 - mae: 4.3190 - mape: 682612800.0000 - cosine: 0.8295 - val_loss: 149.3674 - val_mse: 98.3763 - val_mae: 7.3556 - val_mape: 1220143872.0000 - val_cosine: 0.8328\n",
      "Epoch 34/50\n",
      "2903/2903 [==============================] - 2s 651us/step - loss: 80.4590 - mse: 31.1205 - mae: 4.2983 - mape: 723621184.0000 - cosine: 0.8281 - val_loss: 152.0022 - val_mse: 101.3377 - val_mae: 7.4698 - val_mape: 1145104896.0000 - val_cosine: 0.8390\n",
      "Epoch 35/50\n",
      "2903/2903 [==============================] - 2s 651us/step - loss: 81.4099 - mse: 31.3136 - mae: 4.2681 - mape: 725471040.0000 - cosine: 0.8316 - val_loss: 153.2776 - val_mse: 103.1800 - val_mae: 7.1902 - val_mape: 911529472.0000 - val_cosine: 0.8328\n",
      "Epoch 36/50\n",
      "2903/2903 [==============================] - 2s 650us/step - loss: 80.7637 - mse: 31.5726 - mae: 4.2482 - mape: 697718144.0000 - cosine: 0.8288 - val_loss: 150.7716 - val_mse: 100.2320 - val_mae: 7.3301 - val_mape: 1071338496.0000 - val_cosine: 0.8390\n",
      "Epoch 37/50\n",
      "2903/2903 [==============================] - 2s 650us/step - loss: 76.9474 - mse: 28.2427 - mae: 4.0036 - mape: 650570368.0000 - cosine: 0.8336 - val_loss: 149.0690 - val_mse: 100.0050 - val_mae: 7.1770 - val_mape: 1058584576.0000 - val_cosine: 0.8390\n",
      "Epoch 38/50\n",
      "2903/2903 [==============================] - 2s 654us/step - loss: 78.1892 - mse: 29.3744 - mae: 4.1222 - mape: 679761152.0000 - cosine: 0.8295 - val_loss: 147.7755 - val_mse: 97.3388 - val_mae: 7.0933 - val_mape: 1158751744.0000 - val_cosine: 0.8452\n",
      "Epoch 39/50\n",
      "2903/2903 [==============================] - 2s 651us/step - loss: 76.6277 - mse: 27.9052 - mae: 4.0008 - mape: 639060352.0000 - cosine: 0.8295 - val_loss: 146.4968 - val_mse: 97.2301 - val_mae: 7.1741 - val_mape: 1099384448.0000 - val_cosine: 0.8390\n",
      "Epoch 40/50\n",
      "2903/2903 [==============================] - 2s 645us/step - loss: 76.2718 - mse: 28.3269 - mae: 4.0501 - mape: 638932416.0000 - cosine: 0.8322 - val_loss: 145.7224 - val_mse: 96.9178 - val_mae: 7.2164 - val_mape: 1119005952.0000 - val_cosine: 0.8514\n",
      "Epoch 41/50\n",
      "2903/2903 [==============================] - 2s 645us/step - loss: 75.3118 - mse: 27.2430 - mae: 3.9522 - mape: 615586944.0000 - cosine: 0.8329 - val_loss: 148.6695 - val_mse: 99.7086 - val_mae: 7.2876 - val_mape: 1134089344.0000 - val_cosine: 0.8514\n",
      "Epoch 42/50\n",
      "2903/2903 [==============================] - 2s 656us/step - loss: 75.5244 - mse: 27.7665 - mae: 3.9471 - mape: 639206336.0000 - cosine: 0.8316 - val_loss: 146.1597 - val_mse: 98.1365 - val_mae: 7.2838 - val_mape: 1175849088.0000 - val_cosine: 0.8452\n",
      "Epoch 43/50\n",
      "2903/2903 [==============================] - 2s 653us/step - loss: 71.5964 - mse: 25.1626 - mae: 3.7502 - mape: 596574848.0000 - cosine: 0.8329 - val_loss: 148.6656 - val_mse: 102.4508 - val_mae: 7.2921 - val_mape: 1048134208.0000 - val_cosine: 0.8390\n",
      "Epoch 44/50\n",
      "2903/2903 [==============================] - 2s 653us/step - loss: 69.5133 - mse: 24.1055 - mae: 3.6864 - mape: 558495744.0000 - cosine: 0.8329 - val_loss: 144.0373 - val_mse: 97.8702 - val_mae: 7.3029 - val_mape: 1097551104.0000 - val_cosine: 0.8452\n",
      "Epoch 45/50\n",
      "2903/2903 [==============================] - 2s 652us/step - loss: 71.4388 - mse: 25.7747 - mae: 3.8299 - mape: 585111744.0000 - cosine: 0.8336 - val_loss: 145.5250 - val_mse: 98.4452 - val_mae: 7.4533 - val_mape: 1284635648.0000 - val_cosine: 0.8514\n",
      "Epoch 46/50\n",
      "2903/2903 [==============================] - 2s 653us/step - loss: 72.1675 - mse: 25.8805 - mae: 3.8519 - mape: 618555200.0000 - cosine: 0.8309 - val_loss: 146.9363 - val_mse: 99.6889 - val_mae: 7.2854 - val_mape: 1081177984.0000 - val_cosine: 0.8390\n",
      "Epoch 47/50\n",
      "2903/2903 [==============================] - 2s 658us/step - loss: 72.3556 - mse: 25.4591 - mae: 3.7973 - mape: 577533824.0000 - cosine: 0.8316 - val_loss: 145.2848 - val_mse: 97.5832 - val_mae: 7.2834 - val_mape: 1114597248.0000 - val_cosine: 0.8452\n",
      "Epoch 48/50\n",
      "2903/2903 [==============================] - 2s 655us/step - loss: 71.3769 - mse: 24.8297 - mae: 3.7453 - mape: 593637120.0000 - cosine: 0.8357 - val_loss: 144.1988 - val_mse: 96.8128 - val_mae: 7.3494 - val_mape: 1251667712.0000 - val_cosine: 0.8514\n",
      "Epoch 49/50\n",
      "2903/2903 [==============================] - 2s 645us/step - loss: 70.9152 - mse: 25.2844 - mae: 3.7790 - mape: 597679232.0000 - cosine: 0.8336 - val_loss: 146.1599 - val_mse: 99.3805 - val_mae: 7.3892 - val_mape: 1110606976.0000 - val_cosine: 0.8514\n",
      "Epoch 50/50\n",
      "2903/2903 [==============================] - 2s 658us/step - loss: 71.1086 - mse: 25.0126 - mae: 3.7665 - mape: 558727168.0000 - cosine: 0.8322 - val_loss: 149.1175 - val_mse: 102.0531 - val_mae: 7.3247 - val_mape: 1004544832.0000 - val_cosine: 0.8514\n"
     ]
    }
   ],
   "source": [
    "history = model.fit(x=[X1_train, X2_train, X3_train], y=y_train, batch_size=16, epochs=50, \n",
    "                   verbose=1, validation_split=0.1)# , callbacks=[early_stopping])"
   ]
  },
  {
   "cell_type": "code",
   "execution_count": 15,
   "metadata": {},
   "outputs": [
    {
     "data": {
      "image/png": "[encoded data removed]",
      "text/plain": [
       "<Figure size 432x288 with 1 Axes>"
      ]
     },
     "metadata": {
      "needs_background": "light"
     },
     "output_type": "display_data"
    },
    {
     "data": {
      "image/png": "[encoded data removed]",
      "text/plain": [
       "<Figure size 432x288 with 1 Axes>"
      ]
     },
     "metadata": {
      "needs_background": "light"
     },
     "output_type": "display_data"
    }
   ],
   "source": [
    "import matplotlib.pyplot as plt\n",
    "\n",
    "plt.plot(history.history['mse'])\n",
    "plt.plot(history.history['val_mse'])\n",
    "\n",
    "plt.title('model mae')\n",
    "plt.ylabel('mse')\n",
    "plt.xlabel('epoch')\n",
    "plt.legend(['train','test'], loc='upper left')\n",
    "plt.show()\n",
    "\n",
    "plt.plot(history.history['loss'])\n",
    "plt.plot(history.history['val_loss'])\n",
    "\n",
    "plt.title('model loss')\n",
    "plt.ylabel('loss')\n",
    "plt.xlabel('epoch')\n",
    "plt.legend(['train','test'], loc='upper left')\n",
    "plt.show()"
   ]
  },
  {
   "cell_type": "code",
   "execution_count": 16,
   "metadata": {},
   "outputs": [
    {
     "name": "stdout",
     "output_type": "stream",
     "text": [
      "359/359 [==============================] - 0s 451us/step\n",
      "[158.395082564075, 111.33065795898438, 7.447272300720215, 1062020800.0, 0.8022283911705017]\n",
      "Test Score: 158.395082564075\n",
      "Test MSE: 111.33065795898438\n"
     ]
    }
   ],
   "source": [
    "score = model.evaluate(x=[X1_test, X2_test, X3_test], y=y_test, verbose=1)\n",
    "print(score)\n",
    "print(\"Test Score:\", score[0])\n",
    "print(\"Test MSE:\", score[1])\n",
    "#print(\"Test MAE: \", score[2])"
   ]
  },
  {
   "cell_type": "code",
   "execution_count": null,
   "metadata": {},
   "outputs": [],
   "source": []
  }
 ],
 "metadata": {
  "kernelspec": {
   "display_name": "Python 3",
   "language": "python",
   "name": "python3"
  },
  "language_info": {
   "codemirror_mode": {
    "name": "ipython",
    "version": 3
   },
   "file_extension": ".py",
   "mimetype": "text/x-python",
   "name": "python",
   "nbconvert_exporter": "python",
   "pygments_lexer": "ipython3",
   "version": "3.7.7"
  }
 },
 "nbformat": 4,
 "nbformat_minor": 4
}
