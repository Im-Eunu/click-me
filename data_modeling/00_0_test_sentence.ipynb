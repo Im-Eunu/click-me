{
 "cells": [
  {
   "cell_type": "code",
   "execution_count": 1,
   "metadata": {},
   "outputs": [],
   "source": [
    "import tensorflow as tf\n",
    "physical_devices = tf.config.list_physical_devices('GPU') \n",
    "tf.config.experimental.set_memory_growth(physical_devices[0], True)"
   ]
  },
  {
   "cell_type": "code",
   "execution_count": 2,
   "metadata": {},
   "outputs": [],
   "source": [
    "import sys\n",
    "ipython = get_ipython()\n",
    "\n",
    "def hide_traceback(exc_tuple=None, filename=None, tb_offset=None,\n",
    "                      exception_only=False, running_compiled_code=False):\n",
    "       etype, value, tb = sys.exc_info()\n",
    "       return ipython._showtraceback(etype, value, ipython.InteractiveTB.get_exception_only(etype, value))\n",
    "\n",
    "ipython.showtraceback = hide_traceback"
   ]
  },
  {
   "cell_type": "code",
   "execution_count": 3,
   "metadata": {},
   "outputs": [
    {
     "name": "stderr",
     "output_type": "stream",
     "text": [
      "Using TensorFlow backend.\n"
     ]
    }
   ],
   "source": [
    "from keras.preprocessing.text import one_hot\n",
    "from keras.preprocessing.sequence import pad_sequences\n",
    "from keras.models import Sequential\n",
    "from keras.layers.core import Activation, Dropout, Dense, Flatten\n",
    "from keras.layers import LSTM\n",
    "from keras.layers import GlobalMaxPooling1D\n",
    "from keras.models import Model\n",
    "from keras.layers.embeddings import Embedding\n",
    "from sklearn.model_selection import train_test_split\n",
    "from keras.preprocessing.text import Tokenizer\n",
    "from keras.layers import Input\n",
    "from keras.layers.merge import Concatenate\n",
    "from keras.layers.normalization import BatchNormalization\n",
    "from keras import regularizers\n",
    "from keras.initializers import Constant\n",
    "from keras.layers import *\n",
    "\n",
    "import os\n",
    "import pandas as pd\n",
    "import numpy as np\n",
    "from numpy import array\n",
    "import re"
   ]
  },
  {
   "cell_type": "code",
   "execution_count": 4,
   "metadata": {},
   "outputs": [],
   "source": [
    "fname = os.path.join(os.path.dirname(os.getcwd()), 'xlsx_data', f\"{'xlsx_#10_final'}.xlsx\")\n",
    "cname = os.path.join(os.path.dirname(os.getcwd()), 'xlsx_data', f\"{'xlsx_#10_case'}.xlsx\")\n",
    "lname = os.path.join(os.path.dirname(os.getcwd()), 'xlsx_data', f\"{'xlsx_#10_law'}.xlsx\")\n",
    "\n",
    "dff = pd.read_excel(fname, index_col=0)\n",
    "dfc = pd.read_excel(cname, index_col=0)\n",
    "dfl = pd.read_excel(lname, index_col=0)\n",
    "\n",
    "df = pd.concat([dff[['h1_age', 'h1_sex', 'h2_age', 'h2_sex', 'h3_age', 'h3_sex', 'text', 'y_sentence']], dfc[1:], dfl[1:]], axis=1).reindex(dff.index)\n",
    "df = df.dropna(subset=['y_sentence'])\n",
    "df = df[df['y_sentence'] < 481]"
   ]
  },
  {
   "cell_type": "code",
   "execution_count": 5,
   "metadata": {},
   "outputs": [],
   "source": [
    "X = df.drop('y_sentence', axis=1)\n",
    "y = df['y_sentence']"
   ]
  },
  {
   "cell_type": "code",
   "execution_count": 6,
   "metadata": {},
   "outputs": [],
   "source": [
    "X_train, X_test, y_train, y_test = train_test_split(X, y, test_size=0.1, random_state=42)"
   ]
  },
  {
   "cell_type": "code",
   "execution_count": 7,
   "metadata": {},
   "outputs": [],
   "source": [
    "X1_train = X_train[dfc.columns[1:]]\n",
    "X1_test = X_test[dfc.columns[1:]]\n",
    "\n",
    "X2_train = X_train[dfl.columns[1:]]\n",
    "X2_test = X_test[dfl.columns[1:]]\n",
    "\n",
    "X4_train =  X_train[['h1_age', 'h1_sex', 'h2_age', 'h2_sex', 'h3_age', 'h3_sex']]\n",
    "X4_test =  X_test[['h1_age', 'h1_sex', 'h2_age', 'h2_sex', 'h3_age', 'h3_sex']]"
   ]
  },
  {
   "cell_type": "code",
   "execution_count": 8,
   "metadata": {},
   "outputs": [],
   "source": [
    "X3_train = list(X_train[\"text\"])\n",
    "X3_test = list(X_test[\"text\"])\n",
    "\n",
    "max_features = 30000\n",
    "sequence_length = 128\n",
    "\n",
    "tokenizer = Tokenizer(num_words=max_features, split=' ', oov_token='<unw>')\n",
    "tokenizer.fit_on_texts(X3_train)\n",
    "\n",
    "X3_train = tokenizer.texts_to_sequences(X3_train)\n",
    "X3_test = tokenizer.texts_to_sequences(X3_test)\n",
    "\n",
    "X3_train = pad_sequences(X3_train, sequence_length)\n",
    "X3_test = pad_sequences(X3_test, sequence_length)"
   ]
  },
  {
   "cell_type": "code",
   "execution_count": 9,
   "metadata": {},
   "outputs": [],
   "source": [
    "input_1 = Input(shape=(687,))\n",
    "input_2 = Input(shape=(662,))\n",
    "input_4 = Input(shape=(6,))\n",
    "\n",
    "dense_layer_1_1 = Dense(100, activation='relu')(input_1)\n",
    "dense_layer_1_2 = Dense(100, activation='relu')(dense_layer_1_1)\n",
    "dense_layer_1_3 = Dense(100, activation='relu')(dense_layer_1_2)\n",
    "dense_layer_1_4 = Dense(10, activation='relu')(dense_layer_1_3)\n",
    "dropout_1_5 = Dropout(0.2)(dense_layer_1_4)\n",
    "\n",
    "\n",
    "dense_layer_2_1 = Dense(100, activation='relu')(input_2)\n",
    "dense_layer_2_2 = Dense(100, activation='relu')(dense_layer_2_1)\n",
    "dense_layer_2_3 = Dense(100, activation='relu')(dense_layer_2_2)\n",
    "dense_layer_2_4 = Dense(10, activation='relu')(dense_layer_2_3)\n",
    "dropout_2_5 = Dropout(0.2)(dense_layer_2_4)\n",
    "\n",
    "dense_layer_4_1 = Dense(100, activation='relu')(input_4)\n",
    "dense_layer_4_2 = Dense(100, activation='relu')(dense_layer_4_1)\n",
    "dense_layer_4_3 = Dense(100, activation='relu')(dense_layer_4_2)\n",
    "dense_layer_4_4 = Dense(10, activation='relu')(dense_layer_4_3)\n",
    "dropout_4_5 = Dropout(0.2)(dense_layer_4_4)"
   ]
  },
  {
   "cell_type": "code",
   "execution_count": null,
   "metadata": {},
   "outputs": [],
   "source": []
  },
  {
   "cell_type": "code",
   "execution_count": 10,
   "metadata": {},
   "outputs": [
    {
     "name": "stdout",
     "output_type": "stream",
     "text": [
      "23324\n"
     ]
    }
   ],
   "source": [
    "embeddings_index = {}\n",
    "f = open(os.path.join(os.path.dirname(os.getcwd()), 'data_processing', 'ft_0814t.txt'),  encoding='utf-8')\n",
    "for line in f:\n",
    "    values = line.split()\n",
    "    word = values[0]\n",
    "    coefs = np.asarray(values[1:], dtype='float32')\n",
    "    embeddings_index[word] = coefs\n",
    "f.close()\n",
    "\n",
    "word_index = tokenizer.word_index\n",
    "\n",
    "num_words = min(max_features, len(word_index)) + 1\n",
    "print(num_words)\n",
    "embedding_dim = 128\n",
    "num_filters = 100\n",
    "\n",
    "embedding_matrix = np.zeros((num_words, embedding_dim))\n",
    "\n",
    "for word, i in word_index.items():\n",
    "    if i > max_features:\n",
    "        continue\n",
    "    embedding_vector = embeddings_index.get(word)\n",
    "    if embedding_vector is not None:\n",
    "        embedding_matrix[i] = embedding_vector\n",
    "    else:\n",
    "        embedding_matrix[i] = np.random.randn(embedding_dim)"
   ]
  },
  {
   "cell_type": "code",
   "execution_count": 11,
   "metadata": {},
   "outputs": [],
   "source": [
    "input_3 = Input(shape=(sequence_length,), dtype='int32')\n",
    "embedding_layer_3 = Embedding(num_words,\n",
    "                            embedding_dim,\n",
    "                            embeddings_initializer=Constant(embedding_matrix),\n",
    "                            input_length=sequence_length,\n",
    "                            trainable=True)(input_3)\n",
    "\n",
    "reshape_3 = Reshape((sequence_length, embedding_dim, 1))(embedding_layer_3)\n",
    "\n",
    "conv_0_3 = Conv2D(num_filters, kernel_size=(3, embedding_dim), activation='relu', kernel_regularizer=regularizers.l2(3))(reshape_3)\n",
    "conv_1_3 = Conv2D(num_filters, kernel_size=(4, embedding_dim), activation='relu', kernel_regularizer=regularizers.l2(3))(reshape_3)\n",
    "conv_2_3 = Conv2D(num_filters, kernel_size=(5, embedding_dim), activation='relu', kernel_regularizer=regularizers.l2(3))(reshape_3)\n",
    "conv_3_3 = Conv2D(num_filters, kernel_size=(6, embedding_dim), activation='relu', kernel_regularizer=regularizers.l2(3))(reshape_3)\n",
    "\n",
    "maxpool_0_3 = MaxPool2D(pool_size=(sequence_length - 3 + 1, 1), strides=(1,1), padding='valid')(conv_0_3)\n",
    "maxpool_1_3 = MaxPool2D(pool_size=(sequence_length - 4 + 1, 1), strides=(1,1), padding='valid')(conv_1_3)\n",
    "maxpool_2_3 = MaxPool2D(pool_size=(sequence_length - 5 + 1, 1), strides=(1,1), padding='valid')(conv_2_3)\n",
    "maxpool_3_3 = MaxPool2D(pool_size=(sequence_length - 6 + 1, 1), strides=(1,1), padding='valid')(conv_3_3)\n",
    "\n",
    "concatenated_tensor_3 = Concatenate(axis=1)([maxpool_0_3, maxpool_1_3, maxpool_2_3, maxpool_3_3])\n",
    "flatten_3 = Flatten()(concatenated_tensor_3)\n",
    "dropout_3 = Dropout(0.5)(flatten_3)"
   ]
  },
  {
   "cell_type": "code",
   "execution_count": 12,
   "metadata": {},
   "outputs": [],
   "source": [
    "concat_layer = Concatenate()([dropout_1_5, dropout_2_5, dropout_3, dropout_4_5])\n",
    "\n",
    "dense_layer_3 = Dense(10, activation='relu')(concat_layer)\n",
    "dense_layer_4 = Dense(10, activation='relu')(dense_layer_3)\n",
    "dense_layer_5 = Dense(10, activation='relu')(dense_layer_4)\n",
    "dense_layer_6 = Dense(10, activation='relu')(dense_layer_5)\n",
    "\n",
    "output = Dense(1, activation='linear')(dense_layer_3)\n",
    "\n",
    "model = Model(inputs=[input_1, input_2, input_3, input_4], outputs=output)"
   ]
  },
  {
   "cell_type": "code",
   "execution_count": 13,
   "metadata": {},
   "outputs": [
    {
     "name": "stdout",
     "output_type": "stream",
     "text": [
      "Model: \"model_1\"\n",
      "__________________________________________________________________________________________________\n",
      "Layer (type)                    Output Shape         Param #     Connected to                     \n",
      "==================================================================================================\n",
      "input_4 (InputLayer)            (None, 128)          0                                            \n",
      "__________________________________________________________________________________________________\n",
      "embedding_1 (Embedding)         (None, 128, 128)     2985472     input_4[0][0]                    \n",
      "__________________________________________________________________________________________________\n",
      "input_1 (InputLayer)            (None, 687)          0                                            \n",
      "__________________________________________________________________________________________________\n",
      "input_2 (InputLayer)            (None, 662)          0                                            \n",
      "__________________________________________________________________________________________________\n",
      "reshape_1 (Reshape)             (None, 128, 128, 1)  0           embedding_1[0][0]                \n",
      "__________________________________________________________________________________________________\n",
      "input_3 (InputLayer)            (None, 6)            0                                            \n",
      "__________________________________________________________________________________________________\n",
      "dense_1 (Dense)                 (None, 100)          68800       input_1[0][0]                    \n",
      "__________________________________________________________________________________________________\n",
      "dense_5 (Dense)                 (None, 100)          66300       input_2[0][0]                    \n",
      "__________________________________________________________________________________________________\n",
      "conv2d_1 (Conv2D)               (None, 126, 1, 100)  38500       reshape_1[0][0]                  \n",
      "__________________________________________________________________________________________________\n",
      "conv2d_2 (Conv2D)               (None, 125, 1, 100)  51300       reshape_1[0][0]                  \n",
      "__________________________________________________________________________________________________\n",
      "conv2d_3 (Conv2D)               (None, 124, 1, 100)  64100       reshape_1[0][0]                  \n",
      "__________________________________________________________________________________________________\n",
      "conv2d_4 (Conv2D)               (None, 123, 1, 100)  76900       reshape_1[0][0]                  \n",
      "__________________________________________________________________________________________________\n",
      "dense_9 (Dense)                 (None, 100)          700         input_3[0][0]                    \n",
      "__________________________________________________________________________________________________\n",
      "dense_2 (Dense)                 (None, 100)          10100       dense_1[0][0]                    \n",
      "__________________________________________________________________________________________________\n",
      "dense_6 (Dense)                 (None, 100)          10100       dense_5[0][0]                    \n",
      "__________________________________________________________________________________________________\n",
      "max_pooling2d_1 (MaxPooling2D)  (None, 1, 1, 100)    0           conv2d_1[0][0]                   \n",
      "__________________________________________________________________________________________________\n",
      "max_pooling2d_2 (MaxPooling2D)  (None, 1, 1, 100)    0           conv2d_2[0][0]                   \n",
      "__________________________________________________________________________________________________\n",
      "max_pooling2d_3 (MaxPooling2D)  (None, 1, 1, 100)    0           conv2d_3[0][0]                   \n",
      "__________________________________________________________________________________________________\n",
      "max_pooling2d_4 (MaxPooling2D)  (None, 1, 1, 100)    0           conv2d_4[0][0]                   \n",
      "__________________________________________________________________________________________________\n",
      "dense_10 (Dense)                (None, 100)          10100       dense_9[0][0]                    \n",
      "__________________________________________________________________________________________________\n",
      "dense_3 (Dense)                 (None, 100)          10100       dense_2[0][0]                    \n",
      "__________________________________________________________________________________________________\n",
      "dense_7 (Dense)                 (None, 100)          10100       dense_6[0][0]                    \n",
      "__________________________________________________________________________________________________\n",
      "concatenate_1 (Concatenate)     (None, 4, 1, 100)    0           max_pooling2d_1[0][0]            \n",
      "                                                                 max_pooling2d_2[0][0]            \n",
      "                                                                 max_pooling2d_3[0][0]            \n",
      "                                                                 max_pooling2d_4[0][0]            \n",
      "__________________________________________________________________________________________________\n",
      "dense_11 (Dense)                (None, 100)          10100       dense_10[0][0]                   \n",
      "__________________________________________________________________________________________________\n",
      "dense_4 (Dense)                 (None, 10)           1010        dense_3[0][0]                    \n",
      "__________________________________________________________________________________________________\n",
      "dense_8 (Dense)                 (None, 10)           1010        dense_7[0][0]                    \n",
      "__________________________________________________________________________________________________\n",
      "flatten_1 (Flatten)             (None, 400)          0           concatenate_1[0][0]              \n",
      "__________________________________________________________________________________________________\n",
      "dense_12 (Dense)                (None, 10)           1010        dense_11[0][0]                   \n",
      "__________________________________________________________________________________________________\n",
      "dropout_1 (Dropout)             (None, 10)           0           dense_4[0][0]                    \n",
      "__________________________________________________________________________________________________\n",
      "dropout_2 (Dropout)             (None, 10)           0           dense_8[0][0]                    \n",
      "__________________________________________________________________________________________________\n",
      "dropout_4 (Dropout)             (None, 400)          0           flatten_1[0][0]                  \n",
      "__________________________________________________________________________________________________\n",
      "dropout_3 (Dropout)             (None, 10)           0           dense_12[0][0]                   \n",
      "__________________________________________________________________________________________________\n",
      "concatenate_2 (Concatenate)     (None, 430)          0           dropout_1[0][0]                  \n",
      "                                                                 dropout_2[0][0]                  \n",
      "                                                                 dropout_4[0][0]                  \n",
      "                                                                 dropout_3[0][0]                  \n",
      "__________________________________________________________________________________________________\n",
      "dense_13 (Dense)                (None, 10)           4310        concatenate_2[0][0]              \n",
      "__________________________________________________________________________________________________\n",
      "dense_17 (Dense)                (None, 1)            11          dense_13[0][0]                   \n",
      "==================================================================================================\n",
      "Total params: 3,420,023\n",
      "Trainable params: 3,420,023\n",
      "Non-trainable params: 0\n",
      "__________________________________________________________________________________________________\n",
      "None\n"
     ]
    }
   ],
   "source": [
    "model.compile(loss='mse', optimizer='Adamax', metrics=['mse', 'mae', 'mape', 'cosine'])\n",
    "print(model.summary())\n",
    "#Adamax"
   ]
  },
  {
   "cell_type": "code",
   "execution_count": 14,
   "metadata": {},
   "outputs": [
    {
     "name": "stderr",
     "output_type": "stream",
     "text": [
      "C:\\ProgramData\\Anaconda3\\lib\\site-packages\\tensorflow_core\\python\\framework\\indexed_slices.py:433: UserWarning: Converting sparse IndexedSlices to a dense Tensor of unknown shape. This may consume a large amount of memory.\n",
      "  \"Converting sparse IndexedSlices to a dense Tensor of unknown shape. \"\n"
     ]
    },
    {
     "name": "stdout",
     "output_type": "stream",
     "text": [
      "Train on 3193 samples, validate on 355 samples\n",
      "Epoch 1/50\n",
      "3193/3193 [==============================] - 4s 1ms/step - loss: 1551.2621 - mse: 1502.6248 - mae: 19.4743 - mape: 2526397952.0000 - cosine: 0.8418 - val_loss: 1139.4648 - val_mse: 1075.3969 - val_mae: 18.4341 - val_mape: 3198702080.0000 - val_cosine: 0.8254\n",
      "Epoch 2/50\n",
      "3193/3193 [==============================] - 2s 683us/step - loss: 1266.2376 - mse: 1192.1990 - mae: 17.8430 - mape: 2304690176.0000 - cosine: 0.7917 - val_loss: 1062.3404 - val_mse: 975.4789 - val_mae: 17.2797 - val_mape: 2568554752.0000 - val_cosine: 0.7859\n",
      "Epoch 3/50\n",
      "3193/3193 [==============================] - 2s 680us/step - loss: 1152.1890 - mse: 1058.0344 - mae: 17.1487 - mape: 2107657600.0000 - cosine: 0.7579 - val_loss: 1028.1044 - val_mse: 928.7767 - val_mae: 16.4167 - val_mape: 2298824704.0000 - val_cosine: 0.8085\n",
      "Epoch 4/50\n",
      "3193/3193 [==============================] - 2s 691us/step - loss: 1069.0010 - mse: 960.9997 - mae: 16.3394 - mape: 1974669056.0000 - cosine: 0.7548 - val_loss: 1008.7795 - val_mse: 896.1145 - val_mae: 16.1855 - val_mape: 2117608448.0000 - val_cosine: 0.8085\n",
      "Epoch 5/50\n",
      "3193/3193 [==============================] - 2s 682us/step - loss: 990.4594 - mse: 870.7641 - mae: 15.6987 - mape: 1813183488.0000 - cosine: 0.7642 - val_loss: 982.8025 - val_mse: 856.7015 - val_mae: 15.6530 - val_mape: 2096284672.0000 - val_cosine: 0.8141\n",
      "Epoch 6/50\n",
      "3193/3193 [==============================] - 2s 686us/step - loss: 951.2988 - mse: 819.0910 - mae: 15.2799 - mape: 1809223168.0000 - cosine: 0.7604 - val_loss: 970.5384 - val_mse: 833.0626 - val_mae: 15.4146 - val_mape: 1924233856.0000 - val_cosine: 0.7972\n",
      "Epoch 7/50\n",
      "3193/3193 [==============================] - 2s 683us/step - loss: 878.2868 - mse: 735.7545 - mae: 15.1183 - mape: 1820185472.0000 - cosine: 0.7397 - val_loss: 948.5496 - val_mse: 798.3280 - val_mae: 15.0899 - val_mape: 1870205312.0000 - val_cosine: 0.7746\n",
      "Epoch 8/50\n",
      "3193/3193 [==============================] - 2s 683us/step - loss: 826.6150 - mse: 672.0996 - mae: 14.6435 - mape: 1802548480.0000 - cosine: 0.7466 - val_loss: 949.2753 - val_mse: 788.4914 - val_mae: 16.1537 - val_mape: 2209888512.0000 - val_cosine: 0.8028\n",
      "Epoch 9/50\n",
      "3193/3193 [==============================] - 2s 685us/step - loss: 827.6249 - mse: 660.3732 - mae: 14.7132 - mape: 1822199680.0000 - cosine: 0.7216 - val_loss: 981.3599 - val_mse: 813.1767 - val_mae: 14.4439 - val_mape: 1669085952.0000 - val_cosine: 0.7690\n",
      "Epoch 10/50\n",
      "3193/3193 [==============================] - 2s 690us/step - loss: 760.7919 - mse: 587.6359 - mae: 13.9634 - mape: 1726415488.0000 - cosine: 0.7385 - val_loss: 996.5600 - val_mse: 818.6238 - val_mae: 14.9304 - val_mape: 1564339584.0000 - val_cosine: 0.6676\n",
      "Epoch 11/50\n",
      "3193/3193 [==============================] - 2s 689us/step - loss: 725.6128 - mse: 543.4366 - mae: 13.7488 - mape: 1717242752.0000 - cosine: 0.7228 - val_loss: 960.0587 - val_mse: 774.2963 - val_mae: 14.5202 - val_mape: 1663035136.0000 - val_cosine: 0.7465\n",
      "Epoch 12/50\n",
      "3193/3193 [==============================] - 2s 683us/step - loss: 684.7536 - mse: 495.8855 - mae: 13.2530 - mape: 1664433152.0000 - cosine: 0.7184 - val_loss: 921.1349 - val_mse: 728.8214 - val_mae: 15.1256 - val_mape: 2120881024.0000 - val_cosine: 0.7690\n",
      "Epoch 13/50\n",
      "3193/3193 [==============================] - 2s 686us/step - loss: 631.1839 - mse: 436.8284 - mae: 12.8358 - mape: 1645549952.0000 - cosine: 0.7178 - val_loss: 949.4990 - val_mse: 753.2196 - val_mae: 14.8975 - val_mape: 1779581312.0000 - val_cosine: 0.7014\n",
      "Epoch 14/50\n",
      "3193/3193 [==============================] - 2s 684us/step - loss: 585.0188 - mse: 385.9175 - mae: 12.4143 - mape: 1544849536.0000 - cosine: 0.7128 - val_loss: 958.5486 - val_mse: 758.6184 - val_mae: 14.3216 - val_mape: 1766558336.0000 - val_cosine: 0.7408\n",
      "Epoch 15/50\n",
      "3193/3193 [==============================] - 2s 695us/step - loss: 549.3047 - mse: 349.8546 - mae: 11.9336 - mape: 1504814464.0000 - cosine: 0.7278 - val_loss: 997.2478 - val_mse: 792.7896 - val_mae: 15.1370 - val_mape: 1662395904.0000 - val_cosine: 0.6225\n",
      "Epoch 16/50\n",
      "3193/3193 [==============================] - 2s 689us/step - loss: 526.2837 - mse: 321.1673 - mae: 11.4022 - mape: 1512541312.0000 - cosine: 0.7272 - val_loss: 992.5210 - val_mse: 788.0424 - val_mae: 14.9321 - val_mape: 1682398592.0000 - val_cosine: 0.6901\n",
      "Epoch 17/50\n",
      "3193/3193 [==============================] - 2s 685us/step - loss: 494.7546 - mse: 289.7186 - mae: 11.1945 - mape: 1413582592.0000 - cosine: 0.7222 - val_loss: 980.3733 - val_mse: 776.4069 - val_mae: 14.9508 - val_mape: 1572209792.0000 - val_cosine: 0.6901\n",
      "Epoch 18/50\n",
      "3193/3193 [==============================] - 2s 687us/step - loss: 482.9142 - mse: 279.9258 - mae: 10.7965 - mape: 1310972160.0000 - cosine: 0.7397 - val_loss: 914.4199 - val_mse: 707.9443 - val_mae: 15.4777 - val_mape: 2037070208.0000 - val_cosine: 0.7296\n",
      "Epoch 19/50\n",
      "3193/3193 [==============================] - 2s 689us/step - loss: 438.8842 - mse: 234.7685 - mae: 10.2043 - mape: 1313386880.0000 - cosine: 0.7291 - val_loss: 945.5600 - val_mse: 741.7812 - val_mae: 15.0085 - val_mape: 1921747968.0000 - val_cosine: 0.7521\n",
      "Epoch 20/50\n",
      "3193/3193 [==============================] - 2s 689us/step - loss: 393.9929 - mse: 191.3552 - mae: 9.7119 - mape: 1272933120.0000 - cosine: 0.7410 - val_loss: 920.6978 - val_mse: 721.5012 - val_mae: 14.5745 - val_mape: 1953821568.0000 - val_cosine: 0.7746\n",
      "Epoch 21/50\n",
      "3193/3193 [==============================] - 2s 689us/step - loss: 389.8026 - mse: 192.7550 - mae: 9.2817 - mape: 1235726720.0000 - cosine: 0.7686 - val_loss: 932.6228 - val_mse: 735.3184 - val_mae: 14.7853 - val_mape: 1732088960.0000 - val_cosine: 0.70146587 - mae: 9.1429 - mape: 1232441984.0000 - co\n",
      "Epoch 22/50\n",
      "3193/3193 [==============================] - 2s 689us/step - loss: 379.0803 - mse: 182.4389 - mae: 9.1504 - mape: 1185226368.0000 - cosine: 0.7523 - val_loss: 924.7192 - val_mse: 729.8891 - val_mae: 14.7162 - val_mape: 1631073664.0000 - val_cosine: 0.7239\n",
      "Epoch 23/50\n",
      "3193/3193 [==============================] - 2s 693us/step - loss: 363.4547 - mse: 173.2410 - mae: 8.9208 - mape: 1068024000.0000 - cosine: 0.7673 - val_loss: 868.9213 - val_mse: 676.7441 - val_mae: 15.0022 - val_mape: 2019133568.0000 - val_cosine: 0.7803\n",
      "Epoch 24/50\n",
      "3193/3193 [==============================] - 2s 688us/step - loss: 347.8828 - mse: 159.0456 - mae: 8.7673 - mape: 1137552768.0000 - cosine: 0.7610 - val_loss: 871.8364 - val_mse: 684.0907 - val_mae: 15.1783 - val_mape: 2306795520.0000 - val_cosine: 0.8141\n",
      "Epoch 25/50\n",
      "3193/3193 [==============================] - 2s 695us/step - loss: 348.1025 - mse: 161.1643 - mae: 8.6086 - mape: 1097714432.0000 - cosine: 0.7592 - val_loss: 871.1316 - val_mse: 686.5226 - val_mae: 15.0938 - val_mape: 2252174336.0000 - val_cosine: 0.7746\n",
      "Epoch 26/50\n",
      "3193/3193 [==============================] - 2s 686us/step - loss: 324.0315 - mse: 142.6882 - mae: 8.1312 - mape: 1039816576.0000 - cosine: 0.7729 - val_loss: 955.9919 - val_mse: 774.5532 - val_mae: 14.5140 - val_mape: 1650459776.0000 - val_cosine: 0.7239\n",
      "Epoch 27/50\n",
      "3193/3193 [==============================] - 2s 692us/step - loss: 311.1902 - mse: 133.6178 - mae: 8.0030 - mape: 1012131904.0000 - cosine: 0.7924 - val_loss: 876.7311 - val_mse: 700.3377 - val_mae: 14.6292 - val_mape: 1854550784.0000 - val_cosine: 0.7746\n",
      "Epoch 28/50\n",
      "3193/3193 [==============================] - 2s 686us/step - loss: 315.9693 - mse: 139.8405 - mae: 8.0971 - mape: 1059497216.0000 - cosine: 0.7767 - val_loss: 929.8246 - val_mse: 756.1929 - val_mae: 14.5028 - val_mape: 1731486976.0000 - val_cosine: 0.7859\n",
      "Epoch 29/50\n",
      "3193/3193 [==============================] - 2s 695us/step - loss: 316.7933 - mse: 144.4122 - mae: 8.1168 - mape: 1051806592.0000 - cosine: 0.7873 - val_loss: 880.0937 - val_mse: 706.3278 - val_mae: 14.5641 - val_mape: 1835160832.0000 - val_cosine: 0.7521\n",
      "Epoch 30/50\n",
      "3193/3193 [==============================] - 2s 695us/step - loss: 301.0473 - mse: 130.2785 - mae: 7.6876 - mape: 950181440.0000 - cosine: 0.7999 - val_loss: 878.5610 - val_mse: 710.6437 - val_mae: 14.8043 - val_mape: 2089526144.0000 - val_cosine: 0.8197\n",
      "Epoch 31/50\n"
     ]
    },
    {
     "name": "stdout",
     "output_type": "stream",
     "text": [
      "3193/3193 [==============================] - 2s 692us/step - loss: 288.5236 - mse: 121.5740 - mae: 7.3939 - mape: 869625600.0000 - cosine: 0.8024 - val_loss: 913.7485 - val_mse: 747.4542 - val_mae: 14.4320 - val_mape: 1862186368.0000 - val_cosine: 0.7859\n",
      "Epoch 32/50\n",
      "3193/3193 [==============================] - 2s 690us/step - loss: 279.8184 - mse: 116.5214 - mae: 7.5217 - mape: 926004416.0000 - cosine: 0.8049 - val_loss: 879.9740 - val_mse: 718.6522 - val_mae: 14.4295 - val_mape: 1796278784.0000 - val_cosine: 0.7521\n",
      "Epoch 33/50\n",
      "3193/3193 [==============================] - 2s 685us/step - loss: 299.1018 - mse: 138.2502 - mae: 7.7205 - mape: 913663488.0000 - cosine: 0.7867 - val_loss: 912.5830 - val_mse: 747.1495 - val_mae: 17.1548 - val_mape: 2912567552.0000 - val_cosine: 0.8310\n",
      "Epoch 34/50\n",
      "3193/3193 [==============================] - 2s 687us/step - loss: 274.4699 - mse: 111.2509 - mae: 7.1919 - mape: 939587328.0000 - cosine: 0.8068 - val_loss: 832.8101 - val_mse: 673.4529 - val_mae: 14.3130 - val_mape: 2015063424.0000 - val_cosine: 0.7972\n",
      "Epoch 35/50\n",
      "3193/3193 [==============================] - 2s 689us/step - loss: 267.3584 - mse: 110.1845 - mae: 6.9106 - mape: 796014272.0000 - cosine: 0.8143 - val_loss: 884.6636 - val_mse: 728.3649 - val_mae: 14.7259 - val_mape: 1841071872.0000 - val_cosine: 0.7746\n",
      "Epoch 36/50\n",
      "3193/3193 [==============================] - 2s 685us/step - loss: 267.8884 - mse: 113.6325 - mae: 7.2292 - mape: 866793280.0000 - cosine: 0.8093 - val_loss: 887.9456 - val_mse: 734.5474 - val_mae: 14.3360 - val_mape: 2064114304.0000 - val_cosine: 0.8085\n",
      "Epoch 37/50\n",
      "3193/3193 [==============================] - 2s 694us/step - loss: 261.3395 - mse: 110.3458 - mae: 7.0287 - mape: 865876544.0000 - cosine: 0.8162 - val_loss: 878.3974 - val_mse: 727.4510 - val_mae: 14.5679 - val_mape: 1948472064.0000 - val_cosine: 0.7972e: 7.0460 - mape: 880553856.0000 - cosine: 0.8\n",
      "Epoch 38/50\n",
      "3193/3193 [==============================] - 2s 692us/step - loss: 265.4274 - mse: 115.6646 - mae: 7.0613 - mape: 831383360.0000 - cosine: 0.8118 - val_loss: 894.0120 - val_mse: 744.7250 - val_mae: 14.5956 - val_mape: 1983461120.0000 - val_cosine: 0.8310\n",
      "Epoch 39/50\n",
      "3193/3193 [==============================] - 2s 687us/step - loss: 265.9636 - mse: 116.3839 - mae: 7.2094 - mape: 829956608.0000 - cosine: 0.8124 - val_loss: 862.0010 - val_mse: 713.8152 - val_mae: 14.3628 - val_mape: 1932763008.0000 - val_cosine: 0.8085\n",
      "Epoch 40/50\n",
      "3193/3193 [==============================] - 2s 691us/step - loss: 256.4750 - mse: 109.3427 - mae: 6.9162 - mape: 808598592.0000 - cosine: 0.8193 - val_loss: 886.1755 - val_mse: 741.1163 - val_mae: 14.4148 - val_mape: 1866320896.0000 - val_cosine: 0.8028\n",
      "Epoch 41/50\n",
      "3193/3193 [==============================] - 2s 688us/step - loss: 261.2257 - mse: 116.1377 - mae: 6.8407 - mape: 819388672.0000 - cosine: 0.8099 - val_loss: 885.5582 - val_mse: 739.9866 - val_mae: 14.2434 - val_mape: 1948566528.0000 - val_cosine: 0.8028\n",
      "Epoch 42/50\n",
      "3193/3193 [==============================] - 2s 691us/step - loss: 236.1475 - mse: 92.6526 - mae: 6.3747 - mape: 784334784.0000 - cosine: 0.8368 - val_loss: 916.6547 - val_mse: 775.4116 - val_mae: 14.3834 - val_mape: 1689866624.0000 - val_cosine: 0.7634\n",
      "Epoch 43/50\n",
      "3193/3193 [==============================] - 2s 686us/step - loss: 255.5480 - mse: 114.8224 - mae: 6.8986 - mape: 799129856.0000 - cosine: 0.8212 - val_loss: 859.1084 - val_mse: 718.2916 - val_mae: 14.2718 - val_mape: 1796991232.0000 - val_cosine: 0.7972\n",
      "Epoch 44/50\n",
      "3193/3193 [==============================] - 2s 695us/step - loss: 244.1381 - mse: 103.2351 - mae: 6.5976 - mape: 732693120.0000 - cosine: 0.8224 - val_loss: 866.9556 - val_mse: 727.9775 - val_mae: 13.9443 - val_mape: 1870083200.0000 - val_cosine: 0.8085\n",
      "Epoch 45/50\n",
      "3193/3193 [==============================] - 2s 692us/step - loss: 241.2037 - mse: 103.3928 - mae: 6.5544 - mape: 745478848.0000 - cosine: 0.8218 - val_loss: 839.3190 - val_mse: 702.8176 - val_mae: 14.8754 - val_mape: 2265142016.0000 - val_cosine: 0.8197 - mse: 114.9118 - mae: 6.6008 - mape: 8051153\n",
      "Epoch 46/50\n",
      "3193/3193 [==============================] - 2s 689us/step - loss: 224.3550 - mse: 89.6615 - mae: 6.3807 - mape: 795108608.0000 - cosine: 0.8262 - val_loss: 885.0296 - val_mse: 752.2557 - val_mae: 14.0000 - val_mape: 1777809152.0000 - val_cosine: 0.8028\n",
      "Epoch 47/50\n",
      "3193/3193 [==============================] - 2s 686us/step - loss: 229.8607 - mse: 97.6013 - mae: 6.2880 - mape: 738043072.0000 - cosine: 0.8293 - val_loss: 850.9774 - val_mse: 718.1783 - val_mae: 14.4777 - val_mape: 1981382784.0000 - val_cosine: 0.8085\n",
      "Epoch 48/50\n",
      "3193/3193 [==============================] - 2s 687us/step - loss: 226.9563 - mse: 94.2093 - mae: 6.4623 - mape: 738582528.0000 - cosine: 0.8237 - val_loss: 804.5905 - val_mse: 673.5634 - val_mae: 14.3301 - val_mape: 2049603712.0000 - val_cosine: 0.8141\n",
      "Epoch 49/50\n",
      "3193/3193 [==============================] - 2s 689us/step - loss: 235.5130 - mse: 104.7842 - mae: 6.5363 - mape: 725528448.0000 - cosine: 0.8343 - val_loss: 842.0383 - val_mse: 710.3678 - val_mae: 14.3480 - val_mape: 2018985984.0000 - val_cosine: 0.8197\n",
      "Epoch 50/50\n",
      "3193/3193 [==============================] - 2s 689us/step - loss: 219.2565 - mse: 88.8001 - mae: 6.1050 - mape: 718280896.0000 - cosine: 0.8312 - val_loss: 860.1220 - val_mse: 730.9927 - val_mae: 14.1613 - val_mape: 1817214208.0000 - val_cosine: 0.7859\n"
     ]
    }
   ],
   "source": [
    "history = model.fit(x=[X1_train, X2_train, X3_train, X4_train], y=y_train, batch_size=16, epochs=50, \n",
    "                   verbose=1, validation_split=0.1)# , callbacks=[early_stopping])"
   ]
  },
  {
   "cell_type": "code",
   "execution_count": 15,
   "metadata": {},
   "outputs": [
    {
     "data": {
      "image/png": "[encoded data removed]",
      "text/plain": [
       "<Figure size 432x288 with 1 Axes>"
      ]
     },
     "metadata": {
      "needs_background": "light"
     },
     "output_type": "display_data"
    },
    {
     "data": {
      "image/png": "[encoded data removed]",
      "text/plain": [
       "<Figure size 432x288 with 1 Axes>"
      ]
     },
     "metadata": {
      "needs_background": "light"
     },
     "output_type": "display_data"
    }
   ],
   "source": [
    "import matplotlib.pyplot as plt\n",
    "\n",
    "plt.plot(history.history['mse'])\n",
    "plt.plot(history.history['val_mse'])\n",
    "\n",
    "plt.title('model mae')\n",
    "plt.ylabel('mse')\n",
    "plt.xlabel('epoch')\n",
    "plt.legend(['train','test'], loc='upper left')\n",
    "plt.show()\n",
    "\n",
    "plt.plot(history.history['loss'])\n",
    "plt.plot(history.history['val_loss'])\n",
    "\n",
    "plt.title('model loss')\n",
    "plt.ylabel('loss')\n",
    "plt.xlabel('epoch')\n",
    "plt.legend(['train','test'], loc='upper left')\n",
    "plt.show()"
   ]
  },
  {
   "cell_type": "code",
   "execution_count": 16,
   "metadata": {},
   "outputs": [
    {
     "name": "stdout",
     "output_type": "stream",
     "text": [
      "395/395 [==============================] - 0s 643us/step\n",
      "[481.3485849114913, 352.21942138671875, 11.531553268432617, 1806861056.0, 0.7189873456954956]\n",
      "Test Score: 481.3485849114913\n",
      "Test MSE: 352.21942138671875\n"
     ]
    }
   ],
   "source": [
    "score = model.evaluate(x=[X1_test, X2_test, X3_test, X4_test], y=y_test, verbose=1)\n",
    "print(score)\n",
    "print(\"Test Score:\", score[0])\n",
    "print(\"Test MSE:\", score[1])\n",
    "#print(\"Test MAE: \", score[2])"
   ]
  },
  {
   "cell_type": "code",
   "execution_count": 17,
   "metadata": {},
   "outputs": [],
   "source": [
    "#0.1 48미만 112 "
   ]
  }
 ],
 "metadata": {
  "kernelspec": {
   "display_name": "Python 3",
   "language": "python",
   "name": "python3"
  },
  "language_info": {
   "codemirror_mode": {
    "name": "ipython",
    "version": 3
   },
   "file_extension": ".py",
   "mimetype": "text/x-python",
   "name": "python",
   "nbconvert_exporter": "python",
   "pygments_lexer": "ipython3",
   "version": "3.7.7"
  }
 },
 "nbformat": 4,
 "nbformat_minor": 4
}
