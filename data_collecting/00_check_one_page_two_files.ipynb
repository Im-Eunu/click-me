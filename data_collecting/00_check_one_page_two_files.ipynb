{
 "cells": [
  {
   "cell_type": "code",
   "execution_count": null,
   "metadata": {},
   "outputs": [],
   "source": [
    "import os\n",
    "import re\n",
    "import pandas as pd\n",
    "import requests\n",
    "from bs4 import BeautifulSoup\n",
    "\n",
    "num = 0\n",
    "\n",
    "for n in range(1,672):\n",
    "    url = \"https://scourt.go.kr/portal/dcboard/DcNewsListAction.work?gubun=44&pageSize=5&pageIndex=\"+str(n)+\"&seqnum=0&cbub_code=&searchOption=&searchWord=%C7%FC%BB%E7\"\n",
    "    raw = requests.get(url, headers={'User-Agent' : 'Mozilla/5.0'})\n",
    "    html = BeautifulSoup(raw.text, 'html.parser')\n",
    "    titles = html.select(\"tbody tr\")\n",
    "    \n",
    "    for t in titles:\n",
    "        onclick = t.select_one(\"a\").attrs[\"onclick\"]\n",
    "        \n",
    "        #seqnum이 5자리, 4자리, 3자리를 가짐.\n",
    "        if len(onclick) == 39:\n",
    "            seqnum = onclick[9:14]\n",
    "            cbub_code = onclick[18:23]\n",
    "        elif len(onclick) == 38:\n",
    "            seqnum = onclick[9:13]\n",
    "            cbub_code = onclick[17:22]\n",
    "        elif len(onclick) == 37:\n",
    "            seqnum = onclick[9:12]\n",
    "            cbub_code = onclick[16:21]\n",
    "        \n",
    "        url_t = \"https://scourt.go.kr/portal/dcboard/DcNewsViewAction.work?gubun=44&pageSize=5&pageIndex=\"+str(n)+\"&seqnum=\"+seqnum+\"&cbub_code=\"+cbub_code+\"&searchOption=&searchWord=\"\n",
    "        raw_t = requests.get(url_t, headers={'User-Agent' : 'Mozilla/5.0'})\n",
    "        html_t = BeautifulSoup(raw_t.text, 'html.parser')\n",
    "        \n",
    "        \n",
    "        \n",
    "        title = html_t.select_one(\"tr td\").text\n",
    "        pdf_link = html_t.select(\"td.attTxt a\")\n",
    "        \n",
    "        if len(pdf_link) > 1 :\n",
    "            print(url_t)\n",
    "            print(title)\n",
    "            court = html_t.select_one(\"tr:nth-of-type(2) td\").text\n",
    "            print(court)\n",
    "            for p in pdf_link:\n",
    "                print(p.text)\n",
    "            num = num + 1\n",
    "            print(num)\n",
    "            print(\"\\n\")"
   ]
  }
 ],
 "metadata": {
  "kernelspec": {
   "display_name": "Python 3",
   "language": "python",
   "name": "python3"
  },
  "language_info": {
   "codemirror_mode": {
    "name": "ipython",
    "version": 3
   },
   "file_extension": ".py",
   "mimetype": "text/x-python",
   "name": "python",
   "nbconvert_exporter": "python",
   "pygments_lexer": "ipython3",
   "version": "3.7.7"
  }
 },
 "nbformat": 4,
 "nbformat_minor": 4
}
