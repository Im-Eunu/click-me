{
 "cells": [
  {
   "cell_type": "code",
   "execution_count": 52,
   "metadata": {},
   "outputs": [],
   "source": [
    "import os\n",
    "import re\n",
    "import pandas as pd\n",
    "import requests\n",
    "from bs4 import BeautifulSoup\n",
    "from time import sleep\n",
    "\n",
    "df = pd.DataFrame()\n",
    "TT, T, T0, T1, T2, T3, T4 = list(), list(), list(), list(), list(), list(), list()\n",
    "url = \"https://sc.scourt.go.kr/sc/krsc/criterion/criterion_01/murder_01.jsp\"\n",
    "raw = requests.get(url, headers={'User-Agent' : 'Mozilla/5.0'})\n",
    "html = BeautifulSoup(raw.text, 'html.parser')\n",
    "titles = html.select(\"div#container ul:nth-of-type(1) li:nth-of-type(3) ul li\")\n",
    "\n",
    "for t in titles:\n",
    "    \n",
    "    url_t =  'https://sc.scourt.go.kr/' + t.select_one('a').attrs['href']\n",
    "    raw_t = requests.get(url_t, headers={'User-Agent' : 'Mozilla/5.0'})\n",
    "    html_t = BeautifulSoup(raw_t.text, 'html.parser')\n",
    "    \n",
    "    title = t.select_one('a').text\n",
    "\n",
    "    if '·' in title:\n",
    "        if html_t.select(\"div#tabs-0 ol li ul.cirList01\"):\n",
    "            continue\n",
    "        sub = html_t.select(\"div#tabs-0 ol li\")\n",
    "        tables = html_t.select(\"div#tabs-0 div table\")\n",
    "        for i in range(len(sub)):\n",
    "            cont = tables[2*i].select('tr td')\n",
    "            try:\n",
    "                tt, t, t0, t1, t2, t3, t4= title.replace('범죄 양형기준', ''), sub[i].text, cont[0].text, cont[1].text, cont[2].text, cont[3].text, cont[4].text\n",
    "            except:\n",
    "                tt, t, t0, t1, t2, t3, t4= title.replace('범죄 양형기준', ''), sub[i].text, '0', cont[0].text, cont[1].text, cont[2].text, cont[3].text\n",
    "            TT.append(tt);T.append(t);T0.append(t0);T1.append(t1);T2.append(t2);T3.append(t3);T4.append(t4)\n",
    "        continue\n",
    "   \n",
    "    table = html_t.select_one(\"div.tableType01\")\n",
    "    tbody = table.select('table tbody tr')\n",
    "    for tb in tbody:\n",
    "        cont = tb.select('td')\n",
    "        try:\n",
    "            tt, t0, t1, t2, t3, t4= title.replace('범죄 양형기준', ''), cont[0].text, cont[1].text, cont[2].text, cont[3].text, cont[4].text\n",
    "        except:\n",
    "            tt, t0, t1, t2, t3, t4= title.replace('범죄 양형기준', ''), '0', cont[0].text, cont[1].text, cont[2].text, cont[3].text\n",
    "        TT.append(tt);T.append(str());T0.append(t0);T1.append(t1);T2.append(t2);T3.append(t3);T4.append(t4)\n",
    "        \n",
    "df['title'] = TT;df['sub'] = T;df['c0'] = T0;df['c1'] = T1;df['c2'] = T2;df['c3'] = T3;df['c4'] = T4\n",
    "\n",
    "df_name = os.path.join(os.path.dirname(os.getcwd()), 'xlsx_data', f\"{'condition_table'}.xlsx\")\n",
    "df.to_excel(df_name)"
   ]
  },
  {
   "cell_type": "code",
   "execution_count": null,
   "metadata": {},
   "outputs": [],
   "source": []
  }
 ],
 "metadata": {
  "kernelspec": {
   "display_name": "Python 3",
   "language": "python",
   "name": "python3"
  },
  "language_info": {
   "codemirror_mode": {
    "name": "ipython",
    "version": 3
   },
   "file_extension": ".py",
   "mimetype": "text/x-python",
   "name": "python",
   "nbconvert_exporter": "python",
   "pygments_lexer": "ipython3",
   "version": "3.7.7"
  }
 },
 "nbformat": 4,
 "nbformat_minor": 4
}
