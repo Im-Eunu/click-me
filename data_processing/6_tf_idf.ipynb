{
 "cells": [
  {
   "cell_type": "code",
   "execution_count": 3,
   "metadata": {},
   "outputs": [],
   "source": [
    "from sklearn.feature_extraction.text import TfidfVectorizer\n",
    "from collections import defaultdict\n",
    "import nltk\n",
    "import pandas as pd\n",
    "import os\n",
    "from eunjeon import Mecab\n",
    "from ast import literal_eval\n",
    "\n",
    "xname = os.path.join(os.path.dirname(os.getcwd()), 'xlsx_data', f\"{'xlsx_#8_clean_text'}.xlsx\")\n",
    "df = pd.read_excel(xname, index_col=0)\n",
    "mecab = Mecab()\n",
    "corpus = []\n",
    "TEXT = []\n",
    "count = 0\n",
    "\n",
    "for i in range(len(df)):\n",
    "    text = literal_eval(df.loc[i, 'text'])\n",
    "    corpus.append( \". \".join([\" \".join([f for f in mecab.nouns(e) if len(f)>1]) for e in text]))\n",
    "     \n",
    "vectorizer = TfidfVectorizer()\n",
    "sp_matrix = vectorizer.fit_transform(corpus)\n",
    "\n",
    "word2id = defaultdict(lambda : 0)\n",
    "for idx, feature in enumerate(vectorizer.get_feature_names()):\n",
    "    word2id[feature] = idx\n",
    "\n",
    "for i, sent in enumerate(corpus):\n",
    "    \n",
    "    seen = set()\n",
    "    result =  [ token for token in sent.split() if sp_matrix[i, word2id[token]] > 0.02 ]\n",
    "    result =  [x for x in result if not (x in seen or seen.add(x))]\n",
    "    TEXT.append(result)\n",
    "\n",
    "df['text'] = TEXT\n",
    "x2name = os.path.join(os.path.dirname(os.getcwd()), 'xlsx_data', f\"{'xlsx_#9_tf_idf'}.xlsx\")\n",
    "df.to_excel(x2name)"
   ]
  },
  {
   "cell_type": "code",
   "execution_count": null,
   "metadata": {},
   "outputs": [],
   "source": []
  }
 ],
 "metadata": {
  "kernelspec": {
   "display_name": "Python 3",
   "language": "python",
   "name": "python3"
  },
  "language_info": {
   "codemirror_mode": {
    "name": "ipython",
    "version": 3
   },
   "file_extension": ".py",
   "mimetype": "text/x-python",
   "name": "python",
   "nbconvert_exporter": "python",
   "pygments_lexer": "ipython3",
   "version": "3.7.7"
  }
 },
 "nbformat": 4,
 "nbformat_minor": 4
}
