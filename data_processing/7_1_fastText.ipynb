{
 "cells": [
  {
   "cell_type": "code",
   "execution_count": 20,
   "metadata": {},
   "outputs": [],
   "source": [
    "import logging\n",
    "logging.basicConfig(format='%(asctime)s : %(levelname)s : %(message)s', level=logging.INFO)"
   ]
  },
  {
   "cell_type": "code",
   "execution_count": 21,
   "metadata": {},
   "outputs": [
    {
     "name": "stderr",
     "output_type": "stream",
     "text": [
      "2020-08-14 15:46:16,379 : INFO : resetting layer weights\n",
      "2020-08-14 15:46:21,362 : INFO : collecting all words and their counts\n",
      "2020-08-14 15:46:21,362 : INFO : PROGRESS: at sentence #0, processed 0 words, keeping 0 word types\n",
      "2020-08-14 15:46:21,406 : INFO : PROGRESS: at sentence #10000, processed 117494 words, keeping 8898 word types\n",
      "2020-08-14 15:46:21,446 : INFO : PROGRESS: at sentence #20000, processed 241152 words, keeping 12390 word types\n",
      "2020-08-14 15:46:21,483 : INFO : PROGRESS: at sentence #30000, processed 361153 words, keeping 15126 word types\n",
      "2020-08-14 15:46:21,519 : INFO : PROGRESS: at sentence #40000, processed 479225 words, keeping 17207 word types\n",
      "2020-08-14 15:46:21,559 : INFO : PROGRESS: at sentence #50000, processed 595092 words, keeping 19437 word types\n",
      "2020-08-14 15:46:21,599 : INFO : PROGRESS: at sentence #60000, processed 714109 words, keeping 21234 word types\n",
      "2020-08-14 15:46:21,635 : INFO : PROGRESS: at sentence #70000, processed 830101 words, keeping 22976 word types\n",
      "2020-08-14 15:46:21,671 : INFO : PROGRESS: at sentence #80000, processed 943878 words, keeping 24536 word types\n",
      "2020-08-14 15:46:21,707 : INFO : PROGRESS: at sentence #90000, processed 1060833 words, keeping 26014 word types\n",
      "2020-08-14 15:46:21,755 : INFO : PROGRESS: at sentence #100000, processed 1193194 words, keeping 27713 word types\n",
      "2020-08-14 15:46:21,799 : INFO : PROGRESS: at sentence #110000, processed 1318430 words, keeping 29240 word types\n",
      "2020-08-14 15:46:21,836 : INFO : PROGRESS: at sentence #120000, processed 1445988 words, keeping 31008 word types\n",
      "2020-08-14 15:46:21,876 : INFO : PROGRESS: at sentence #130000, processed 1573983 words, keeping 32467 word types\n",
      "2020-08-14 15:46:21,916 : INFO : PROGRESS: at sentence #140000, processed 1700699 words, keeping 33929 word types\n",
      "2020-08-14 15:46:21,960 : INFO : PROGRESS: at sentence #150000, processed 1838756 words, keeping 35274 word types\n",
      "2020-08-14 15:46:22,004 : INFO : PROGRESS: at sentence #160000, processed 1991879 words, keeping 36548 word types\n",
      "2020-08-14 15:46:22,024 : INFO : collected 37166 word types from a corpus of 2052549 raw words and 164073 sentences\n",
      "2020-08-14 15:46:22,024 : INFO : Loading a fresh vocabulary\n",
      "2020-08-14 15:46:22,052 : INFO : effective_min_count=5 retains 15061 unique words (40% of original 37166, drops 22105)\n",
      "2020-08-14 15:46:22,052 : INFO : effective_min_count=5 leaves 2016008 word corpus (98% of original 2052549, drops 36541)\n",
      "2020-08-14 15:46:22,088 : INFO : deleting the raw counts dictionary of 37166 items\n",
      "2020-08-14 15:46:22,088 : INFO : sample=0.001 downsamples 6 most-common words\n",
      "2020-08-14 15:46:22,088 : INFO : downsampling leaves estimated 2000055 word corpus (99.2% of prior 2016008)\n",
      "2020-08-14 15:46:22,160 : INFO : estimated required memory for 15061 words, 58432 buckets and 128 dimensions: 54129172 bytes\n",
      "2020-08-14 15:46:22,164 : INFO : resetting layer weights\n",
      "2020-08-14 15:46:27,000 : INFO : training model with 3 workers on 15061 vocabulary and 128 features, using sg=0 hs=0 sample=0.001 negative=5 window=5\n",
      "2020-08-14 15:46:30,467 : INFO : EPOCH 1 - PROGRESS: at 37.00% examples, 195578 words/s, in_qsize -1, out_qsize 1\n",
      "2020-08-14 15:46:30,467 : INFO : worker thread finished; awaiting finish of 2 more threads\n",
      "2020-08-14 15:46:30,483 : INFO : worker thread finished; awaiting finish of 1 more threads\n",
      "2020-08-14 15:46:30,487 : INFO : worker thread finished; awaiting finish of 0 more threads\n",
      "2020-08-14 15:46:30,487 : INFO : EPOCH - 1 : training on 2066810 raw words (2013916 effective words) took 3.5s, 580601 effective words/s\n",
      "2020-08-14 15:46:33,833 : INFO : EPOCH 2 - PROGRESS: at 36.81% examples, 202425 words/s, in_qsize -1, out_qsize 1\n",
      "2020-08-14 15:46:33,833 : INFO : worker thread finished; awaiting finish of 2 more threads\n",
      "2020-08-14 15:46:33,849 : INFO : worker thread finished; awaiting finish of 1 more threads\n",
      "2020-08-14 15:46:33,877 : INFO : worker thread finished; awaiting finish of 0 more threads\n",
      "2020-08-14 15:46:33,877 : INFO : EPOCH - 2 : training on 2066810 raw words (2014025 effective words) took 3.4s, 598560 effective words/s\n",
      "2020-08-14 15:46:36,378 : INFO : EPOCH 3 - PROGRESS: at 32.57% examples, 268820 words/s, in_qsize -1, out_qsize 1\n",
      "2020-08-14 15:46:36,378 : INFO : worker thread finished; awaiting finish of 2 more threads\n",
      "2020-08-14 15:46:36,395 : INFO : worker thread finished; awaiting finish of 1 more threads\n",
      "2020-08-14 15:46:36,419 : INFO : worker thread finished; awaiting finish of 0 more threads\n",
      "2020-08-14 15:46:36,419 : INFO : EPOCH - 3 : training on 2066810 raw words (2013894 effective words) took 2.5s, 798413 effective words/s\n",
      "2020-08-14 15:46:38,891 : INFO : EPOCH 4 - PROGRESS: at 32.57% examples, 271736 words/s, in_qsize -1, out_qsize 1\n",
      "2020-08-14 15:46:38,891 : INFO : worker thread finished; awaiting finish of 2 more threads\n",
      "2020-08-14 15:46:38,931 : INFO : worker thread finished; awaiting finish of 1 more threads\n",
      "2020-08-14 15:46:38,987 : INFO : worker thread finished; awaiting finish of 0 more threads\n",
      "2020-08-14 15:46:38,987 : INFO : EPOCH - 4 : training on 2066810 raw words (2013721 effective words) took 2.6s, 789535 effective words/s\n",
      "2020-08-14 15:46:41,569 : INFO : EPOCH 5 - PROGRESS: at 37.00% examples, 262985 words/s, in_qsize -1, out_qsize 1\n",
      "2020-08-14 15:46:41,569 : INFO : worker thread finished; awaiting finish of 2 more threads\n",
      "2020-08-14 15:46:41,599 : INFO : worker thread finished; awaiting finish of 1 more threads\n",
      "2020-08-14 15:46:41,663 : INFO : worker thread finished; awaiting finish of 0 more threads\n",
      "2020-08-14 15:46:41,663 : INFO : EPOCH - 5 : training on 2066810 raw words (2013816 effective words) took 2.7s, 757249 effective words/s\n",
      "2020-08-14 15:46:41,667 : INFO : training on a 10334050 raw words (10069372 effective words) took 14.7s, 686598 effective words/s\n",
      "2020-08-14 15:46:41,667 : WARNING : under 10 jobs per worker: consider setting a smaller `batch_words' for smoother alpha decay\n"
     ]
    },
    {
     "name": "stdout",
     "output_type": "stream",
     "text": [
      "<gensim.models.fasttext.FastText object at 0x00000206A5D48B08>\n"
     ]
    }
   ],
   "source": [
    "from pprint import pprint as print\n",
    "from gensim.models.fasttext import FastText as FT_gensim\n",
    "\n",
    "# Set file names for train and test data\n",
    "corpus_file = open('corpus.txt', encoding='utf-8')\n",
    "\n",
    "model = FT_gensim(size=128)\n",
    "\n",
    "# build the vocabulary\n",
    "model.build_vocab(corpus_file=corpus_file)\n",
    "\n",
    "# train the model\n",
    "model.train(\n",
    "    corpus_file='corpus.txt', epochs=model.epochs,\n",
    "    total_examples=model.corpus_count, total_words=model.corpus_total_words\n",
    ")\n",
    "\n",
    "print(model)"
   ]
  },
  {
   "cell_type": "code",
   "execution_count": 22,
   "metadata": {},
   "outputs": [
    {
     "name": "stderr",
     "output_type": "stream",
     "text": [
      "2020-08-14 15:47:03,113 : INFO : storing 15061x128 projection weights into ft_0814t.txt\n",
      "2020-08-14 15:47:04,482 : INFO : saving FastText object under ft_0814.model, separately None\n",
      "2020-08-14 15:47:04,482 : INFO : storing np array 'vectors_ngrams' to ft_0814.model.wv.vectors_ngrams.npy\n",
      "2020-08-14 15:47:06,526 : INFO : not storing attribute vectors_norm\n",
      "2020-08-14 15:47:06,526 : INFO : not storing attribute vectors_vocab_norm\n",
      "2020-08-14 15:47:06,526 : INFO : not storing attribute vectors_ngrams_norm\n",
      "2020-08-14 15:47:06,526 : INFO : not storing attribute buckets_word\n",
      "2020-08-14 15:47:06,526 : INFO : storing np array 'vectors_ngrams_lockf' to ft_0814.model.trainables.vectors_ngrams_lockf.npy\n",
      "2020-08-14 15:47:08,657 : INFO : saved ft_0814.model\n",
      "2020-08-14 15:47:08,657 : INFO : loading FastText object from ft_0814.model\n",
      "2020-08-14 15:47:08,809 : INFO : loading wv recursively from ft_0814.model.wv.* with mmap=None\n",
      "2020-08-14 15:47:08,809 : INFO : loading vectors_ngrams from ft_0814.model.wv.vectors_ngrams.npy with mmap=None\n",
      "2020-08-14 15:47:09,094 : INFO : setting ignored attribute vectors_norm to None\n",
      "2020-08-14 15:47:09,094 : INFO : setting ignored attribute vectors_vocab_norm to None\n",
      "2020-08-14 15:47:09,094 : INFO : setting ignored attribute vectors_ngrams_norm to None\n",
      "2020-08-14 15:47:09,094 : INFO : setting ignored attribute buckets_word to None\n",
      "2020-08-14 15:47:09,094 : INFO : loading vocabulary recursively from ft_0814.model.vocabulary.* with mmap=None\n",
      "2020-08-14 15:47:09,094 : INFO : loading trainables recursively from ft_0814.model.trainables.* with mmap=None\n",
      "2020-08-14 15:47:09,098 : INFO : loading vectors_ngrams_lockf from ft_0814.model.trainables.vectors_ngrams_lockf.npy with mmap=None\n",
      "2020-08-14 15:47:09,426 : INFO : loaded ft_0814.model\n"
     ]
    }
   ],
   "source": [
    "#from gensim.test.utils import common_texts\n",
    "\n",
    "model.wv.save_word2vec_format('ft_0814t.txt')\n",
    "model.save('ft_0814.model')\n",
    "result = FT_gensim.load('ft_0814.model')"
   ]
  },
  {
   "cell_type": "code",
   "execution_count": 23,
   "metadata": {},
   "outputs": [
    {
     "name": "stderr",
     "output_type": "stream",
     "text": [
      "2020-08-14 15:48:26,627 : INFO : precomputing L2-norms of word weight vectors\n",
      "2020-08-14 15:48:26,639 : INFO : precomputing L2-norms of ngram weight vectors\n"
     ]
    },
    {
     "name": "stdout",
     "output_type": "stream",
     "text": [
      "'캡처 - 0.678348'\n",
      "'약도 - 0.672122'\n",
      "'캡쳐 - 0.662122'\n",
      "'촬영 - 0.661058'\n",
      "'사진관 - 0.632930'\n",
      "'나체 - 0.627493'\n",
      "'사진 - 0.614260'\n",
      "'나신 - 0.612521'\n",
      "'영상 - 0.598564'\n",
      "'내사 - 0.587621'\n"
     ]
    }
   ],
   "source": [
    "d = model.wv.most_similar(positive=[\"몰카\"])\n",
    "for (x, y) in d:\n",
    "    print(\"%s - %f\" % (x,y))"
   ]
  },
  {
   "cell_type": "code",
   "execution_count": null,
   "metadata": {},
   "outputs": [],
   "source": []
  }
 ],
 "metadata": {
  "kernelspec": {
   "display_name": "Python 3",
   "language": "python",
   "name": "python3"
  },
  "language_info": {
   "codemirror_mode": {
    "name": "ipython",
    "version": 3
   },
   "file_extension": ".py",
   "mimetype": "text/x-python",
   "name": "python",
   "nbconvert_exporter": "python",
   "pygments_lexer": "ipython3",
   "version": "3.7.7"
  }
 },
 "nbformat": 4,
 "nbformat_minor": 4
}
