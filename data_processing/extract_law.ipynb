{
 "cells": [
  {
   "cell_type": "code",
   "execution_count": 7,
   "metadata": {},
   "outputs": [],
   "source": [
    "import os\n",
    "import openpyxl\n",
    "\n",
    "raw_data = os.path.join(os.path.dirname(os.getcwd()), 'xlsx_data', f\"{'law_list'}.xlsx\")\n",
    "wb = openpyxl.load_workbook(raw_data) \n",
    "ws = wb.worksheets[0] \n",
    "\n",
    "law_list = []\n",
    "for i in range (2, ws.max_row + 1): \n",
    "    s = ws.cell(row = i, column = 2)\n",
    "    law_list.append(str(s.value))"
   ]
  },
  {
   "cell_type": "code",
   "execution_count": 3,
   "metadata": {},
   "outputs": [],
   "source": [
    "import os\n",
    "import re\n",
    "import pandas as pd \n",
    "\n",
    "xname = os.path.join(os.path.dirname(os.getcwd()), 'xlsx_data', f\"{'xlsx_#3_columnize'}.xlsx\")\n",
    "df = pd.read_excel(xname, index_col=0)"
   ]
  },
  {
   "cell_type": "code",
   "execution_count": 237,
   "metadata": {},
   "outputs": [],
   "source": [
    "total_list = list()\n",
    "\n",
    "for i in range(len(df)):\n",
    "    text = df.loc[0, 'body']\n",
    "\n",
    "    this_law = [e for e in law_list if(e in text)] \n",
    "\n",
    "    llist = list()\n",
    "    for l in this_law:\n",
    "        llist.append(re.findall(r\"({})\".format(l) + r\" (제\\s?\\d+\\s?조)\\w?\\d?\"+r\"((?: 제\\s?\\d+?\\s?항)?)\", text))\n",
    "\n",
    "    flat_list = [item for sublist in llist for item in sublist]\n",
    "    res_list = list(set(flat_list))\n",
    "    total_list.append(res_list)\n",
    "\n",
    "df['law'] = total_list\n",
    "x2name = os.path.join(os.path.dirname(os.getcwd()), 'xlsx_data', f\"{'xlsx_#_law'}.xlsx\")\n",
    "df.to_excel(x2name)"
   ]
  },
  {
   "cell_type": "code",
   "execution_count": null,
   "metadata": {},
   "outputs": [],
   "source": []
  }
 ],
 "metadata": {
  "kernelspec": {
   "display_name": "Python 3",
   "language": "python",
   "name": "python3"
  },
  "language_info": {
   "codemirror_mode": {
    "name": "ipython",
    "version": 3
   },
   "file_extension": ".py",
   "mimetype": "text/x-python",
   "name": "python",
   "nbconvert_exporter": "python",
   "pygments_lexer": "ipython3",
   "version": "3.7.7"
  }
 },
 "nbformat": 4,
 "nbformat_minor": 4
}
