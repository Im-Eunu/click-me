{
 "cells": [
  {
   "cell_type": "code",
   "execution_count": 1,
   "metadata": {},
   "outputs": [],
   "source": [
    "import pdftotext\n",
    "import os\n",
    "\n",
    "def text22text(finput):\n",
    "    \n",
    "    fout = os.path.join(os.getcwd(), 'output.txt')\n",
    "    \n",
    "    if '.pdf' in finput:\n",
    "         \n",
    "        with open(finput, \"rb\") as f:\n",
    "            pdf = pdftotext.PDF(f)\n",
    "\n",
    "        with open('output.txt', 'w',-1,'utf-8') as f:\n",
    "            f.write(\"\\n\\n\".join(pdf))\n",
    "    \n",
    "        with open('output.txt', 'r',-1,'utf-8') as f:\n",
    "            text=f.read()\n",
    "            \n",
    "    elif '.HWP' or '.hwp' in finput:\n",
    "        \n",
    "        hwp2txt_cmd = r'hwp5txt --output={} {}'.format(fout, finput)\n",
    "        os.system(hwp2txt_cmd)\n",
    "        with open(fout,'r',encoding='UTF8') as f:\n",
    "            text=f.read()\n",
    "            \n",
    "    return text"
   ]
  },
  {
   "cell_type": "code",
   "execution_count": null,
   "metadata": {},
   "outputs": [],
   "source": [
    "import os\n",
    "import openpyxl\n",
    "\n",
    "def find_law():\n",
    "    raw_data = os.path.join(os.path.dirname(os.getcwd()), 'xlsx_data', f\"{'law_list'}.xlsx\")\n",
    "    wb = openpyxl.load_workbook(raw_data) \n",
    "    ws = wb.worksheets[0] \n",
    "\n",
    "    mr = ws.max_row \n",
    "\n",
    "    law_list = []\n",
    "    for i in range (2, mr + 1): \n",
    "        s = ws.cell(row = i, column = 2)\n",
    "        law_list.append(str(s.value))\n",
    "    \n",
    "    return law_list\n",
    "\n",
    "text = str(txt.value).splitlines()\n",
    "v_text = [] #한 라인 씩 집어 넣는다.\n",
    "for j in range(len(text)):\n",
    "    text[j] = \" \".join(text[j].split())\n",
    "    if not text[j]: #whitespace 지우기\n",
    "        continue\n",
    "    else:\n",
    "        v_text.append(text[j])\n",
    "\n",
    "\n",
    "l_text = [] #단어 단위로 조각낸다.            \n",
    "    for j in range(len(v_text)):\n",
    "        temp = v_text[j].split()\n",
    "        for j in range(len(temp)):\n",
    "            l_text.append(temp[j])\n",
    "    \n",
    "#법령 정보 저장.\n",
    "for j in range(len(l_text)):\n",
    "    if l_text[j] in law_list:\n",
    "        lword = l_text[j]\n",
    "        for k in range(5):\n",
    "            if j+k < len(l_text):\n",
    "                lword = lword + \" \" + l_text[j+k]\n",
    "        info_law.append(lword)"
   ]
  },
  {
   "cell_type": "code",
   "execution_count": 2,
   "metadata": {},
   "outputs": [
    {
     "ename": "FileNotFoundError",
     "evalue": "[Errno 2] No such file or directory: 'C:\\\\Users\\\\A\\\\Documents\\\\GitHub\\\\project\\\\data_processing\\\\output.txt'",
     "output_type": "error",
     "traceback": [
      "\u001b[1;31m---------------------------------------------------------------------------\u001b[0m",
      "\u001b[1;31mFileNotFoundError\u001b[0m                         Traceback (most recent call last)",
      "\u001b[1;32m<ipython-input-2-3e7da6548bb3>\u001b[0m in \u001b[0;36m<module>\u001b[1;34m\u001b[0m\n\u001b[1;32m----> 1\u001b[1;33m \u001b[0mtext\u001b[0m \u001b[1;33m=\u001b[0m \u001b[0mtext22text\u001b[0m\u001b[1;33m(\u001b[0m\u001b[1;34mr'C:\\pgm_file\\[형사]편의점에서 절도한 초등학생의 사진 및 신상정보를 편의점 출입문에 게시한 사안에서 명예훼손을 인정한 판결(대구지법 2017고단6685).hwp'\u001b[0m\u001b[1;33m)\u001b[0m\u001b[1;33m\u001b[0m\u001b[1;33m\u001b[0m\u001b[0m\n\u001b[0m",
      "\u001b[1;32m<ipython-input-1-cd347b63b313>\u001b[0m in \u001b[0;36mtext22text\u001b[1;34m(finput)\u001b[0m\n\u001b[0;32m     21\u001b[0m         \u001b[0mhwp2txt_cmd\u001b[0m \u001b[1;33m=\u001b[0m \u001b[1;34mr'hwp5txt --output={} {}'\u001b[0m\u001b[1;33m.\u001b[0m\u001b[0mformat\u001b[0m\u001b[1;33m(\u001b[0m\u001b[0mfout\u001b[0m\u001b[1;33m,\u001b[0m \u001b[0mfinput\u001b[0m\u001b[1;33m)\u001b[0m\u001b[1;33m\u001b[0m\u001b[1;33m\u001b[0m\u001b[0m\n\u001b[0;32m     22\u001b[0m         \u001b[0mos\u001b[0m\u001b[1;33m.\u001b[0m\u001b[0msystem\u001b[0m\u001b[1;33m(\u001b[0m\u001b[0mhwp2txt_cmd\u001b[0m\u001b[1;33m)\u001b[0m\u001b[1;33m\u001b[0m\u001b[1;33m\u001b[0m\u001b[0m\n\u001b[1;32m---> 23\u001b[1;33m         \u001b[1;32mwith\u001b[0m \u001b[0mopen\u001b[0m\u001b[1;33m(\u001b[0m\u001b[0mfout\u001b[0m\u001b[1;33m,\u001b[0m\u001b[1;34m'r'\u001b[0m\u001b[1;33m,\u001b[0m\u001b[0mencoding\u001b[0m\u001b[1;33m=\u001b[0m\u001b[1;34m'UTF8'\u001b[0m\u001b[1;33m)\u001b[0m \u001b[1;32mas\u001b[0m \u001b[0mf\u001b[0m\u001b[1;33m:\u001b[0m\u001b[1;33m\u001b[0m\u001b[1;33m\u001b[0m\u001b[0m\n\u001b[0m\u001b[0;32m     24\u001b[0m             \u001b[0mtext\u001b[0m\u001b[1;33m=\u001b[0m\u001b[0mf\u001b[0m\u001b[1;33m.\u001b[0m\u001b[0mread\u001b[0m\u001b[1;33m(\u001b[0m\u001b[1;33m)\u001b[0m\u001b[1;33m\u001b[0m\u001b[1;33m\u001b[0m\u001b[0m\n\u001b[0;32m     25\u001b[0m \u001b[1;33m\u001b[0m\u001b[0m\n",
      "\u001b[1;31mFileNotFoundError\u001b[0m: [Errno 2] No such file or directory: 'C:\\\\Users\\\\A\\\\Documents\\\\GitHub\\\\project\\\\data_processing\\\\output.txt'"
     ]
    }
   ],
   "source": [
    "text = text22text(r'C:\\pgm_file\\[형사]편의점에서 절도한 초등학생의 사진 및 신상정보를 편의점 출입문에 게시한 사안에서 명예훼손을 인정한 판결(대구지법 2017고단6685).hwp')"
   ]
  },
  {
   "cell_type": "code",
   "execution_count": null,
   "metadata": {},
   "outputs": [],
   "source": []
  }
 ],
 "metadata": {
  "kernelspec": {
   "display_name": "Python 3",
   "language": "python",
   "name": "python3"
  },
  "language_info": {
   "codemirror_mode": {
    "name": "ipython",
    "version": 3
   },
   "file_extension": ".py",
   "mimetype": "text/x-python",
   "name": "python",
   "nbconvert_exporter": "python",
   "pygments_lexer": "ipython3",
   "version": "3.7.7"
  }
 },
 "nbformat": 4,
 "nbformat_minor": 4
}
