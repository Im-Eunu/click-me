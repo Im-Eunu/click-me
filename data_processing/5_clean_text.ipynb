{
 "cells": [
  {
   "cell_type": "code",
   "execution_count": 9,
   "metadata": {},
   "outputs": [],
   "source": [
    "from soyspacing.countbase import CountSpace\n",
    "\n",
    "model_fname = \"./space-correct.model\"\n",
    "model = CountSpace()\n",
    "model.load_model(model_fname, json_format=False)"
   ]
  },
  {
   "cell_type": "code",
   "execution_count": 22,
   "metadata": {},
   "outputs": [],
   "source": [
    "import os\n",
    "import re\n",
    "import pandas as pd \n",
    "\n",
    "xname = os.path.join(os.path.dirname(os.getcwd()), 'xlsx_data', f\"{'xlsx_#7_dropped'}.xlsx\")\n",
    "df = pd.read_excel(xname, index_col=0)\n",
    "\n",
    "BODY = []\n",
    "tlist = []\n",
    "\n",
    "for i in range(len(df)):\n",
    "    body = df.loc[i, 'body']\n",
    "    try:\n",
    "        body = re.sub(r'[\\(\\[].*?[\\)\\]]', '', body)\n",
    "    except:\n",
    "        BODY.append('')\n",
    "        continue\n",
    "    body = re.sub('【.*】','',body)\n",
    "    body = re.sub('[^0-9가-힣\\.\\n ]+', '', body)\n",
    "    body = re.sub('\\b[가-하]\\.', '', body)\n",
    "    body = body.split('.')\n",
    "    body = [e for e in body if len(e.strip()) > 2]\n",
    "    body = [model.correct(e)[0] for e in body]\n",
    "    rlist = []\n",
    "    for e in body:\n",
    "        result = ''\n",
    "        for f in e.split():\n",
    "            if f.isalpha():\n",
    "                if result == '':\n",
    "                    result = f\n",
    "                else:\n",
    "                    result = result + \" \"+ f\n",
    "        rlist.append(re.sub(r'[0-9]', '', result))\n",
    "    rlist = [e for e in rlist if e]\n",
    "    tlist = tlist + rlist\n",
    "    #BODY.append(body)\n",
    "\n",
    "#df['body'] = BODY\n",
    "#x2name = os.path.join(os.path.dirname(os.getcwd()), 'xlsx_data', f\"{'xlsx_#8_clean_text'}.xlsx\")\n",
    "#df5.to_excel(x2name)"
   ]
  },
  {
   "cell_type": "code",
   "execution_count": null,
   "metadata": {},
   "outputs": [],
   "source": [
    "from konlpy.tag import Hannanum\n",
    "hannanum = Hannanum()\n",
    "text = \" \".join(tlist)\n",
    "text_list = hannanum.nouns(text)\n",
    "word_list = pd.Series(text_list)\n",
    "result = word_list.value_counts().head(20)\n",
    "result"
   ]
  },
  {
   "cell_type": "code",
   "execution_count": null,
   "metadata": {},
   "outputs": [],
   "source": []
  }
 ],
 "metadata": {
  "kernelspec": {
   "display_name": "Python 3",
   "language": "python",
   "name": "python3"
  },
  "language_info": {
   "codemirror_mode": {
    "name": "ipython",
    "version": 3
   },
   "file_extension": ".py",
   "mimetype": "text/x-python",
   "name": "python",
   "nbconvert_exporter": "python",
   "pygments_lexer": "ipython3",
   "version": "3.7.7"
  }
 },
 "nbformat": 4,
 "nbformat_minor": 4
}
