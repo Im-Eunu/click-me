{
 "cells": [
  {
   "cell_type": "code",
   "execution_count": null,
   "metadata": {},
   "outputs": [],
   "source": [
    "import pandas as pd\n",
    "import os\n",
    "from eunjeon import Mecab\n",
    "from ast import literal_eval\n",
    "\n",
    "xname = os.path.join(os.path.dirname(os.getcwd()), 'xlsx_data', f\"{'xlsx_#8_clean_text'}.xlsx\")\n",
    "df = pd.read_excel(xname, index_col=0)\n",
    "mecab = Mecab()\n",
    "corpus = ''\n",
    "for i in range(len(df)):\n",
    "    text = literal_eval(df.loc[i, 'text'])\n",
    "    corpus = corpus + ( \"\\n\".join([\" \".join([f for f in mecab.nouns(e) if len(f)>1]) for e in text]))\n",
    "\n",
    "with open('corpus.txt', 'w',encoding='utf-8') as f:\n",
    "    for c in corpus:\n",
    "        f.write(\"%s\" % c)"
   ]
  },
  {
   "cell_type": "code",
   "execution_count": null,
   "metadata": {},
   "outputs": [],
   "source": [
    "import logging\n",
    "from bs4 import BeautifulSoup\n",
    "from konlpy.tag import Twitter\n",
    "from gensim.models import word2vec\n",
    "from pathlib import Path\n",
    "logging.basicConfig(format='%(asctime)s : %(levelname)s : %(message)s', level=logging.INFO)\n",
    "\n",
    "\n",
    "data = word2vec.LineSentence('corpus.txt')\n",
    "model = word2vec.Word2Vec(size=200, window=2, hs=1, min_count=2, sg=1)\n",
    "model.build_vocab(data)\n",
    "\n",
    "for epoch in range(1):\n",
    "\n",
    "    model.train(data, total_examples=model.corpus_count, epochs=model.iter)\n",
    "\n",
    "    model.alpha -= 0.002 # decrease the learning rate\n",
    "\n",
    "    model.min_alpha = model.alpha # fix the learning rate, no decay\n",
    "\n",
    "model.wv.save_word2vec_format('w2v_0831.txt', binary=False),\n",
    "model.save(\"w2v_0831.model\")"
   ]
  },
  {
   "cell_type": "code",
   "execution_count": null,
   "metadata": {},
   "outputs": [],
   "source": [
    "model = word2vec.Word2Vec.load(\"w2v_0831.model\")\n",
    "d = model.wv.most_similar(positive=[\"병원\"])\n",
    "for (x, y) in d:\n",
    "    print(\"%s - %f\" % (x,y))"
   ]
  }
 ],
 "metadata": {
  "kernelspec": {
   "display_name": "Python 3",
   "language": "python",
   "name": "python3"
  },
  "language_info": {
   "codemirror_mode": {
    "name": "ipython",
    "version": 3
   },
   "file_extension": ".py",
   "mimetype": "text/x-python",
   "name": "python",
   "nbconvert_exporter": "python",
   "pygments_lexer": "ipython3",
   "version": "3.7.7"
  }
 },
 "nbformat": 4,
 "nbformat_minor": 4
}
