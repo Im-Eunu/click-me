{
 "cells": [
  {
   "cell_type": "code",
   "execution_count": 4,
   "metadata": {},
   "outputs": [],
   "source": [
    "import pandas as pd\n",
    "import os\n",
    "from eunjeon import Mecab\n",
    "from ast import literal_eval\n",
    "\n",
    "xname = os.path.join(os.path.dirname(os.getcwd()), 'xlsx_data', f\"{'xlsx_#8_clean_text'}.xlsx\")\n",
    "df = pd.read_excel(xname, index_col=0)\n",
    "mecab = Mecab()\n",
    "corpus = ''\n",
    "for i in range(len(df)):\n",
    "    text = literal_eval(df.loc[i, 'text'])\n",
    "    corpus = corpus + ( \"\\n\".join([\" \".join([f for f in mecab.nouns(e) if len(f)>1]) for e in text]))\n",
    "\n",
    "with open('w2v_corpus.txt', 'w',encoding='utf-8') as f:\n",
    "    for c in corpus:\n",
    "        f.write(\"%s\" % c)"
   ]
  },
  {
   "cell_type": "code",
   "execution_count": 5,
   "metadata": {},
   "outputs": [
    {
     "name": "stderr",
     "output_type": "stream",
     "text": [
      "2020-08-13 15:03:58,759 : INFO : collecting all words and their counts\n",
      "2020-08-13 15:03:58,760 : INFO : PROGRESS: at sentence #0, processed 0 words, keeping 0 word types\n",
      "2020-08-13 15:03:58,799 : INFO : PROGRESS: at sentence #10000, processed 117494 words, keeping 8898 word types\n",
      "2020-08-13 15:03:58,838 : INFO : PROGRESS: at sentence #20000, processed 241152 words, keeping 12390 word types\n",
      "2020-08-13 15:03:58,879 : INFO : PROGRESS: at sentence #30000, processed 361153 words, keeping 15126 word types\n",
      "2020-08-13 15:03:58,917 : INFO : PROGRESS: at sentence #40000, processed 479225 words, keeping 17207 word types\n",
      "2020-08-13 15:03:58,955 : INFO : PROGRESS: at sentence #50000, processed 595092 words, keeping 19437 word types\n",
      "2020-08-13 15:03:59,002 : INFO : PROGRESS: at sentence #60000, processed 714109 words, keeping 21234 word types\n",
      "2020-08-13 15:03:59,043 : INFO : PROGRESS: at sentence #70000, processed 830101 words, keeping 22976 word types\n",
      "2020-08-13 15:03:59,081 : INFO : PROGRESS: at sentence #80000, processed 943878 words, keeping 24536 word types\n",
      "2020-08-13 15:03:59,119 : INFO : PROGRESS: at sentence #90000, processed 1060833 words, keeping 26014 word types\n",
      "2020-08-13 15:03:59,162 : INFO : PROGRESS: at sentence #100000, processed 1193194 words, keeping 27713 word types\n",
      "2020-08-13 15:03:59,203 : INFO : PROGRESS: at sentence #110000, processed 1318430 words, keeping 29240 word types\n",
      "2020-08-13 15:03:59,243 : INFO : PROGRESS: at sentence #120000, processed 1445988 words, keeping 31008 word types\n",
      "2020-08-13 15:03:59,285 : INFO : PROGRESS: at sentence #130000, processed 1573983 words, keeping 32467 word types\n",
      "2020-08-13 15:03:59,327 : INFO : PROGRESS: at sentence #140000, processed 1700699 words, keeping 33929 word types\n",
      "2020-08-13 15:03:59,371 : INFO : PROGRESS: at sentence #150000, processed 1838756 words, keeping 35274 word types\n",
      "2020-08-13 15:03:59,418 : INFO : PROGRESS: at sentence #160000, processed 1991879 words, keeping 36548 word types\n",
      "2020-08-13 15:03:59,437 : INFO : collected 37166 word types from a corpus of 2052549 raw words and 164073 sentences\n",
      "2020-08-13 15:03:59,437 : INFO : Loading a fresh vocabulary\n",
      "2020-08-13 15:03:59,495 : INFO : effective_min_count=2 retains 23751 unique words (63% of original 37166, drops 13415)\n",
      "2020-08-13 15:03:59,496 : INFO : effective_min_count=2 leaves 2039134 word corpus (99% of original 2052549, drops 13415)\n",
      "2020-08-13 15:03:59,548 : INFO : deleting the raw counts dictionary of 37166 items\n",
      "2020-08-13 15:03:59,550 : INFO : sample=0.001 downsamples 5 most-common words\n",
      "2020-08-13 15:03:59,550 : INFO : downsampling leaves estimated 2023428 word corpus (99.2% of prior 2039134)\n",
      "2020-08-13 15:03:59,566 : INFO : constructing a huffman tree from 23751 words\n",
      "2020-08-13 15:04:00,004 : INFO : built huffman tree with maximum node depth 20\n",
      "2020-08-13 15:04:00,047 : INFO : estimated required memory for 23751 words and 128 dimensions: 53107236 bytes\n",
      "2020-08-13 15:04:00,048 : INFO : resetting layer weights\n",
      "C:\\ProgramData\\Anaconda3\\lib\\site-packages\\ipykernel_launcher.py:15: DeprecationWarning: Call to deprecated `iter` (Attribute will be removed in 4.0.0, use self.epochs instead).\n",
      "  from ipykernel import kernelapp as app\n",
      "2020-08-13 15:04:03,506 : INFO : training model with 3 workers on 23751 vocabulary and 128 features, using sg=1 hs=1 sample=0.001 negative=5 window=2\n",
      "2020-08-13 15:04:04,540 : INFO : EPOCH 1 - PROGRESS: at 24.94% examples, 468726 words/s, in_qsize 5, out_qsize 0\n",
      "2020-08-13 15:04:05,547 : INFO : EPOCH 1 - PROGRESS: at 52.80% examples, 492732 words/s, in_qsize 6, out_qsize 0\n",
      "2020-08-13 15:04:06,553 : INFO : EPOCH 1 - PROGRESS: at 76.07% examples, 488485 words/s, in_qsize 5, out_qsize 0\n",
      "2020-08-13 15:04:07,594 : INFO : EPOCH 1 - PROGRESS: at 98.69% examples, 486965 words/s, in_qsize 4, out_qsize 0\n",
      "2020-08-13 15:04:07,608 : INFO : worker thread finished; awaiting finish of 2 more threads\n",
      "2020-08-13 15:04:07,633 : INFO : worker thread finished; awaiting finish of 1 more threads\n",
      "2020-08-13 15:04:07,650 : INFO : worker thread finished; awaiting finish of 0 more threads\n",
      "2020-08-13 15:04:07,651 : INFO : EPOCH - 1 : training on 2052549 raw words (2023538 effective words) took 4.1s, 488640 effective words/s\n",
      "2020-08-13 15:04:08,668 : INFO : EPOCH 2 - PROGRESS: at 23.84% examples, 456223 words/s, in_qsize 6, out_qsize 0\n",
      "2020-08-13 15:04:09,693 : INFO : EPOCH 2 - PROGRESS: at 50.71% examples, 472762 words/s, in_qsize 5, out_qsize 0\n",
      "2020-08-13 15:04:10,700 : INFO : EPOCH 2 - PROGRESS: at 73.71% examples, 471635 words/s, in_qsize 6, out_qsize 1\n",
      "2020-08-13 15:04:11,701 : INFO : EPOCH 2 - PROGRESS: at 95.44% examples, 471803 words/s, in_qsize 6, out_qsize 0\n",
      "2020-08-13 15:04:11,894 : INFO : worker thread finished; awaiting finish of 2 more threads\n",
      "2020-08-13 15:04:11,912 : INFO : worker thread finished; awaiting finish of 1 more threads\n",
      "2020-08-13 15:04:11,935 : INFO : worker thread finished; awaiting finish of 0 more threads\n",
      "2020-08-13 15:04:11,935 : INFO : EPOCH - 2 : training on 2052549 raw words (2023671 effective words) took 4.3s, 472444 effective words/s\n",
      "2020-08-13 15:04:12,969 : INFO : EPOCH 3 - PROGRESS: at 22.16% examples, 420669 words/s, in_qsize 6, out_qsize 0\n",
      "2020-08-13 15:04:13,982 : INFO : EPOCH 3 - PROGRESS: at 47.38% examples, 443208 words/s, in_qsize 5, out_qsize 0\n",
      "2020-08-13 15:04:14,993 : INFO : EPOCH 3 - PROGRESS: at 70.82% examples, 451136 words/s, in_qsize 5, out_qsize 0\n",
      "2020-08-13 15:04:16,010 : INFO : EPOCH 3 - PROGRESS: at 93.02% examples, 454499 words/s, in_qsize 6, out_qsize 0\n",
      "2020-08-13 15:04:16,345 : INFO : worker thread finished; awaiting finish of 2 more threads\n",
      "2020-08-13 15:04:16,361 : INFO : worker thread finished; awaiting finish of 1 more threads\n",
      "2020-08-13 15:04:16,365 : INFO : worker thread finished; awaiting finish of 0 more threads\n",
      "2020-08-13 15:04:16,366 : INFO : EPOCH - 3 : training on 2052549 raw words (2023460 effective words) took 4.4s, 456953 effective words/s\n",
      "2020-08-13 15:04:17,393 : INFO : EPOCH 4 - PROGRESS: at 23.84% examples, 451922 words/s, in_qsize 6, out_qsize 0\n",
      "2020-08-13 15:04:18,428 : INFO : EPOCH 4 - PROGRESS: at 50.71% examples, 468413 words/s, in_qsize 6, out_qsize 0\n",
      "2020-08-13 15:04:19,434 : INFO : EPOCH 4 - PROGRESS: at 73.71% examples, 468895 words/s, in_qsize 6, out_qsize 0\n",
      "2020-08-13 15:04:20,473 : INFO : EPOCH 4 - PROGRESS: at 95.78% examples, 467713 words/s, in_qsize 6, out_qsize 0\n",
      "2020-08-13 15:04:20,640 : INFO : worker thread finished; awaiting finish of 2 more threads\n",
      "2020-08-13 15:04:20,651 : INFO : worker thread finished; awaiting finish of 1 more threads\n",
      "2020-08-13 15:04:20,663 : INFO : worker thread finished; awaiting finish of 0 more threads\n",
      "2020-08-13 15:04:20,664 : INFO : EPOCH - 4 : training on 2052549 raw words (2023465 effective words) took 4.3s, 470976 effective words/s\n",
      "2020-08-13 15:04:21,683 : INFO : EPOCH 5 - PROGRESS: at 23.21% examples, 446261 words/s, in_qsize 5, out_qsize 0\n",
      "2020-08-13 15:04:22,700 : INFO : EPOCH 5 - PROGRESS: at 48.48% examples, 454985 words/s, in_qsize 5, out_qsize 0\n",
      "2020-08-13 15:04:23,719 : INFO : EPOCH 5 - PROGRESS: at 72.28% examples, 461237 words/s, in_qsize 6, out_qsize 0\n",
      "2020-08-13 15:04:24,724 : INFO : EPOCH 5 - PROGRESS: at 94.30% examples, 463406 words/s, in_qsize 6, out_qsize 0\n",
      "2020-08-13 15:04:25,008 : INFO : worker thread finished; awaiting finish of 2 more threads\n",
      "2020-08-13 15:04:25,012 : INFO : worker thread finished; awaiting finish of 1 more threads\n",
      "2020-08-13 15:04:25,038 : INFO : worker thread finished; awaiting finish of 0 more threads\n",
      "2020-08-13 15:04:25,039 : INFO : EPOCH - 5 : training on 2052549 raw words (2023229 effective words) took 4.4s, 462706 effective words/s\n",
      "2020-08-13 15:04:25,040 : INFO : training on a 10262745 raw words (10117363 effective words) took 21.5s, 469851 effective words/s\n",
      "2020-08-13 15:04:25,040 : INFO : storing 23751x128 projection weights into w2v_0813.txt\n",
      "2020-08-13 15:04:27,087 : INFO : saving Word2Vec object under w2v_0813.model, separately None\n",
      "2020-08-13 15:04:27,088 : INFO : not storing attribute vectors_norm\n",
      "2020-08-13 15:04:27,088 : INFO : not storing attribute cum_table\n",
      "2020-08-13 15:04:27,467 : INFO : saved w2v_0813.model\n"
     ]
    },
    {
     "name": "stdout",
     "output_type": "stream",
     "text": [
      "ok\n"
     ]
    }
   ],
   "source": [
    "import logging\n",
    "from bs4 import BeautifulSoup\n",
    "from konlpy.tag import Twitter\n",
    "from gensim.models import word2vec\n",
    "from pathlib import Path\n",
    "logging.basicConfig(format='%(asctime)s : %(levelname)s : %(message)s', level=logging.INFO)\n",
    "\n",
    "\n",
    "data = word2vec.LineSentence('corpus.txt')\n",
    "model = word2vec.Word2Vec(size=128, window=2, hs=1, min_count=2, sg=1)\n",
    "model.build_vocab(data)\n",
    "\n",
    "for epoch in range(1):\n",
    "\n",
    "    model.train(data, total_examples=model.corpus_count, epochs=model.iter)\n",
    "\n",
    "    model.alpha -= 0.002 # decrease the learning rate\n",
    "\n",
    "    model.min_alpha = model.alpha # fix the learning rate, no decay\n",
    "\n",
    "model.wv.save_word2vec_format('w2v_0813.txt', binary=False),\n",
    "model.save(\"w2v_0813.model\")\n",
    "print(\"ok\")"
   ]
  },
  {
   "cell_type": "code",
   "execution_count": 8,
   "metadata": {},
   "outputs": [
    {
     "name": "stderr",
     "output_type": "stream",
     "text": [
      "2020-08-13 15:05:16,485 : INFO : loading Word2Vec object from w2v_0813.model\n",
      "2020-08-13 15:05:16,782 : INFO : loading wv recursively from w2v_0813.model.wv.* with mmap=None\n",
      "2020-08-13 15:05:16,783 : INFO : setting ignored attribute vectors_norm to None\n",
      "2020-08-13 15:05:16,784 : INFO : loading vocabulary recursively from w2v_0813.model.vocabulary.* with mmap=None\n",
      "2020-08-13 15:05:16,785 : INFO : loading trainables recursively from w2v_0813.model.trainables.* with mmap=None\n",
      "2020-08-13 15:05:16,785 : INFO : setting ignored attribute cum_table to None\n",
      "2020-08-13 15:05:16,786 : INFO : loaded w2v_0813.model\n",
      "2020-08-13 15:05:16,849 : INFO : precomputing L2-norms of word weight vectors\n"
     ]
    },
    {
     "name": "stdout",
     "output_type": "stream",
     "text": [
      "응급실 - 0.806244\n",
      "성형외과 - 0.720602\n",
      "신경외과 - 0.716192\n",
      "정형외과 - 0.716138\n",
      "환자 - 0.716089\n",
      "진료실 - 0.696552\n",
      "내원 - 0.694896\n",
      "실려 - 0.679679\n",
      "내과 - 0.679133\n",
      "외과 - 0.676376\n"
     ]
    }
   ],
   "source": [
    "model = word2vec.Word2Vec.load(\"w2v_0813.model\")\n",
    "d = model.wv.most_similar(positive=[\"병원\"])\n",
    "for (x, y) in d:\n",
    "    print(\"%s - %f\" % (x,y))"
   ]
  },
  {
   "cell_type": "code",
   "execution_count": null,
   "metadata": {},
   "outputs": [],
   "source": []
  }
 ],
 "metadata": {
  "kernelspec": {
   "display_name": "Python 3",
   "language": "python",
   "name": "python3"
  },
  "language_info": {
   "codemirror_mode": {
    "name": "ipython",
    "version": 3
   },
   "file_extension": ".py",
   "mimetype": "text/x-python",
   "name": "python",
   "nbconvert_exporter": "python",
   "pygments_lexer": "ipython3",
   "version": "3.7.7"
  }
 },
 "nbformat": 4,
 "nbformat_minor": 4
}
