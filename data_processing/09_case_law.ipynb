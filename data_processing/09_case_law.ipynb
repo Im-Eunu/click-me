{
 "cells": [
  {
   "cell_type": "code",
   "execution_count": 1,
   "metadata": {},
   "outputs": [],
   "source": [
    "import os\n",
    "import re\n",
    "import pandas as pd\n",
    "from ast import literal_eval\n",
    "from difflib import SequenceMatcher\n",
    "import numpy as np\n",
    "\n",
    "df_name = os.path.join(os.path.dirname(os.getcwd()), 'xlsx_data', f\"{'xlsx_#9_tf_idf'}.xlsx\")\n",
    "df = pd.read_excel(df_name, index_col=0)"
   ]
  },
  {
   "cell_type": "code",
   "execution_count": 2,
   "metadata": {
    "scrolled": true
   },
   "outputs": [],
   "source": [
    "cases = list(df[\"case\"])    \n",
    "cases = [item for sublist in cases for item in literal_eval(sublist)]\n",
    "cases = list(set(cases))\n",
    "cases.sort()\n",
    "result = pd.DataFrame(0, index=np.arange(len(df)), columns = cases)\n",
    "result['cid'] = df['cid']\n",
    "cols = result.columns.tolist()\n",
    "cols = cols[-1:] + cols[0:-1]\n",
    "result = result[cols]"
   ]
  },
  {
   "cell_type": "code",
   "execution_count": 3,
   "metadata": {
    "scrolled": true
   },
   "outputs": [],
   "source": [
    "def similar(a, b):\n",
    "    return SequenceMatcher(None, a, b).ratio()\n",
    "\n",
    "for i in range(len(df['case'])):\n",
    "    \n",
    "    cs = literal_eval(df.loc[i, 'case'])\n",
    "    for c in cs:\n",
    "        for j in range(len(cases)):\n",
    "            if similar(c, cases[j]) > 0.8:# 차이 있나 확인해보기\n",
    "                result.at[i, cases[j]] = 1\n",
    "                \n",
    "x2name = os.path.join(os.path.dirname(os.getcwd()), 'xlsx_data', f\"{'xlsx_#10_case'}.xlsx\")\n",
    "result.to_excel(x2name)"
   ]
  },
  {
   "cell_type": "code",
   "execution_count": null,
   "metadata": {},
   "outputs": [],
   "source": []
  },
  {
   "cell_type": "code",
   "execution_count": 4,
   "metadata": {},
   "outputs": [
    {
     "data": {
      "text/plain": [
       "2238"
      ]
     },
     "execution_count": 4,
     "metadata": {},
     "output_type": "execute_result"
    }
   ],
   "source": [
    "laws = list(df[\"law\"])    \n",
    "laws = [item for sublist in laws for item in literal_eval(sublist)]\n",
    "laws = list(set(laws))\n",
    "laws.sort()\n",
    "result = pd.DataFrame(0, index=np.arange(len(df)), columns = laws)\n",
    "result['cid'] = df['cid']\n",
    "cols = result.columns.tolist()\n",
    "cols = cols[-1:] + cols[0:-1]\n",
    "result = result[cols]\n",
    "len(laws)"
   ]
  },
  {
   "cell_type": "code",
   "execution_count": 5,
   "metadata": {},
   "outputs": [],
   "source": [
    "for i in range(len(df['law'])):\n",
    "    \n",
    "    lw = literal_eval(df.loc[i, 'law'])\n",
    "    for l in lw:\n",
    "        for j in range(len(laws)):\n",
    "            if l == laws[j]:\n",
    "                result.at[i, laws[j]] = 1"
   ]
  },
  {
   "cell_type": "code",
   "execution_count": 6,
   "metadata": {},
   "outputs": [
    {
     "name": "stdout",
     "output_type": "stream",
     "text": [
      "1576\n"
     ]
    }
   ],
   "source": [
    "count = 0\n",
    "new_law = list()\n",
    "for i in range(len(laws)):\n",
    "    if len(result[result[laws[i]] == 1]) < 3: # 차이 있나 확인해보기\n",
    "        count+=1\n",
    "    else:\n",
    "        new_law.append(laws[i])\n",
    "print(count)"
   ]
  },
  {
   "cell_type": "code",
   "execution_count": 7,
   "metadata": {},
   "outputs": [],
   "source": [
    "result = pd.DataFrame(0, index=np.arange(len(df)), columns = new_law)\n",
    "result['cid'] = df['cid']\n",
    "cols = result.columns.tolist()\n",
    "cols = cols[-1:] + cols[0:-1]\n",
    "result = result[cols]\n",
    "\n",
    "\n",
    "for i in range(len(df['law'])):\n",
    "    \n",
    "    lw = literal_eval(df.loc[i, 'law'])\n",
    "    for l in lw:\n",
    "        for j in range(len(new_law)):\n",
    "            if l == new_law[j]:\n",
    "                result.at[i, new_law[j]] = 1\n",
    "                \n",
    "x2name = os.path.join(os.path.dirname(os.getcwd()), 'xlsx_data', f\"{'xlsx_#10_law'}.xlsx\")\n",
    "result.to_excel(x2name)"
   ]
  },
  {
   "cell_type": "code",
   "execution_count": 8,
   "metadata": {},
   "outputs": [
    {
     "data": {
      "text/plain": [
       "(662, 687)"
      ]
     },
     "execution_count": 8,
     "metadata": {},
     "output_type": "execute_result"
    }
   ],
   "source": [
    "len(new_law), len(cases)"
   ]
  },
  {
   "cell_type": "code",
   "execution_count": 9,
   "metadata": {},
   "outputs": [],
   "source": [
    "df = df.drop(columns = ['case', 'law'])\n",
    "x2name = os.path.join(os.path.dirname(os.getcwd()), 'xlsx_data', f\"{'xlsx_#10_final'}.xlsx\")\n",
    "df.to_excel(x2name)"
   ]
  },
  {
   "cell_type": "code",
   "execution_count": null,
   "metadata": {},
   "outputs": [],
   "source": []
  }
 ],
 "metadata": {
  "kernelspec": {
   "display_name": "Python 3",
   "language": "python",
   "name": "python3"
  },
  "language_info": {
   "codemirror_mode": {
    "name": "ipython",
    "version": 3
   },
   "file_extension": ".py",
   "mimetype": "text/x-python",
   "name": "python",
   "nbconvert_exporter": "python",
   "pygments_lexer": "ipython3",
   "version": "3.7.7"
  }
 },
 "nbformat": 4,
 "nbformat_minor": 4
}
