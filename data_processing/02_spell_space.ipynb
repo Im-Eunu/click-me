{
 "cells": [
  {
   "cell_type": "code",
   "execution_count": null,
   "metadata": {},
   "outputs": [],
   "source": [
    "from soyspacing.countbase import CountSpace\n",
    "\n",
    "corpus_fname = \"./kowiki.txt\"\n",
    "model_fname = \"./space-correct.model\"\n",
    "\n",
    "model = CountSpace()\n",
    "model.train(corpus_fname)\n",
    "model.save_model(model_fname, json_format=False)"
   ]
  },
  {
   "cell_type": "code",
   "execution_count": 1,
   "metadata": {},
   "outputs": [],
   "source": [
    "from hunspell import Hunspell\n",
    "h = Hunspell('ko', hunspell_data_dir='./')"
   ]
  },
  {
   "cell_type": "code",
   "execution_count": 2,
   "metadata": {},
   "outputs": [],
   "source": [
    "import os\n",
    "import re\n",
    "import pandas as pd \n",
    "from soyspacing.countbase import CountSpace\n",
    "\n",
    "xname = os.path.join(os.path.dirname(os.getcwd()), 'xlsx_data', f\"{'xlsx_#3_columnize'}.xlsx\")\n",
    "df = pd.read_excel(xname, index_col=0)\n",
    "\n",
    "model_fname = \"./space-correct.model\"\n",
    "model = CountSpace()\n",
    "model.load_model(model_fname, json_format=False)\n",
    "\n",
    "final_list = list()\n",
    "for i in range(len(df)):\n",
    "    text = df.loc[i, 'body']\n",
    "    \n",
    "    try:\n",
    "        tlist = text.split('.')\n",
    "    except:\n",
    "        final_list.append('')\n",
    "        continue\n",
    "    #result = list()\n",
    "    #for t in tlist:\n",
    "    #    if not h.spell(t): # False\n",
    "    #        try:\n",
    "    #            result.append(h.suggest(t)[0])\n",
    "    #        except:\n",
    "    #            result.append(t)\n",
    "    #    else:\n",
    "    #        result.append(t)\n",
    "\n",
    "    #res = \" \".join(result)\n",
    "    final_list.append('. '.join([model.correct(t)[0] for t in tlist]))\n",
    "    #final_list.append(model.correct(res)[0])\n",
    "\n",
    "df.drop(columns=['body'])\n",
    "df['body'] = final_list\n",
    "\n",
    "x2name = os.path.join(os.path.dirname(os.getcwd()), 'xlsx_data', f\"{'xlsx_#4_fixed'}.xlsx\")\n",
    "df.to_excel(x2name)"
   ]
  },
  {
   "cell_type": "code",
   "execution_count": null,
   "metadata": {},
   "outputs": [],
   "source": []
  }
 ],
 "metadata": {
  "kernelspec": {
   "display_name": "Python 3",
   "language": "python",
   "name": "python3"
  },
  "language_info": {
   "codemirror_mode": {
    "name": "ipython",
    "version": 3
   },
   "file_extension": ".py",
   "mimetype": "text/x-python",
   "name": "python",
   "nbconvert_exporter": "python",
   "pygments_lexer": "ipython3",
   "version": "3.7.7"
  }
 },
 "nbformat": 4,
 "nbformat_minor": 4
}
